{
 "cells": [
  {
   "cell_type": "markdown",
   "metadata": {},
   "source": [
    "# West Nile Analysis"
   ]
  },
  {
   "cell_type": "code",
   "execution_count": 1,
   "metadata": {},
   "outputs": [
    {
     "name": "stderr",
     "output_type": "stream",
     "text": [
      "/Users/bryancombs/anaconda3/lib/python3.6/site-packages/sklearn/cross_validation.py:41: DeprecationWarning: This module was deprecated in version 0.18 in favor of the model_selection module into which all the refactored classes and functions are moved. Also note that the interface of the new CV iterators are different from that of this module. This module will be removed in 0.20.\n",
      "  \"This module will be removed in 0.20.\", DeprecationWarning)\n",
      "/Users/bryancombs/anaconda3/lib/python3.6/site-packages/sklearn/grid_search.py:42: DeprecationWarning: This module was deprecated in version 0.18 in favor of the model_selection module into which all the refactored classes and functions are moved. This module will be removed in 0.20.\n",
      "  DeprecationWarning)\n"
     ]
    }
   ],
   "source": [
    "import pandas as pd\n",
    "import numpy as np\n",
    "from sklearn.metrics import roc_curve, auc\n",
    "from sklearn.ensemble import RandomForestClassifier, ExtraTreesClassifier,  AdaBoostClassifier\n",
    "from sklearn.cross_validation import train_test_split, KFold, cross_val_score\n",
    "from sklearn.grid_search import GridSearchCV\n",
    "from sklearn.metrics import classification_report, confusion_matrix\n",
    "import matplotlib.pyplot as plt\n",
    "import seaborn as sns\n",
    "\n"
   ]
  },
  {
   "cell_type": "code",
   "execution_count": 2,
   "metadata": {
    "scrolled": true
   },
   "outputs": [],
   "source": [
    "train = pd.read_csv('./data/trainw.csv')\n",
    "test  = pd.read_csv('./data/testw.csv')\n",
    "train.columns = [col.lower().replace(' ', '_') for col in train.columns]\n",
    "test.columns = [col.lower().replace(' ', '_') for col in test.columns]\n",
    "\n",
    "\n",
    "#read cleaned data and bring and trainform all variables to lower_camel_case\n",
    "                    "
   ]
  },
  {
   "cell_type": "code",
   "execution_count": 3,
   "metadata": {
    "scrolled": true
   },
   "outputs": [
    {
     "data": {
      "text/plain": [
       "unnamed:_0                             0\n",
       "index                                  0\n",
       "date                                   0\n",
       "address                                0\n",
       "block                                  0\n",
       "street                                 0\n",
       "trap                                   0\n",
       "addressnumberandstreet                 0\n",
       "latitude                               0\n",
       "longitude                              0\n",
       "addressaccuracy                        0\n",
       "nummosquitos                           0\n",
       "wnvpresent                             0\n",
       "year                                   0\n",
       "month                                  0\n",
       "day                                    0\n",
       "tmax_x                                 0\n",
       "tmin_x                                 0\n",
       "tavg_x                                 0\n",
       "depart_x                               0\n",
       "dewpoint_x                             0\n",
       "wetbulb_x                              0\n",
       "heat_x                                 0\n",
       "cool_x                                 0\n",
       "sunrise_x                              0\n",
       "sunset_x                               0\n",
       "codesum_x                              0\n",
       "depth_x                                0\n",
       "water1_x                               0\n",
       "snowfall_x                             0\n",
       "                                      ..\n",
       "species_culex_tarsalis                 0\n",
       "species_culex_territans                0\n",
       "distance                               0\n",
       "distance_3                             0\n",
       "distance_5                             0\n",
       "dist_species_culex_pipiens             0\n",
       "dist_species_culex_pipiens/restuans    0\n",
       "dist_species_culex_restuans            0\n",
       "dist_species_culex_salinarius          0\n",
       "dist_species_culex_tarsalis            0\n",
       "dist_species_culex_territans           0\n",
       "temp_and_precip_x                      0\n",
       "trap_and_precip_y                      0\n",
       "block_and_precip_x                     0\n",
       "trap_and_temp_x                        0\n",
       "trap_and_temp_y                        0\n",
       "low_sealevel_x                         0\n",
       "low_sealevel_y                         0\n",
       "month_and_dist                         0\n",
       "month_and_sealevel_x                   0\n",
       "month_and_sealevel_y                   0\n",
       "month_dist_temp_x                      0\n",
       "month_dist_3_temp_x                    0\n",
       "month_dist_5_temp_x                    0\n",
       "month_dist_temp_y                      0\n",
       "month_dist_maxtemp_x                   0\n",
       "month_dist_maxtemp_y                   0\n",
       "month_dist_sealevel_x                  0\n",
       "month_dist_sealevel_y                  0\n",
       "cluster                                0\n",
       "Length: 127, dtype: int64"
      ]
     },
     "execution_count": 3,
     "metadata": {},
     "output_type": "execute_result"
    }
   ],
   "source": [
    "train.isnull().sum() \n"
   ]
  },
  {
   "cell_type": "code",
   "execution_count": 6,
   "metadata": {
    "scrolled": true
   },
   "outputs": [
    {
     "data": {
      "text/plain": [
       "Index(['unnamed:_0', 'index', 'date', 'address', 'block', 'street', 'trap',\n",
       "       'addressnumberandstreet', 'latitude', 'longitude',\n",
       "       ...\n",
       "       'month_dist_temp_x', 'month_dist_3_temp_x', 'month_dist_5_temp_x',\n",
       "       'month_dist_temp_y', 'month_dist_maxtemp_x', 'month_dist_maxtemp_y',\n",
       "       'month_dist_sealevel_x', 'month_dist_sealevel_y', 'cluster',\n",
       "       'month_year'],\n",
       "      dtype='object', length=128)"
      ]
     },
     "execution_count": 6,
     "metadata": {},
     "output_type": "execute_result"
    }
   ],
   "source": [
    "train.columns.T"
   ]
  },
  {
   "cell_type": "code",
   "execution_count": 5,
   "metadata": {},
   "outputs": [],
   "source": [
    "train['month_year'] = train['month'] * (train['year'] - 2007)\n",
    "test['month_year'] = test['month'] * (test['year'] - 2007)"
   ]
  },
  {
   "cell_type": "code",
   "execution_count": 261,
   "metadata": {},
   "outputs": [],
   "source": [
    "#included features to set up X and Y from training set\n",
    "# features = [ 'trap', 'block', 'month', 'street', 'tmax_y', \n",
    "#             'tavg_y', 'dewpoint_y',\n",
    "#             'preciptotal_y', 'stnpressure_y',\n",
    "#             'sealevel_y', 'resultspeed_y', 'resultdir_y', 'avgspeed_y', 'distance',\n",
    "#             'dist_species_culex_pipiens',\n",
    "#             'dist_species_culex_pipiens/restuans', 'dist_species_culex_restuans',\n",
    "#             'dist_species_culex_salinarius', \n",
    "#             'dist_species_culex_territans',\n",
    "#             'month_dist_temp_y',\n",
    "#             'month_and_dist', 'distance_3','distance_5'\n",
    "            \n",
    "#            ]\n",
    "\n",
    "#Found by running ada boost feature importance-these had a score above 0\n",
    "features=[  'distance', 'year', 'month_year',\n",
    "       'latitude', 'sunrise_x', 'distance_5', \n",
    "       'resultspeed_y', 'trap', 'street', 'trap_and_temp_x',\n",
    "       'dist_species_culex_pipiens/restuans', \n",
    "       'sealevel_x', 'longitude', 'block_and_precip_x',\n",
    "       'species_culex_territans', 'dist_species_culex_pipiens',\n",
    "       'depart_x',  'tmin_x', \n",
    "       'month_dist_3_temp_x','month_dist_5_temp_x', \n",
    "       ]\n",
    "\n",
    "\n",
    "\n",
    "\n",
    "X = train[features]\n",
    "y = train['wnvpresent']"
   ]
  },
  {
   "cell_type": "code",
   "execution_count": 262,
   "metadata": {},
   "outputs": [],
   "source": [
    "#do a train test split with stratified data due to unbalanced classes\n",
    "\n",
    "X_train, X_test, y_train, y_test = train_test_split(X, y,\n",
    "                                                    random_state = 42,\n",
    "                                                    stratify = y)"
   ]
  },
  {
   "cell_type": "markdown",
   "metadata": {},
   "source": [
    "#### Dealing with unbalanced classes\n",
    "\n",
    "We have unbalanced classes in our data set with only about 5.24% of our observations containing the West Nile Virus.  In order to better predict the minority class which is the class of interest we are oversampling the data where West Nile is present in our training data.  We leave the testing data untouched."
   ]
  },
  {
   "cell_type": "code",
   "execution_count": 263,
   "metadata": {
    "scrolled": false
   },
   "outputs": [
    {
     "data": {
      "text/html": [
       "<div>\n",
       "<style scoped>\n",
       "    .dataframe tbody tr th:only-of-type {\n",
       "        vertical-align: middle;\n",
       "    }\n",
       "\n",
       "    .dataframe tbody tr th {\n",
       "        vertical-align: top;\n",
       "    }\n",
       "\n",
       "    .dataframe thead th {\n",
       "        text-align: right;\n",
       "    }\n",
       "</style>\n",
       "<table border=\"1\" class=\"dataframe\">\n",
       "  <thead>\n",
       "    <tr style=\"text-align: right;\">\n",
       "      <th></th>\n",
       "      <th>distance</th>\n",
       "      <th>year</th>\n",
       "      <th>month_year</th>\n",
       "      <th>latitude</th>\n",
       "      <th>sunrise_x</th>\n",
       "      <th>distance_5</th>\n",
       "      <th>resultspeed_y</th>\n",
       "      <th>trap</th>\n",
       "      <th>street</th>\n",
       "      <th>trap_and_temp_x</th>\n",
       "      <th>...</th>\n",
       "      <th>sealevel_x</th>\n",
       "      <th>longitude</th>\n",
       "      <th>block_and_precip_x</th>\n",
       "      <th>species_culex_territans</th>\n",
       "      <th>dist_species_culex_pipiens</th>\n",
       "      <th>depart_x</th>\n",
       "      <th>tmin_x</th>\n",
       "      <th>month_dist_3_temp_x</th>\n",
       "      <th>month_dist_5_temp_x</th>\n",
       "      <th>wnvpresent</th>\n",
       "    </tr>\n",
       "  </thead>\n",
       "  <tbody>\n",
       "    <tr>\n",
       "      <th>70</th>\n",
       "      <td>0.680102</td>\n",
       "      <td>2007.0</td>\n",
       "      <td>0.0</td>\n",
       "      <td>41.958271</td>\n",
       "      <td>417</td>\n",
       "      <td>1.679011</td>\n",
       "      <td>6.2</td>\n",
       "      <td>90</td>\n",
       "      <td>41</td>\n",
       "      <td>5760</td>\n",
       "      <td>...</td>\n",
       "      <td>29.79</td>\n",
       "      <td>-87.702575</td>\n",
       "      <td>1377</td>\n",
       "      <td>0</td>\n",
       "      <td>0.000000</td>\n",
       "      <td>-9</td>\n",
       "      <td>47</td>\n",
       "      <td>385.784309</td>\n",
       "      <td>564.147680</td>\n",
       "      <td>0.0</td>\n",
       "    </tr>\n",
       "    <tr>\n",
       "      <th>7447</th>\n",
       "      <td>2.384295</td>\n",
       "      <td>2013.0</td>\n",
       "      <td>48.0</td>\n",
       "      <td>41.957799</td>\n",
       "      <td>445</td>\n",
       "      <td>16.403411</td>\n",
       "      <td>6.2</td>\n",
       "      <td>134</td>\n",
       "      <td>131</td>\n",
       "      <td>10854</td>\n",
       "      <td>...</td>\n",
       "      <td>29.95</td>\n",
       "      <td>-87.930995</td>\n",
       "      <td>0</td>\n",
       "      <td>0</td>\n",
       "      <td>0.000000</td>\n",
       "      <td>-2</td>\n",
       "      <td>61</td>\n",
       "      <td>12264.794439</td>\n",
       "      <td>9317.137385</td>\n",
       "      <td>0.0</td>\n",
       "    </tr>\n",
       "    <tr>\n",
       "      <th>4240</th>\n",
       "      <td>2.384295</td>\n",
       "      <td>2009.0</td>\n",
       "      <td>16.0</td>\n",
       "      <td>41.957799</td>\n",
       "      <td>512</td>\n",
       "      <td>17.786117</td>\n",
       "      <td>10.7</td>\n",
       "      <td>134</td>\n",
       "      <td>131</td>\n",
       "      <td>8978</td>\n",
       "      <td>...</td>\n",
       "      <td>30.08</td>\n",
       "      <td>-87.930995</td>\n",
       "      <td>0</td>\n",
       "      <td>0</td>\n",
       "      <td>0.000000</td>\n",
       "      <td>-6</td>\n",
       "      <td>61</td>\n",
       "      <td>9548.254396</td>\n",
       "      <td>9106.491976</td>\n",
       "      <td>0.0</td>\n",
       "    </tr>\n",
       "    <tr>\n",
       "      <th>8059</th>\n",
       "      <td>1.387414</td>\n",
       "      <td>2013.0</td>\n",
       "      <td>54.0</td>\n",
       "      <td>41.801498</td>\n",
       "      <td>522</td>\n",
       "      <td>10.465521</td>\n",
       "      <td>4.3</td>\n",
       "      <td>22</td>\n",
       "      <td>58</td>\n",
       "      <td>1892</td>\n",
       "      <td>...</td>\n",
       "      <td>30.11</td>\n",
       "      <td>-87.763416</td>\n",
       "      <td>2176</td>\n",
       "      <td>0</td>\n",
       "      <td>0.000000</td>\n",
       "      <td>5</td>\n",
       "      <td>57</td>\n",
       "      <td>5128.051343</td>\n",
       "      <td>6781.657481</td>\n",
       "      <td>0.0</td>\n",
       "    </tr>\n",
       "    <tr>\n",
       "      <th>8309</th>\n",
       "      <td>0.939177</td>\n",
       "      <td>2013.0</td>\n",
       "      <td>54.0</td>\n",
       "      <td>41.916265</td>\n",
       "      <td>536</td>\n",
       "      <td>11.952421</td>\n",
       "      <td>7.8</td>\n",
       "      <td>95</td>\n",
       "      <td>0</td>\n",
       "      <td>7980</td>\n",
       "      <td>...</td>\n",
       "      <td>29.87</td>\n",
       "      <td>-87.800515</td>\n",
       "      <td>3430</td>\n",
       "      <td>0</td>\n",
       "      <td>0.939177</td>\n",
       "      <td>14</td>\n",
       "      <td>69</td>\n",
       "      <td>10821.127236</td>\n",
       "      <td>8283.027822</td>\n",
       "      <td>0.0</td>\n",
       "    </tr>\n",
       "  </tbody>\n",
       "</table>\n",
       "<p>5 rows × 21 columns</p>\n",
       "</div>"
      ],
      "text/plain": [
       "      distance    year  month_year   latitude  sunrise_x  distance_5  \\\n",
       "70    0.680102  2007.0         0.0  41.958271        417    1.679011   \n",
       "7447  2.384295  2013.0        48.0  41.957799        445   16.403411   \n",
       "4240  2.384295  2009.0        16.0  41.957799        512   17.786117   \n",
       "8059  1.387414  2013.0        54.0  41.801498        522   10.465521   \n",
       "8309  0.939177  2013.0        54.0  41.916265        536   11.952421   \n",
       "\n",
       "      resultspeed_y  trap  street  trap_and_temp_x     ...      sealevel_x  \\\n",
       "70              6.2    90      41             5760     ...           29.79   \n",
       "7447            6.2   134     131            10854     ...           29.95   \n",
       "4240           10.7   134     131             8978     ...           30.08   \n",
       "8059            4.3    22      58             1892     ...           30.11   \n",
       "8309            7.8    95       0             7980     ...           29.87   \n",
       "\n",
       "      longitude  block_and_precip_x  species_culex_territans  \\\n",
       "70   -87.702575                1377                        0   \n",
       "7447 -87.930995                   0                        0   \n",
       "4240 -87.930995                   0                        0   \n",
       "8059 -87.763416                2176                        0   \n",
       "8309 -87.800515                3430                        0   \n",
       "\n",
       "      dist_species_culex_pipiens  depart_x  tmin_x  month_dist_3_temp_x  \\\n",
       "70                      0.000000        -9      47           385.784309   \n",
       "7447                    0.000000        -2      61         12264.794439   \n",
       "4240                    0.000000        -6      61          9548.254396   \n",
       "8059                    0.000000         5      57          5128.051343   \n",
       "8309                    0.939177        14      69         10821.127236   \n",
       "\n",
       "      month_dist_5_temp_x  wnvpresent  \n",
       "70             564.147680         0.0  \n",
       "7447          9317.137385         0.0  \n",
       "4240          9106.491976         0.0  \n",
       "8059          6781.657481         0.0  \n",
       "8309          8283.027822         0.0  \n",
       "\n",
       "[5 rows x 21 columns]"
      ]
     },
     "execution_count": 263,
     "metadata": {},
     "output_type": "execute_result"
    }
   ],
   "source": [
    "#merging the target variable back onto the training data in order to sample off its value\n",
    "\n",
    "datasets = (X_train, y_train)\n",
    "traincombined = pd.concat(datasets, axis = 1)\n",
    "traincombined.head()"
   ]
  },
  {
   "cell_type": "code",
   "execution_count": 264,
   "metadata": {},
   "outputs": [],
   "source": [
    "#Select West nile cases and generate 5000 samples\n",
    "west_nile = traincombined[traincombined.wnvpresent == 1]\n",
    "extra_west_nile = west_nile.sample(n = 4000, \n",
    "                                   replace = True,\n",
    "                                   random_state = 30,\n",
    "                                   axis = 0)"
   ]
  },
  {
   "cell_type": "code",
   "execution_count": 265,
   "metadata": {},
   "outputs": [],
   "source": [
    "#merge samples onto original data\n",
    "merge = [traincombined, extra_west_nile]\n",
    "trainmerged = pd.concat(merge, axis = 0)"
   ]
  },
  {
   "cell_type": "code",
   "execution_count": 266,
   "metadata": {
    "scrolled": true
   },
   "outputs": [],
   "source": [
    "#Break our training data back into a X and a y\n",
    "X_train = trainmerged[features]\n",
    "y_train = trainmerged['wnvpresent']"
   ]
  },
  {
   "cell_type": "markdown",
   "metadata": {},
   "source": [
    "### Set up our model for grid search evaluation"
   ]
  },
  {
   "cell_type": "code",
   "execution_count": 267,
   "metadata": {
    "scrolled": false
   },
   "outputs": [],
   "source": [
    "ad = AdaBoostClassifier()\n",
    "sd_params = {\n",
    "    'n_estimators'       : [ 150, 200],\n",
    "    'learning_rate'          : [.3, .5]\n",
    "   }\n",
    "\n"
   ]
  },
  {
   "cell_type": "code",
   "execution_count": 268,
   "metadata": {},
   "outputs": [],
   "source": [
    "gs = GridSearchCV(ad, \n",
    "                  param_grid=sd_params,\n",
    "                 scoring = 'recall',\n",
    "                  cv = 4)\n"
   ]
  },
  {
   "cell_type": "code",
   "execution_count": 269,
   "metadata": {},
   "outputs": [
    {
     "name": "stdout",
     "output_type": "stream",
     "text": [
      "Print Train Score :  0.824174912994074\n",
      "Print Test Score  :  0.7096774193548387\n",
      "Print Best Params :  {'learning_rate': 0.5, 'n_estimators': 200}\n"
     ]
    }
   ],
   "source": [
    "gs.fit(X_train, y_train)\n",
    "print(\"Print Train Score : \" , gs.best_score_)\n",
    "print(\"Print Test Score  : \" , gs.score(X_test, y_test))\n",
    "print(\"Print Best Params : \" , gs.best_params_)"
   ]
  },
  {
   "cell_type": "code",
   "execution_count": 270,
   "metadata": {},
   "outputs": [],
   "source": [
    "y_hat = gs.predict(X_test)\n",
    "y_hat_train = gs.predict(X_train)\n",
    "y_hat_prob = gs.predict_proba(X_test)\n"
   ]
  },
  {
   "cell_type": "code",
   "execution_count": 271,
   "metadata": {},
   "outputs": [
    {
     "data": {
      "text/plain": [
       "AdaBoostClassifier(algorithm='SAMME.R', base_estimator=None,\n",
       "          learning_rate=0.3, n_estimators=150, random_state=None)"
      ]
     },
     "execution_count": 271,
     "metadata": {},
     "output_type": "execute_result"
    }
   ],
   "source": [
    "ad1= AdaBoostClassifier(n_estimators= 150, learning_rate=.3)\n",
    "ad1.fit(X_train, y_train)"
   ]
  },
  {
   "cell_type": "code",
   "execution_count": 272,
   "metadata": {},
   "outputs": [
    {
     "data": {
      "text/plain": [
       "array([0.04666667, 0.00666667, 0.06666667, 0.06      , 0.16666667,\n",
       "       0.06666667, 0.04      , 0.00666667, 0.05333333, 0.04      ,\n",
       "       0.05333333, 0.06      , 0.06      , 0.00666667, 0.00666667,\n",
       "       0.05333333, 0.03333333, 0.03333333, 0.06666667, 0.07333333])"
      ]
     },
     "execution_count": 272,
     "metadata": {},
     "output_type": "execute_result"
    }
   ],
   "source": [
    "ad1.feature_importances_"
   ]
  },
  {
   "cell_type": "code",
   "execution_count": 273,
   "metadata": {},
   "outputs": [
    {
     "data": {
      "text/html": [
       "<div>\n",
       "<style scoped>\n",
       "    .dataframe tbody tr th:only-of-type {\n",
       "        vertical-align: middle;\n",
       "    }\n",
       "\n",
       "    .dataframe tbody tr th {\n",
       "        vertical-align: top;\n",
       "    }\n",
       "\n",
       "    .dataframe thead th {\n",
       "        text-align: right;\n",
       "    }\n",
       "</style>\n",
       "<table border=\"1\" class=\"dataframe\">\n",
       "  <thead>\n",
       "    <tr style=\"text-align: right;\">\n",
       "      <th></th>\n",
       "      <th>ADA Imp</th>\n",
       "    </tr>\n",
       "  </thead>\n",
       "  <tbody>\n",
       "    <tr>\n",
       "      <th>sunrise_x</th>\n",
       "      <td>0.166667</td>\n",
       "    </tr>\n",
       "    <tr>\n",
       "      <th>month_dist_5_temp_x</th>\n",
       "      <td>0.073333</td>\n",
       "    </tr>\n",
       "    <tr>\n",
       "      <th>month_year</th>\n",
       "      <td>0.066667</td>\n",
       "    </tr>\n",
       "    <tr>\n",
       "      <th>distance_5</th>\n",
       "      <td>0.066667</td>\n",
       "    </tr>\n",
       "    <tr>\n",
       "      <th>month_dist_3_temp_x</th>\n",
       "      <td>0.066667</td>\n",
       "    </tr>\n",
       "    <tr>\n",
       "      <th>sealevel_x</th>\n",
       "      <td>0.060000</td>\n",
       "    </tr>\n",
       "    <tr>\n",
       "      <th>latitude</th>\n",
       "      <td>0.060000</td>\n",
       "    </tr>\n",
       "    <tr>\n",
       "      <th>longitude</th>\n",
       "      <td>0.060000</td>\n",
       "    </tr>\n",
       "    <tr>\n",
       "      <th>dist_species_culex_pipiens</th>\n",
       "      <td>0.053333</td>\n",
       "    </tr>\n",
       "    <tr>\n",
       "      <th>dist_species_culex_pipiens/restuans</th>\n",
       "      <td>0.053333</td>\n",
       "    </tr>\n",
       "    <tr>\n",
       "      <th>street</th>\n",
       "      <td>0.053333</td>\n",
       "    </tr>\n",
       "    <tr>\n",
       "      <th>distance</th>\n",
       "      <td>0.046667</td>\n",
       "    </tr>\n",
       "    <tr>\n",
       "      <th>trap_and_temp_x</th>\n",
       "      <td>0.040000</td>\n",
       "    </tr>\n",
       "    <tr>\n",
       "      <th>resultspeed_y</th>\n",
       "      <td>0.040000</td>\n",
       "    </tr>\n",
       "    <tr>\n",
       "      <th>depart_x</th>\n",
       "      <td>0.033333</td>\n",
       "    </tr>\n",
       "    <tr>\n",
       "      <th>tmin_x</th>\n",
       "      <td>0.033333</td>\n",
       "    </tr>\n",
       "    <tr>\n",
       "      <th>year</th>\n",
       "      <td>0.006667</td>\n",
       "    </tr>\n",
       "    <tr>\n",
       "      <th>block_and_precip_x</th>\n",
       "      <td>0.006667</td>\n",
       "    </tr>\n",
       "    <tr>\n",
       "      <th>species_culex_territans</th>\n",
       "      <td>0.006667</td>\n",
       "    </tr>\n",
       "    <tr>\n",
       "      <th>trap</th>\n",
       "      <td>0.006667</td>\n",
       "    </tr>\n",
       "  </tbody>\n",
       "</table>\n",
       "</div>"
      ],
      "text/plain": [
       "                                      ADA Imp\n",
       "sunrise_x                            0.166667\n",
       "month_dist_5_temp_x                  0.073333\n",
       "month_year                           0.066667\n",
       "distance_5                           0.066667\n",
       "month_dist_3_temp_x                  0.066667\n",
       "sealevel_x                           0.060000\n",
       "latitude                             0.060000\n",
       "longitude                            0.060000\n",
       "dist_species_culex_pipiens           0.053333\n",
       "dist_species_culex_pipiens/restuans  0.053333\n",
       "street                               0.053333\n",
       "distance                             0.046667\n",
       "trap_and_temp_x                      0.040000\n",
       "resultspeed_y                        0.040000\n",
       "depart_x                             0.033333\n",
       "tmin_x                               0.033333\n",
       "year                                 0.006667\n",
       "block_and_precip_x                   0.006667\n",
       "species_culex_territans              0.006667\n",
       "trap                                 0.006667"
      ]
     },
     "execution_count": 273,
     "metadata": {},
     "output_type": "execute_result"
    }
   ],
   "source": [
    "# View Feature Importance from ADA Boost model\n",
    "raw_data={'ADA Imp':ad1.feature_importances_}\n",
    "ada2_df=pd.DataFrame(raw_data,train[features].columns)\n",
    "ada2_df=ada2_df.sort_values('ADA Imp', ascending=False) \n",
    "ada2_df"
   ]
  },
  {
   "cell_type": "code",
   "execution_count": 274,
   "metadata": {},
   "outputs": [
    {
     "data": {
      "text/html": [
       "<div>\n",
       "<style scoped>\n",
       "    .dataframe tbody tr th:only-of-type {\n",
       "        vertical-align: middle;\n",
       "    }\n",
       "\n",
       "    .dataframe tbody tr th {\n",
       "        vertical-align: top;\n",
       "    }\n",
       "\n",
       "    .dataframe thead th {\n",
       "        text-align: right;\n",
       "    }\n",
       "</style>\n",
       "<table border=\"1\" class=\"dataframe\">\n",
       "  <thead>\n",
       "    <tr style=\"text-align: right;\">\n",
       "      <th></th>\n",
       "      <th>ADA Imp</th>\n",
       "    </tr>\n",
       "  </thead>\n",
       "  <tbody>\n",
       "    <tr>\n",
       "      <th>sunrise_x</th>\n",
       "      <td>0.166667</td>\n",
       "    </tr>\n",
       "    <tr>\n",
       "      <th>month_dist_5_temp_x</th>\n",
       "      <td>0.073333</td>\n",
       "    </tr>\n",
       "    <tr>\n",
       "      <th>month_year</th>\n",
       "      <td>0.066667</td>\n",
       "    </tr>\n",
       "    <tr>\n",
       "      <th>distance_5</th>\n",
       "      <td>0.066667</td>\n",
       "    </tr>\n",
       "    <tr>\n",
       "      <th>month_dist_3_temp_x</th>\n",
       "      <td>0.066667</td>\n",
       "    </tr>\n",
       "    <tr>\n",
       "      <th>sealevel_x</th>\n",
       "      <td>0.060000</td>\n",
       "    </tr>\n",
       "    <tr>\n",
       "      <th>latitude</th>\n",
       "      <td>0.060000</td>\n",
       "    </tr>\n",
       "    <tr>\n",
       "      <th>longitude</th>\n",
       "      <td>0.060000</td>\n",
       "    </tr>\n",
       "    <tr>\n",
       "      <th>dist_species_culex_pipiens</th>\n",
       "      <td>0.053333</td>\n",
       "    </tr>\n",
       "    <tr>\n",
       "      <th>dist_species_culex_pipiens/restuans</th>\n",
       "      <td>0.053333</td>\n",
       "    </tr>\n",
       "    <tr>\n",
       "      <th>street</th>\n",
       "      <td>0.053333</td>\n",
       "    </tr>\n",
       "    <tr>\n",
       "      <th>distance</th>\n",
       "      <td>0.046667</td>\n",
       "    </tr>\n",
       "    <tr>\n",
       "      <th>trap_and_temp_x</th>\n",
       "      <td>0.040000</td>\n",
       "    </tr>\n",
       "    <tr>\n",
       "      <th>resultspeed_y</th>\n",
       "      <td>0.040000</td>\n",
       "    </tr>\n",
       "    <tr>\n",
       "      <th>depart_x</th>\n",
       "      <td>0.033333</td>\n",
       "    </tr>\n",
       "    <tr>\n",
       "      <th>tmin_x</th>\n",
       "      <td>0.033333</td>\n",
       "    </tr>\n",
       "    <tr>\n",
       "      <th>year</th>\n",
       "      <td>0.006667</td>\n",
       "    </tr>\n",
       "    <tr>\n",
       "      <th>block_and_precip_x</th>\n",
       "      <td>0.006667</td>\n",
       "    </tr>\n",
       "    <tr>\n",
       "      <th>species_culex_territans</th>\n",
       "      <td>0.006667</td>\n",
       "    </tr>\n",
       "    <tr>\n",
       "      <th>trap</th>\n",
       "      <td>0.006667</td>\n",
       "    </tr>\n",
       "  </tbody>\n",
       "</table>\n",
       "</div>"
      ],
      "text/plain": [
       "                                      ADA Imp\n",
       "sunrise_x                            0.166667\n",
       "month_dist_5_temp_x                  0.073333\n",
       "month_year                           0.066667\n",
       "distance_5                           0.066667\n",
       "month_dist_3_temp_x                  0.066667\n",
       "sealevel_x                           0.060000\n",
       "latitude                             0.060000\n",
       "longitude                            0.060000\n",
       "dist_species_culex_pipiens           0.053333\n",
       "dist_species_culex_pipiens/restuans  0.053333\n",
       "street                               0.053333\n",
       "distance                             0.046667\n",
       "trap_and_temp_x                      0.040000\n",
       "resultspeed_y                        0.040000\n",
       "depart_x                             0.033333\n",
       "tmin_x                               0.033333\n",
       "year                                 0.006667\n",
       "block_and_precip_x                   0.006667\n",
       "species_culex_territans              0.006667\n",
       "trap                                 0.006667"
      ]
     },
     "execution_count": 274,
     "metadata": {},
     "output_type": "execute_result"
    }
   ],
   "source": [
    "ada2_df=ada2_df.loc[ada2_df['ADA Imp'] != 0]\n",
    "ada2_df.loc[ada2_df['ADA Imp'] != 0]"
   ]
  },
  {
   "cell_type": "code",
   "execution_count": 275,
   "metadata": {},
   "outputs": [
    {
     "name": "stdout",
     "output_type": "stream",
     "text": [
      "             precision    recall  f1-score   support\n",
      "\n",
      "        0.0       0.87      0.83      0.85      6079\n",
      "        1.0       0.77      0.83      0.80      4277\n",
      "\n",
      "avg / total       0.83      0.83      0.83     10356\n",
      "\n"
     ]
    }
   ],
   "source": [
    "print(classification_report( y_train, y_hat_train))"
   ]
  },
  {
   "cell_type": "code",
   "execution_count": 276,
   "metadata": {},
   "outputs": [
    {
     "name": "stdout",
     "output_type": "stream",
     "text": [
      "             precision    recall  f1-score   support\n",
      "\n",
      "        0.0       0.98      0.82      0.90      2026\n",
      "        1.0       0.16      0.71      0.26        93\n",
      "\n",
      "avg / total       0.95      0.82      0.87      2119\n",
      "\n"
     ]
    }
   ],
   "source": [
    "print(classification_report(y_test, y_hat))"
   ]
  },
  {
   "cell_type": "code",
   "execution_count": 277,
   "metadata": {
    "scrolled": true
   },
   "outputs": [
    {
     "data": {
      "text/plain": [
       "array([[5018, 1061],\n",
       "       [ 730, 3547]])"
      ]
     },
     "execution_count": 277,
     "metadata": {},
     "output_type": "execute_result"
    }
   ],
   "source": [
    "confusion_matrix(y_train, y_hat_train)"
   ]
  },
  {
   "cell_type": "code",
   "execution_count": 278,
   "metadata": {},
   "outputs": [
    {
     "data": {
      "text/plain": [
       "array([[1670,  356],\n",
       "       [  27,   66]])"
      ]
     },
     "execution_count": 278,
     "metadata": {},
     "output_type": "execute_result"
    }
   ],
   "source": [
    "confusion_matrix(y_test, y_hat)"
   ]
  },
  {
   "cell_type": "code",
   "execution_count": 279,
   "metadata": {},
   "outputs": [
    {
     "data": {
      "text/plain": [
       "0.0    2026\n",
       "1.0      93\n",
       "Name: wnvpresent, dtype: int64"
      ]
     },
     "execution_count": 279,
     "metadata": {},
     "output_type": "execute_result"
    }
   ],
   "source": [
    "y_test.value_counts()"
   ]
  },
  {
   "cell_type": "code",
   "execution_count": 280,
   "metadata": {},
   "outputs": [],
   "source": [
    "X = test[features]\n",
    "predict = (gs.predict(X))\n",
    "predprob = gs.predict_proba(X)"
   ]
  },
  {
   "cell_type": "code",
   "execution_count": 281,
   "metadata": {},
   "outputs": [
    {
     "data": {
      "text/plain": [
       "array([[0.55704576, 0.44295424],\n",
       "       [0.55833992, 0.44166008],\n",
       "       [0.55620886, 0.44379114],\n",
       "       ...,\n",
       "       [0.50336959, 0.49663041],\n",
       "       [0.50336959, 0.49663041],\n",
       "       [0.50336959, 0.49663041]])"
      ]
     },
     "execution_count": 281,
     "metadata": {},
     "output_type": "execute_result"
    }
   ],
   "source": [
    "predprob"
   ]
  },
  {
   "cell_type": "code",
   "execution_count": 282,
   "metadata": {},
   "outputs": [],
   "source": [
    "y_train_pred_proba = gs.predict_proba(X_train)\n",
    "y_train_pred = gs.predict(X_train)\n",
    "y_test_pred_proba = gs.predict_proba(X_test)\n",
    "y_test_pred = gs.predict(X_test)"
   ]
  },
  {
   "cell_type": "code",
   "execution_count": 283,
   "metadata": {},
   "outputs": [],
   "source": [
    "#modifying train and testing data to allow for changing prob thresholds and printing the \n",
    "#roc curves\n",
    "X_train.loc[:, 'actual_y'] = y_train\n",
    "X_train.loc[:, 'predicted_label'] = y_train_pred\n",
    "X_train.loc[:, 'predicted_proba'] = y_train_pred_proba[:, 1]\n"
   ]
  },
  {
   "cell_type": "code",
   "execution_count": 284,
   "metadata": {},
   "outputs": [],
   "source": [
    "X_test.loc[:, 'actual_y'] = y_test\n",
    "X_test.loc[:, 'predicted_label'] = y_test_pred\n",
    "X_test.loc[:, 'predicted_proba'] = y_test_pred_proba[:, 1]\n"
   ]
  },
  {
   "cell_type": "code",
   "execution_count": 285,
   "metadata": {},
   "outputs": [],
   "source": [
    "mask_misclassification = (X_test[X_test['predicted_label'] == 0])\n",
    "misclassifications = (mask_misclassification[mask_misclassification['actual_y'] == 1])\n",
    "misclassifications_df = pd.DataFrame(misclassifications)"
   ]
  },
  {
   "cell_type": "code",
   "execution_count": 286,
   "metadata": {},
   "outputs": [],
   "source": [
    "misclassifications_df.to_csv('../data/misclassifications.csv', index = False)"
   ]
  },
  {
   "cell_type": "code",
   "execution_count": 287,
   "metadata": {},
   "outputs": [
    {
     "name": "stdout",
     "output_type": "stream",
     "text": [
      "Test  0.49\n",
      "[[ 707 1319]\n",
      " [   1   92]]\n",
      " Train  0.49\n",
      "[[2093 3986]\n",
      " [   0 4277]]\n",
      "Test  0.491\n",
      "[[ 758 1268]\n",
      " [   1   92]]\n",
      " Train  0.491\n",
      "[[2222 3857]\n",
      " [   0 4277]]\n",
      "Test  0.492\n",
      "[[ 801 1225]\n",
      " [   2   91]]\n",
      " Train  0.492\n",
      "[[2386 3693]\n",
      " [   0 4277]]\n",
      "Test  0.493\n",
      "[[ 871 1155]\n",
      " [   2   91]]\n",
      " Train  0.493\n",
      "[[2618 3461]\n",
      " [   0 4277]]\n",
      "Test  0.494\n",
      "[[ 963 1063]\n",
      " [   4   89]]\n",
      " Train  0.494\n",
      "[[2868 3211]\n",
      " [   0 4277]]\n",
      "Test  0.495\n",
      "[[1082  944]\n",
      " [   6   87]]\n",
      " Train  0.495\n",
      "[[3197 2882]\n",
      " [  11 4266]]\n",
      "Test  0.496\n",
      "[[1191  835]\n",
      " [   7   86]]\n",
      " Train  0.496\n",
      "[[3604 2475]\n",
      " [  31 4246]]\n",
      "Test  0.497\n",
      "[[1341  685]\n",
      " [   9   84]]\n",
      " Train  0.497\n",
      "[[3971 2108]\n",
      " [ 110 4167]]\n",
      "Test  0.498\n",
      "[[1469  557]\n",
      " [  16   77]]\n",
      " Train  0.498\n",
      "[[4344 1735]\n",
      " [ 225 4052]]\n",
      "Test  0.499\n",
      "[[1562  464]\n",
      " [  18   75]]\n",
      " Train  0.499\n",
      "[[4671 1408]\n",
      " [ 380 3897]]\n"
     ]
    }
   ],
   "source": [
    "#print out confusion matrices from .1 .5 by .02 for Xtest and Xtrain\n",
    "for prob in range(490, 500, 1):\n",
    "    proba = prob/1000\n",
    "    \n",
    "    X_test.loc[:, 'predicted_label']= X_test['predicted_proba'].map(\n",
    "    lambda p: 1 if p > proba else 0)\n",
    "    \n",
    "    X_train.loc[:, 'predicted_label']= X_train['predicted_proba'].map(\n",
    "    lambda p: 1 if p > proba else 0)\n",
    "    \n",
    "    X_test['predicted_label']\n",
    "    print('Test  ' + str(proba))\n",
    "    print(confusion_matrix(y_test, X_test['predicted_label']))\n",
    "    print(' Train  ' + str(proba))\n",
    "    print(confusion_matrix(y_train, X_train['predicted_label']))\n"
   ]
  },
  {
   "cell_type": "code",
   "execution_count": 288,
   "metadata": {},
   "outputs": [],
   "source": [
    "fpr, tpr, _ = roc_curve(y_train, X_train['predicted_proba'])\n",
    "roc_auc = auc(fpr, tpr)\n"
   ]
  },
  {
   "cell_type": "code",
   "execution_count": 289,
   "metadata": {},
   "outputs": [
    {
     "data": {
      "image/png": "[encoded data removed]",
      "text/plain": [
       "<Figure size 864x504 with 1 Axes>"
      ]
     },
     "metadata": {},
     "output_type": "display_data"
    }
   ],
   "source": [
    "# Plot \n",
    "plt.figure(figsize = (12,7))\n",
    "line_width = 3\n",
    "\n",
    "plt.plot(fpr, tpr, lw = line_width, color=\"darkorange\", label = \"ROC Curve %.2f\" % roc_auc)\n",
    "plt.plot([0,1], [0, 1], lw = line_width, linestyle=\"--\", color=\"navy\")\n",
    "\n",
    "plt.xlim([0.0, 1.0])\n",
    "plt.ylim([0.0, 1.05])\n",
    "plt.xlabel('False Positive Rate')\n",
    "plt.ylabel('True Positive Rate')\n",
    "plt.title('ROC')\n",
    "plt.legend(loc=\"lower right\")\n",
    "plt.show()"
   ]
  },
  {
   "cell_type": "code",
   "execution_count": 290,
   "metadata": {},
   "outputs": [],
   "source": [
    "fpr, tpr, _ = roc_curve(y_test, X_test['predicted_proba'])\n",
    "roc_auc = auc(fpr, tpr)"
   ]
  },
  {
   "cell_type": "code",
   "execution_count": 291,
   "metadata": {
    "scrolled": false
   },
   "outputs": [
    {
     "data": {
      "image/png": "[encoded data removed]",
      "text/plain": [
       "<Figure size 864x504 with 1 Axes>"
      ]
     },
     "metadata": {},
     "output_type": "display_data"
    }
   ],
   "source": [
    "# Plot \n",
    "plt.figure(figsize = (12,7))\n",
    "line_width = 3\n",
    "\n",
    "plt.plot(fpr, tpr, lw = line_width, color=\"darkorange\", label = \"ROC Curve %.2f\" % roc_auc)\n",
    "plt.plot([0,1], [0, 1], lw = line_width, linestyle=\"--\", color=\"navy\")\n",
    "\n",
    "plt.xlim([0.0, 1.0])\n",
    "plt.ylim([0.0, 1.05])\n",
    "plt.xlabel('False Positive Rate')\n",
    "plt.ylabel('True Positive Rate')\n",
    "plt.title('ROC')\n",
    "plt.legend(loc=\"lower right\")\n",
    "plt.show()"
   ]
  },
  {
   "cell_type": "code",
   "execution_count": 292,
   "metadata": {},
   "outputs": [],
   "source": [
    "ada_predict = gs.predict(X)\n",
    "ada_proba = gs.predict_proba(X)[:,1]"
   ]
  },
  {
   "cell_type": "code",
   "execution_count": 293,
   "metadata": {},
   "outputs": [
    {
     "data": {
      "text/plain": [
       "array([0.44295424, 0.44166008, 0.44379114, ..., 0.49663041, 0.49663041,\n",
       "       0.49663041])"
      ]
     },
     "execution_count": 293,
     "metadata": {},
     "output_type": "execute_result"
    }
   ],
   "source": [
    "ada_proba"
   ]
  },
  {
   "cell_type": "code",
   "execution_count": 334,
   "metadata": {
    "scrolled": true
   },
   "outputs": [],
   "source": [
    "submissions = pd.DataFrame(ada_predict, columns = ['wnvpresent'])\n",
    "submissions['predproba'] = ada_proba\n",
    "submissions.loc[:, 'wnvpresent']= submissions['predproba'].map(\n",
    "    lambda p: 1 if p > .499999\n",
    "    else 0)"
   ]
  },
  {
   "cell_type": "code",
   "execution_count": 335,
   "metadata": {},
   "outputs": [
    {
     "data": {
      "text/plain": [
       "0    107236\n",
       "1      9057\n",
       "Name: wnvpresent, dtype: int64"
      ]
     },
     "execution_count": 335,
     "metadata": {},
     "output_type": "execute_result"
    }
   ],
   "source": [
    "submissions.wnvpresent.value_counts()"
   ]
  },
  {
   "cell_type": "code",
   "execution_count": 312,
   "metadata": {},
   "outputs": [
    {
     "data": {
      "text/plain": [
       "(116293, 20)"
      ]
     },
     "execution_count": 312,
     "metadata": {},
     "output_type": "execute_result"
    }
   ],
   "source": [
    "X.shape"
   ]
  },
  {
   "cell_type": "code",
   "execution_count": 313,
   "metadata": {},
   "outputs": [],
   "source": [
    "submissions['id'] = [id +1 for id in range(len(submissions))]"
   ]
  },
  {
   "cell_type": "code",
   "execution_count": 314,
   "metadata": {},
   "outputs": [],
   "source": [
    "submissions = submissions[['id','wnvpresent' ]]\n"
   ]
  },
  {
   "cell_type": "code",
   "execution_count": 315,
   "metadata": {},
   "outputs": [],
   "source": [
    "submissions.to_csv('../data/submission.csv', index = False)"
   ]
  }
 ],
 "metadata": {
  "kernelspec": {
   "display_name": "Python 3",
   "language": "python",
   "name": "python3"
  },
  "language_info": {
   "codemirror_mode": {
    "name": "ipython",
    "version": 3
   },
   "file_extension": ".py",
   "mimetype": "text/x-python",
   "name": "python",
   "nbconvert_exporter": "python",
   "pygments_lexer": "ipython3",
   "version": "3.6.4"
  }
 },
 "nbformat": 4,
 "nbformat_minor": 2
}
