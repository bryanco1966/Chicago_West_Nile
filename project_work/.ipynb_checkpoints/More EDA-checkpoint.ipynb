{
 "cells": [
  {
   "cell_type": "markdown",
   "metadata": {},
   "source": [
    "## Feature Interactivity and Engineering"
   ]
  },
  {
   "cell_type": "markdown",
   "metadata": {},
   "source": [
    "We'll use this notebook to dive into feature interactivity and engineering. Below, we load in the appropriate libraries and read in our csvs from the original EDA notebook."
   ]
  },
  {
   "cell_type": "code",
   "execution_count": 11,
   "metadata": {},
   "outputs": [],
   "source": [
    "import pandas as pd\n",
    "import seaborn as sns\n",
    "pd.core.common.is_list_like = pd.api.types.is_list_like\n",
    "import pandas_datareader.data as web\n",
    "from datetime import datetime\n",
    "import matplotlib.pyplot as plt\n",
    "#from geopy.distance import geodesic\n",
    "import time\n",
    "from sklearn.preprocessing import LabelEncoder"
   ]
  },
  {
   "cell_type": "code",
   "execution_count": 12,
   "metadata": {},
   "outputs": [
    {
     "name": "stderr",
     "output_type": "stream",
     "text": [
      "/Users/samlundberg/anaconda3/lib/python3.6/site-packages/IPython/core/interactiveshell.py:2785: DtypeWarning: Columns (20,28,30) have mixed types. Specify dtype option on import or set low_memory=False.\n",
      "  interactivity=interactivity, compiler=compiler, result=result)\n",
      "/Users/samlundberg/anaconda3/lib/python3.6/site-packages/IPython/core/interactiveshell.py:2785: DtypeWarning: Columns (27,28,48) have mixed types. Specify dtype option on import or set low_memory=False.\n",
      "  interactivity=interactivity, compiler=compiler, result=result)\n"
     ]
    }
   ],
   "source": [
    "train = pd.read_csv('./data/trainclean.csv')\n",
    "test = pd.read_csv('./data/testclean.csv')"
   ]
  },
  {
   "cell_type": "markdown",
   "metadata": {},
   "source": [
    "#### There is missing data in the dataset.\n",
    "Many missing values are entered a M, - and T in the data set.  This code sets them all to -1 do distinquish from other data."
   ]
  },
  {
   "cell_type": "code",
   "execution_count": 13,
   "metadata": {},
   "outputs": [],
   "source": [
    "# replace some missing values and T with -1\n",
    "train = train.replace('M', -1)\n",
    "train = train.replace('-', -1)\n",
    "train = train.replace('T', -1)\n",
    "train = train.replace(' T', -1)\n",
    "train = train.replace('  T', -1)"
   ]
  },
  {
   "cell_type": "code",
   "execution_count": 14,
   "metadata": {},
   "outputs": [],
   "source": [
    "# replace some missing values and T with -1\n",
    "test = test.replace('M', -1)\n",
    "test = test.replace('-', -1)\n",
    "test = test.replace('T', -1)\n",
    "test = test.replace(' T', -1)\n",
    "test = test.replace('  T', -1)"
   ]
  },
  {
   "cell_type": "code",
   "execution_count": 15,
   "metadata": {},
   "outputs": [],
   "source": [
    "#train.drop(columns = ['codesum_x', 'codesum_y'], inplace=True)"
   ]
  },
  {
   "cell_type": "markdown",
   "metadata": {},
   "source": [
    "## Encoding Trap, Block, and Street\n",
    "\n",
    "Below, we used LabelEncoder to turn the values from the trap, block, and street columns into meaningful numbers that can be computed as such. LabelEncoder is a preprocessing method that encodes labels with values between 0 and n_classes-1."
   ]
  },
  {
   "cell_type": "code",
   "execution_count": 16,
   "metadata": {},
   "outputs": [],
   "source": [
    "lbl = LabelEncoder()\n",
    "lbl.fit(list(train['trap'].values) + list(test['trap'].values))\n",
    "train['trap'] = lbl.transform(train['trap'].values)\n",
    "test['trap'] = lbl.transform(test['trap'].values)"
   ]
  },
  {
   "cell_type": "code",
   "execution_count": 17,
   "metadata": {},
   "outputs": [],
   "source": [
    "lbl.fit(list(train['block'].values) + list(test['block'].values))\n",
    "train['block'] = lbl.transform(train['block'].values)\n",
    "test['block'] = lbl.transform(test['block'].values)"
   ]
  },
  {
   "cell_type": "code",
   "execution_count": 18,
   "metadata": {},
   "outputs": [],
   "source": [
    "lbl.fit(list(train['street'].values) + list(test['street'].values))\n",
    "train['street'] = lbl.transform(train['street'].values)\n",
    "test['street'] = lbl.transform(test['street'].values)"
   ]
  },
  {
   "cell_type": "code",
   "execution_count": 19,
   "metadata": {},
   "outputs": [],
   "source": [
    "#This is just a shortcut for now. If we rerun the original EDA doc, this row will kick an error out.\n",
    "#test['distance'] = test['distance.1']"
   ]
  },
  {
   "cell_type": "code",
   "execution_count": 20,
   "metadata": {},
   "outputs": [],
   "source": [
    "#test.drop(columns = 'distance.1', inplace=True)"
   ]
  },
  {
   "cell_type": "markdown",
   "metadata": {},
   "source": [
    "## Distance and Species\n",
    "\n",
    "Since vertical transmission of disease -- the transmission of disease from a parent mosquito to its offspring -- is prevalent amongst mosquitoes, we make interactive variables for each species of mosquito and distance. "
   ]
  },
  {
   "cell_type": "code",
   "execution_count": 21,
   "metadata": {},
   "outputs": [],
   "source": [
    "train['dist_species_culex_pipiens'] = train['species_culex_pipiens'] * train['distance']\n",
    "test['dist_species_culex_pipiens'] = test['species_culex_pipiens'] * test['distance']"
   ]
  },
  {
   "cell_type": "code",
   "execution_count": 22,
   "metadata": {},
   "outputs": [],
   "source": [
    "train['dist_species_culex_pipiens/restuans'] = train['species_culex_pipiens/restuans'] * train['distance']\n",
    "test['dist_species_culex_pipiens/restuans'] = test['species_culex_pipiens/restuans'] * test['distance']"
   ]
  },
  {
   "cell_type": "code",
   "execution_count": 23,
   "metadata": {},
   "outputs": [],
   "source": [
    "train['dist_species_culex_restuans'] = train['species_culex_restuans'] * train['distance']\n",
    "test['dist_species_culex_restuans'] = test['species_culex_restuans'] * test['distance']"
   ]
  },
  {
   "cell_type": "code",
   "execution_count": 24,
   "metadata": {},
   "outputs": [],
   "source": [
    "train['dist_species_culex_salinarius'] = train['species_culex_salinarius'] * train['distance']\n",
    "test['dist_species_culex_salinarius'] = test['species_culex_salinarius'] * test['distance']"
   ]
  },
  {
   "cell_type": "code",
   "execution_count": 25,
   "metadata": {},
   "outputs": [],
   "source": [
    "train['dist_species_culex_tarsalis'] = train['species_culex_tarsalis'] * train['distance']\n",
    "test['dist_species_culex_tarsalis'] = test['species_culex_tarsalis'] * test['distance']"
   ]
  },
  {
   "cell_type": "code",
   "execution_count": 26,
   "metadata": {},
   "outputs": [],
   "source": [
    "train['dist_species_culex_territans'] = train['species_culex_territans'] * train['distance']\n",
    "test['dist_species_culex_territans'] = test['species_culex_territans'] * test['distance']"
   ]
  },
  {
   "cell_type": "code",
   "execution_count": 27,
   "metadata": {},
   "outputs": [],
   "source": [
    "test['species_unspecified_culex_dist'] = test['species_unspecified_culex'] * test['distance']"
   ]
  },
  {
   "cell_type": "markdown",
   "metadata": {},
   "source": [
    "## Interaction with Wetbulb"
   ]
  },
  {
   "cell_type": "markdown",
   "metadata": {},
   "source": [
    "Below, we create interaction terms between temperature, trap, block and precipitation (termed \"Wetbulb\"). Water seems like it would be similarly indicative of disease movement to precipitation, but most of the water values are missing from the initial dataset, so we won't use this as part of an interaction term."
   ]
  },
  {
   "cell_type": "markdown",
   "metadata": {},
   "source": [
    "**Temperature and Wetbulb**"
   ]
  },
  {
   "cell_type": "code",
   "execution_count": 28,
   "metadata": {},
   "outputs": [],
   "source": [
    "train['wetbulb_x'] = train['wetbulb_x'].astype(int) #Might want to put this back into original EDA "
   ]
  },
  {
   "cell_type": "code",
   "execution_count": 29,
   "metadata": {},
   "outputs": [],
   "source": [
    "train['temp_and_precip_x'] = train['tmax_x'] * train['wetbulb_x'] \n",
    "test['temp_and_precip_x'] = test['tmax_y'] * test['wetbulb_x'] "
   ]
  },
  {
   "cell_type": "markdown",
   "metadata": {},
   "source": [
    "**Trap and Wetbulb**"
   ]
  },
  {
   "cell_type": "code",
   "execution_count": 30,
   "metadata": {},
   "outputs": [],
   "source": [
    "train['trap_and_precip_y'] = train['trap'] * train['wetbulb_y'] \n",
    "test['trap_and_precip_x'] = test['trap'] * test['wetbulb_x']"
   ]
  },
  {
   "cell_type": "markdown",
   "metadata": {},
   "source": [
    "**Block and Wetbulb**"
   ]
  },
  {
   "cell_type": "code",
   "execution_count": 31,
   "metadata": {},
   "outputs": [],
   "source": [
    "train['block_and_precip_x'] = train['block'] * train['wetbulb_x'] \n",
    "test['block_and_precip_x'] = test['block'] * test['wetbulb_x'] "
   ]
  },
  {
   "cell_type": "markdown",
   "metadata": {},
   "source": [
    "**Trap and Temperature**\n",
    "\n",
    "Since maximum temperature and traps are significant as indicated by feature importance of our Adaboost model, we create a trap and temperature interactive variable here."
   ]
  },
  {
   "cell_type": "code",
   "execution_count": 32,
   "metadata": {},
   "outputs": [],
   "source": [
    "train['trap_and_temp_x'] = train['trap'] * train['tmax_x']\n",
    "test['trap_and_temp_x'] = test['trap'] * test['tmax_x']"
   ]
  },
  {
   "cell_type": "code",
   "execution_count": 33,
   "metadata": {},
   "outputs": [],
   "source": [
    "train['trap_and_temp_y'] = train['trap'] * train['tmax_y']\n",
    "test['trap_and_temp_y'] = test['trap'] * test['tmax_y']"
   ]
  },
  {
   "cell_type": "markdown",
   "metadata": {},
   "source": [
    "## Sealevel Binary Variable Creation by Standard Deviation"
   ]
  },
  {
   "cell_type": "markdown",
   "metadata": {},
   "source": [
    "We called .describe() on our sealevel variables with the idea that mosquitoes gravitate around water and water will pool in areas with low sealevel. We then engineered a term called \"low_sealevel\" that consists only of the lowest standard deviation of sealevel in the grouping."
   ]
  },
  {
   "cell_type": "code",
   "execution_count": 34,
   "metadata": {},
   "outputs": [
    {
     "data": {
      "text/plain": [
       "count    8475.000000\n",
       "mean       29.967791\n",
       "std         0.119335\n",
       "min        29.600000\n",
       "25%        29.890000\n",
       "50%        29.980000\n",
       "75%        30.050000\n",
       "max        30.330000\n",
       "Name: sealevel_x, dtype: float64"
      ]
     },
     "execution_count": 34,
     "metadata": {},
     "output_type": "execute_result"
    }
   ],
   "source": [
    "train['sealevel_x'].describe()"
   ]
  },
  {
   "cell_type": "code",
   "execution_count": 35,
   "metadata": {},
   "outputs": [
    {
     "data": {
      "text/plain": [
       "count    116293.000000\n",
       "mean         29.985536\n",
       "std           0.122456\n",
       "min          29.710000\n",
       "25%          29.890000\n",
       "50%          29.990000\n",
       "75%          30.070000\n",
       "max          30.330000\n",
       "Name: sealevel_x, dtype: float64"
      ]
     },
     "execution_count": 35,
     "metadata": {},
     "output_type": "execute_result"
    }
   ],
   "source": [
    "test['sealevel_x'].describe() "
   ]
  },
  {
   "cell_type": "code",
   "execution_count": 36,
   "metadata": {},
   "outputs": [],
   "source": [
    "for sealevel in train['sealevel_x']:\n",
    "    if sealevel <= 29.89000:\n",
    "        train['low_sealevel_x'] = 1\n",
    "    else:\n",
    "        train['low_sealevel_x'] = 0"
   ]
  },
  {
   "cell_type": "code",
   "execution_count": 37,
   "metadata": {},
   "outputs": [],
   "source": [
    "for sealevel in test['sealevel_x']:\n",
    "    if sealevel <= 29.89000:\n",
    "        test['low_sealevel_x'] = 1\n",
    "    else:\n",
    "        test['low_sealevel_x'] = 0"
   ]
  },
  {
   "cell_type": "code",
   "execution_count": 38,
   "metadata": {},
   "outputs": [
    {
     "data": {
      "text/plain": [
       "count    8475.000000\n",
       "mean       29.955738\n",
       "std         0.121189\n",
       "min        29.590000\n",
       "25%        29.870000\n",
       "50%        29.960000\n",
       "75%        30.050000\n",
       "max        30.330000\n",
       "Name: sealevel_y, dtype: float64"
      ]
     },
     "execution_count": 38,
     "metadata": {},
     "output_type": "execute_result"
    }
   ],
   "source": [
    "train['sealevel_y'].describe()"
   ]
  },
  {
   "cell_type": "code",
   "execution_count": 39,
   "metadata": {},
   "outputs": [
    {
     "data": {
      "text/plain": [
       "count    116293.000000\n",
       "mean         29.970243\n",
       "std           0.123908\n",
       "min          29.690000\n",
       "25%          29.870000\n",
       "50%          29.980000\n",
       "75%          30.050000\n",
       "max          30.310000\n",
       "Name: sealevel_y, dtype: float64"
      ]
     },
     "execution_count": 39,
     "metadata": {},
     "output_type": "execute_result"
    }
   ],
   "source": [
    "test['sealevel_y'].describe()"
   ]
  },
  {
   "cell_type": "code",
   "execution_count": 40,
   "metadata": {},
   "outputs": [],
   "source": [
    "for sealevel in train['sealevel_y']:\n",
    "    if sealevel <= 29.87000:\n",
    "        train['low_sealevel_y'] = 1\n",
    "    else:\n",
    "        train['low_sealevel_y'] = 0"
   ]
  },
  {
   "cell_type": "code",
   "execution_count": 41,
   "metadata": {},
   "outputs": [],
   "source": [
    "for sealevel in test['sealevel_y']:\n",
    "    if sealevel <= 29.87000:\n",
    "        test['low_sealevel_y'] = 1\n",
    "    else:\n",
    "        test['low_sealevel_y'] = 0"
   ]
  },
  {
   "cell_type": "markdown",
   "metadata": {},
   "source": [
    "## Interaction with Month\n",
    "\n",
    "In visualizing the data in Tableau, we can see that the West Nile cases start to be more prolific in the mid summer with fewer cases in the early and late summer, so we thought that distance, amongst other important features, might interact with month."
   ]
  },
  {
   "cell_type": "code",
   "execution_count": 42,
   "metadata": {},
   "outputs": [],
   "source": [
    "train['month_and_dist'] = train['month'] * train['distance']\n",
    "test['month_and_dist'] = test['month'] * test['distance']"
   ]
  },
  {
   "cell_type": "markdown",
   "metadata": {},
   "source": [
    "**Sealevel and Month Interaction**"
   ]
  },
  {
   "cell_type": "markdown",
   "metadata": {},
   "source": [
    "Since month may be a predictor of West Nile cases and sealevel pressure may indicate areas in which water may pool, we thought that month and sealevel might interact."
   ]
  },
  {
   "cell_type": "code",
   "execution_count": 43,
   "metadata": {},
   "outputs": [],
   "source": [
    "train['month_and_sealevel_x'] = train['month'] * train['low_sealevel_x']\n",
    "test['month_and_sealevel_x'] = test['month'] * test['low_sealevel_x']"
   ]
  },
  {
   "cell_type": "code",
   "execution_count": 44,
   "metadata": {},
   "outputs": [],
   "source": [
    "train['month_and_sealevel_y'] = train['month'] * train['low_sealevel_y']\n",
    "test['month_and_sealevel_y'] = test['month'] * test['low_sealevel_y']"
   ]
  },
  {
   "cell_type": "markdown",
   "metadata": {},
   "source": [
    "**Month, Distance, and Temperature**"
   ]
  },
  {
   "cell_type": "code",
   "execution_count": 45,
   "metadata": {},
   "outputs": [],
   "source": [
    "train['month_dist_temp_x'] = train['month'] * train['distance'] * train['tavg_x']\n",
    "test['month_dist_temp_x'] = test['month'] * test['distance'] * test['tavg_x']"
   ]
  },
  {
   "cell_type": "code",
   "execution_count": 46,
   "metadata": {},
   "outputs": [],
   "source": [
    "train['month_dist_temp_y'] = train['month'] * train['distance'] * train['tavg_y']\n",
    "test['month_dist_temp_y'] = test['month'] * test['distance'] * test['tavg_y']"
   ]
  },
  {
   "cell_type": "code",
   "execution_count": 47,
   "metadata": {},
   "outputs": [],
   "source": [
    "train['month_dist_maxtemp_x'] = train['month'] * train['distance'] * train['tmax_x']\n",
    "test['month_dist_maxtemp_x'] = test['month'] * test['distance'] * test['tmax_x']"
   ]
  },
  {
   "cell_type": "code",
   "execution_count": 48,
   "metadata": {},
   "outputs": [],
   "source": [
    "train['month_dist_maxtemp_y'] = train['month'] * train['distance'] * train['tmax_y']\n",
    "test['month_dist_maxtemp_y'] = test['month'] * test['distance'] * test['tmax_y']"
   ]
  },
  {
   "cell_type": "markdown",
   "metadata": {},
   "source": [
    "**Month, Distance, and Sealevel**"
   ]
  },
  {
   "cell_type": "code",
   "execution_count": 49,
   "metadata": {},
   "outputs": [],
   "source": [
    "train['month_dist_sealevel_x'] = train['month'] * train['distance'] * train['low_sealevel_x']\n",
    "test['month_dist_sealevel_x'] = test['month'] * test['distance'] * test['low_sealevel_x']"
   ]
  },
  {
   "cell_type": "code",
   "execution_count": 50,
   "metadata": {},
   "outputs": [],
   "source": [
    "train['month_dist_sealevel_y'] = train['month'] * train['distance'] * train['low_sealevel_y']\n",
    "test['month_dist_sealevel_y'] = test['month'] * test['distance'] * test['low_sealevel_y']"
   ]
  },
  {
   "cell_type": "markdown",
   "metadata": {},
   "source": [
    "**Saving the Next CSV for Analysis Notebook**"
   ]
  },
  {
   "cell_type": "code",
   "execution_count": 51,
   "metadata": {},
   "outputs": [],
   "source": [
    "train.to_csv('./data/trainw.csv')\n",
    "test.to_csv('./data/testw.csv')"
   ]
  },
  {
   "cell_type": "code",
   "execution_count": 52,
   "metadata": {},
   "outputs": [
    {
     "data": {
      "text/plain": [
       "Index(['index', 'date', 'address', 'block', 'street', 'trap',\n",
       "       'addressnumberandstreet', 'latitude', 'longitude', 'addressaccuracy',\n",
       "       'nummosquitos', 'wnvpresent', 'year', 'month', 'day', 'tmax_x',\n",
       "       'tmin_x', 'tavg_x', 'depart_x', 'dewpoint_x', 'wetbulb_x', 'heat_x',\n",
       "       'cool_x', 'sunrise_x', 'sunset_x', 'codesum_x', 'depth_x', 'water1_x',\n",
       "       'snowfall_x', 'preciptotal_x', 'stnpressure_x', 'sealevel_x',\n",
       "       'resultspeed_x', 'resultdir_x', 'avgspeed_x', 'tmax_y', 'tmin_y',\n",
       "       'tavg_y', 'depart_y', 'dewpoint_y', 'wetbulb_y', 'heat_y', 'cool_y',\n",
       "       'sunrise_y', 'sunset_y', 'codesum_y', 'depth_y', 'water1_y',\n",
       "       'snowfall_y', 'preciptotal_y', 'stnpressure_y', 'sealevel_y',\n",
       "       'resultspeed_y', 'resultdir_y', 'avgspeed_y', 'species_culex_pipiens',\n",
       "       'species_culex_pipiens/restuans', 'species_culex_restuans',\n",
       "       'species_culex_salinarius', 'species_culex_tarsalis',\n",
       "       'species_culex_territans', 'distance', 'distance_3', 'distance_5',\n",
       "       'dist_species_culex_pipiens', 'dist_species_culex_pipiens/restuans',\n",
       "       'dist_species_culex_restuans', 'dist_species_culex_salinarius',\n",
       "       'dist_species_culex_tarsalis', 'dist_species_culex_territans',\n",
       "       'temp_and_precip_x', 'trap_and_precip_y', 'block_and_precip_x',\n",
       "       'trap_and_temp_x', 'trap_and_temp_y', 'low_sealevel_x',\n",
       "       'low_sealevel_y', 'month_and_dist', 'month_and_sealevel_x',\n",
       "       'month_and_sealevel_y', 'month_dist_temp_x', 'month_dist_temp_y',\n",
       "       'month_dist_maxtemp_x', 'month_dist_maxtemp_y', 'month_dist_sealevel_x',\n",
       "       'month_dist_sealevel_y'],\n",
       "      dtype='object')"
      ]
     },
     "execution_count": 52,
     "metadata": {},
     "output_type": "execute_result"
    }
   ],
   "source": [
    "train.columns"
   ]
  },
  {
   "cell_type": "code",
   "execution_count": 53,
   "metadata": {},
   "outputs": [
    {
     "data": {
      "text/plain": [
       "Index(['index', 'id', 'date', 'address', 'block', 'street', 'trap',\n",
       "       'addressnumberandstreet', 'latitude', 'longitude', 'addressaccuracy',\n",
       "       'year', 'month', 'day', 'tmax_x', 'tmin_x', 'tavg_x', 'depart_x',\n",
       "       'dewpoint_x', 'wetbulb_x', 'heat_x', 'cool_x', 'sunrise_x', 'sunset_x',\n",
       "       'codesum_x', 'depth_x', 'water1_x', 'snowfall_x', 'preciptotal_x',\n",
       "       'stnpressure_x', 'sealevel_x', 'resultspeed_x', 'resultdir_x',\n",
       "       'avgspeed_x', 'tmax_y', 'tmin_y', 'tavg_y', 'depart_y', 'dewpoint_y',\n",
       "       'wetbulb_y', 'heat_y', 'cool_y', 'sunrise_y', 'sunset_y', 'codesum_y',\n",
       "       'depth_y', 'water1_y', 'snowfall_y', 'preciptotal_y', 'stnpressure_y',\n",
       "       'sealevel_y', 'resultspeed_y', 'resultdir_y', 'avgspeed_y',\n",
       "       'species_culex_pipiens', 'species_culex_pipiens/restuans',\n",
       "       'species_culex_restuans', 'species_culex_salinarius',\n",
       "       'species_culex_tarsalis', 'species_culex_territans',\n",
       "       'species_unspecified_culex', 'distance', 'distance_3', 'distance_5',\n",
       "       'dist_species_culex_pipiens', 'dist_species_culex_pipiens/restuans',\n",
       "       'dist_species_culex_restuans', 'dist_species_culex_salinarius',\n",
       "       'dist_species_culex_tarsalis', 'dist_species_culex_territans',\n",
       "       'species_unspecified_culex_dist', 'temp_and_precip_x',\n",
       "       'trap_and_precip_x', 'block_and_precip_x', 'trap_and_temp_x',\n",
       "       'trap_and_temp_y', 'low_sealevel_x', 'low_sealevel_y', 'month_and_dist',\n",
       "       'month_and_sealevel_x', 'month_and_sealevel_y', 'month_dist_temp_x',\n",
       "       'month_dist_temp_y', 'month_dist_maxtemp_x', 'month_dist_maxtemp_y',\n",
       "       'month_dist_sealevel_x', 'month_dist_sealevel_y'],\n",
       "      dtype='object')"
      ]
     },
     "execution_count": 53,
     "metadata": {},
     "output_type": "execute_result"
    }
   ],
   "source": [
    "test.columns"
   ]
  },
  {
   "cell_type": "code",
   "execution_count": null,
   "metadata": {},
   "outputs": [],
   "source": []
  }
 ],
 "metadata": {
  "kernelspec": {
   "display_name": "Python [default]",
   "language": "python",
   "name": "python3"
  },
  "language_info": {
   "codemirror_mode": {
    "name": "ipython",
    "version": 3
   },
   "file_extension": ".py",
   "mimetype": "text/x-python",
   "name": "python",
   "nbconvert_exporter": "python",
   "pygments_lexer": "ipython3",
   "version": "3.6.5"
  }
 },
 "nbformat": 4,
 "nbformat_minor": 2
}
