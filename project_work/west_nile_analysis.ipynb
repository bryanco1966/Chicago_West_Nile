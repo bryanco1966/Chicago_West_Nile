{
 "cells": [
  {
   "cell_type": "markdown",
   "metadata": {},
   "source": [
    "# West Nile Analysis"
   ]
  },
  {
   "cell_type": "code",
   "execution_count": 40,
   "metadata": {},
   "outputs": [],
   "source": [
    "import pandas as pd\n",
    "import numpy as np\n",
    "from sklearn.metrics import roc_curve, auc\n",
    "from sklearn.ensemble import RandomForestClassifier, ExtraTreesClassifier,  AdaBoostClassifier\n",
    "from sklearn.cross_validation import train_test_split, KFold, cross_val_score\n",
    "from sklearn.grid_search import GridSearchCV\n",
    "from sklearn.metrics import classification_report, confusion_matrix\n",
    "import matplotlib.pyplot as plt\n",
    "import seaborn as sns\n",
    "\n"
   ]
  },
  {
   "cell_type": "code",
   "execution_count": 41,
   "metadata": {
    "scrolled": true
   },
   "outputs": [],
   "source": [
    "train = pd.read_csv('../data/trainw.csv')\n",
    "test  = pd.read_csv('../data/testw.csv')\n",
    "train.columns = [col.lower().replace(' ', '_') for col in train.columns]\n",
    "test.columns = [col.lower().replace(' ', '_') for col in test.columns]\n",
    "\n",
    "\n",
    "#read cleaned data and bring and trainform all variables to lower_camel_case\n",
    "                    "
   ]
  },
  {
   "cell_type": "code",
   "execution_count": 42,
   "metadata": {
    "scrolled": true
   },
   "outputs": [
    {
     "data": {
      "text/plain": [
       "unnamed:_0                             0\n",
       "index                                  0\n",
       "date                                   0\n",
       "address                                0\n",
       "block                                  0\n",
       "street                                 0\n",
       "trap                                   0\n",
       "addressnumberandstreet                 0\n",
       "latitude                               0\n",
       "longitude                              0\n",
       "addressaccuracy                        0\n",
       "nummosquitos                           0\n",
       "wnvpresent                             0\n",
       "year                                   0\n",
       "month                                  0\n",
       "day                                    0\n",
       "tmax_x                                 0\n",
       "tmin_x                                 0\n",
       "tavg_x                                 0\n",
       "depart_x                               0\n",
       "dewpoint_x                             0\n",
       "wetbulb_x                              0\n",
       "heat_x                                 0\n",
       "cool_x                                 0\n",
       "sunrise_x                              0\n",
       "sunset_x                               0\n",
       "codesum_x                              0\n",
       "depth_x                                0\n",
       "water1_x                               0\n",
       "snowfall_x                             0\n",
       "                                      ..\n",
       "species_culex_tarsalis                 0\n",
       "species_culex_territans                0\n",
       "distance                               0\n",
       "distance_3                             0\n",
       "distance_5                             0\n",
       "dist_species_culex_pipiens             0\n",
       "dist_species_culex_pipiens/restuans    0\n",
       "dist_species_culex_restuans            0\n",
       "dist_species_culex_salinarius          0\n",
       "dist_species_culex_tarsalis            0\n",
       "dist_species_culex_territans           0\n",
       "temp_and_precip_x                      0\n",
       "trap_and_precip_y                      0\n",
       "block_and_precip_x                     0\n",
       "trap_and_temp_x                        0\n",
       "trap_and_temp_y                        0\n",
       "low_sealevel_x                         0\n",
       "low_sealevel_y                         0\n",
       "month_and_dist                         0\n",
       "month_and_sealevel_x                   0\n",
       "month_and_sealevel_y                   0\n",
       "month_dist_temp_x                      0\n",
       "month_dist_3_temp_x                    0\n",
       "month_dist_5_temp_x                    0\n",
       "month_dist_temp_y                      0\n",
       "month_dist_maxtemp_x                   0\n",
       "month_dist_maxtemp_y                   0\n",
       "month_dist_sealevel_x                  0\n",
       "month_dist_sealevel_y                  0\n",
       "cluster                                0\n",
       "Length: 127, dtype: int64"
      ]
     },
     "execution_count": 42,
     "metadata": {},
     "output_type": "execute_result"
    }
   ],
   "source": [
    "train.isnull().sum() \n"
   ]
  },
  {
   "cell_type": "code",
   "execution_count": 43,
   "metadata": {
    "scrolled": true
   },
   "outputs": [
    {
     "data": {
      "text/plain": [
       "Index(['preciptotal_y', 'stnpressure_y', 'sealevel_y', 'resultspeed_y',\n",
       "       'resultdir_y', 'avgspeed_y', 'temp_min_both', 'temp_max_both',\n",
       "       'temp_avg_both', 'temp_dew_point_both', 'temp_wet_bulb_both',\n",
       "       'stnpressure_both', 'ht_cool_both', 'temp_min_both1', 'temp_min_both2',\n",
       "       'temp_min_both4', 'temp_min_both7', 'temp_min_both10',\n",
       "       'temp_min_both14', 'temp_max_both1'],\n",
       "      dtype='object')"
      ]
     },
     "execution_count": 43,
     "metadata": {},
     "output_type": "execute_result"
    }
   ],
   "source": [
    "train.columns[50:70]"
   ]
  },
  {
   "cell_type": "code",
   "execution_count": 44,
   "metadata": {},
   "outputs": [],
   "source": [
    "train['month_year'] = train['month'] * (train['year'] - 2007)\n",
    "test['month_year'] = test['month'] * (test['year'] - 2007)"
   ]
  },
  {
   "cell_type": "code",
   "execution_count": 45,
   "metadata": {},
   "outputs": [],
   "source": [
    "#included features to set up X and Y from training set\n",
    "# features = [ 'trap', 'block', 'month', 'street', 'tmax_y', \n",
    "#             'tavg_y', 'dewpoint_y',\n",
    "#             'preciptotal_y', 'stnpressure_y',\n",
    "#             'sealevel_y', 'resultspeed_y', 'resultdir_y', 'avgspeed_y', 'distance',\n",
    "#             'dist_species_culex_pipiens',\n",
    "#             'dist_species_culex_pipiens/restuans', 'dist_species_culex_restuans',\n",
    "#             'dist_species_culex_salinarius', \n",
    "#             'dist_species_culex_territans',\n",
    "#             'month_dist_temp_y',\n",
    "#             'month_and_dist', 'distance_3','distance_5'\n",
    "            \n",
    "#            ]\n",
    "\n",
    "#Found by running ada boost feature importance-these had a score above 0\n",
    "features=[  'distance', 'year', 'month_year',\n",
    "       'latitude', 'sunrise_x', 'distance_5', \n",
    "       'resultspeed_y', 'trap', 'street', 'trap_and_temp_x',\n",
    "       'dist_species_culex_pipiens/restuans', \n",
    "       'sealevel_x', 'longitude', 'block_and_precip_x',\n",
    "       'species_culex_territans', 'dist_species_culex_pipiens',\n",
    "       'depart_x',  'tmin_x', \n",
    "       'month_dist_3_temp_x','month_dist_5_temp_x',\n",
    "       'temp_min_both', 'temp_max_both',\n",
    "       'temp_avg_both', 'temp_dew_point_both', 'temp_wet_bulb_both',\n",
    "       'stnpressure_both', 'ht_cool_both', 'temp_min_both1', 'temp_min_both2',\n",
    "       'temp_min_both4', 'temp_min_both7', 'temp_min_both10',\n",
    "       'temp_min_both14', 'temp_max_both1'\n",
    "       ]\n",
    "\n",
    "\n",
    "\n",
    "\n",
    "X = train[features]\n",
    "y = train['wnvpresent']"
   ]
  },
  {
   "cell_type": "code",
   "execution_count": 46,
   "metadata": {},
   "outputs": [],
   "source": [
    "#do a train test split with stratified data due to unbalanced classes\n",
    "\n",
    "X_train, X_test, y_train, y_test = train_test_split(X, y,\n",
    "                                                    random_state = 42,\n",
    "                                                    stratify = y)"
   ]
  },
  {
   "cell_type": "markdown",
   "metadata": {},
   "source": [
    "#### Dealing with unbalanced classes\n",
    "\n",
    "We have unbalanced classes in our data set with only about 5.24% of our observations containing the West Nile Virus.  In order to better predict the minority class which is the class of interest we are oversampling the data where West Nile is present in our training data.  We leave the testing data untouched."
   ]
  },
  {
   "cell_type": "code",
   "execution_count": 47,
   "metadata": {
    "scrolled": false
   },
   "outputs": [
    {
     "data": {
      "text/html": [
       "<div>\n",
       "<style scoped>\n",
       "    .dataframe tbody tr th:only-of-type {\n",
       "        vertical-align: middle;\n",
       "    }\n",
       "\n",
       "    .dataframe tbody tr th {\n",
       "        vertical-align: top;\n",
       "    }\n",
       "\n",
       "    .dataframe thead th {\n",
       "        text-align: right;\n",
       "    }\n",
       "</style>\n",
       "<table border=\"1\" class=\"dataframe\">\n",
       "  <thead>\n",
       "    <tr style=\"text-align: right;\">\n",
       "      <th></th>\n",
       "      <th>distance</th>\n",
       "      <th>year</th>\n",
       "      <th>month_year</th>\n",
       "      <th>latitude</th>\n",
       "      <th>sunrise_x</th>\n",
       "      <th>distance_5</th>\n",
       "      <th>resultspeed_y</th>\n",
       "      <th>trap</th>\n",
       "      <th>street</th>\n",
       "      <th>trap_and_temp_x</th>\n",
       "      <th>...</th>\n",
       "      <th>stnpressure_both</th>\n",
       "      <th>ht_cool_both</th>\n",
       "      <th>temp_min_both1</th>\n",
       "      <th>temp_min_both2</th>\n",
       "      <th>temp_min_both4</th>\n",
       "      <th>temp_min_both7</th>\n",
       "      <th>temp_min_both10</th>\n",
       "      <th>temp_min_both14</th>\n",
       "      <th>temp_max_both1</th>\n",
       "      <th>wnvpresent</th>\n",
       "    </tr>\n",
       "  </thead>\n",
       "  <tbody>\n",
       "    <tr>\n",
       "      <th>70</th>\n",
       "      <td>0.680102</td>\n",
       "      <td>2007.0</td>\n",
       "      <td>0.0</td>\n",
       "      <td>41.958271</td>\n",
       "      <td>417</td>\n",
       "      <td>1.679011</td>\n",
       "      <td>6.2</td>\n",
       "      <td>90</td>\n",
       "      <td>41</td>\n",
       "      <td>5760</td>\n",
       "      <td>...</td>\n",
       "      <td>29.130</td>\n",
       "      <td>17.0</td>\n",
       "      <td>57</td>\n",
       "      <td>57</td>\n",
       "      <td>57</td>\n",
       "      <td>57</td>\n",
       "      <td>49</td>\n",
       "      <td>49</td>\n",
       "      <td>71</td>\n",
       "      <td>0.0</td>\n",
       "    </tr>\n",
       "    <tr>\n",
       "      <th>7447</th>\n",
       "      <td>2.384295</td>\n",
       "      <td>2013.0</td>\n",
       "      <td>48.0</td>\n",
       "      <td>41.957799</td>\n",
       "      <td>445</td>\n",
       "      <td>2.384295</td>\n",
       "      <td>6.2</td>\n",
       "      <td>134</td>\n",
       "      <td>131</td>\n",
       "      <td>10854</td>\n",
       "      <td>...</td>\n",
       "      <td>29.260</td>\n",
       "      <td>-13.0</td>\n",
       "      <td>63</td>\n",
       "      <td>59</td>\n",
       "      <td>54</td>\n",
       "      <td>54</td>\n",
       "      <td>54</td>\n",
       "      <td>54</td>\n",
       "      <td>75</td>\n",
       "      <td>0.0</td>\n",
       "    </tr>\n",
       "    <tr>\n",
       "      <th>4240</th>\n",
       "      <td>2.384295</td>\n",
       "      <td>2009.0</td>\n",
       "      <td>16.0</td>\n",
       "      <td>41.957799</td>\n",
       "      <td>512</td>\n",
       "      <td>6.970312</td>\n",
       "      <td>10.7</td>\n",
       "      <td>134</td>\n",
       "      <td>131</td>\n",
       "      <td>8978</td>\n",
       "      <td>...</td>\n",
       "      <td>29.385</td>\n",
       "      <td>1.0</td>\n",
       "      <td>63</td>\n",
       "      <td>60</td>\n",
       "      <td>55</td>\n",
       "      <td>55</td>\n",
       "      <td>55</td>\n",
       "      <td>55</td>\n",
       "      <td>72</td>\n",
       "      <td>0.0</td>\n",
       "    </tr>\n",
       "    <tr>\n",
       "      <th>8059</th>\n",
       "      <td>1.387414</td>\n",
       "      <td>2013.0</td>\n",
       "      <td>54.0</td>\n",
       "      <td>41.801498</td>\n",
       "      <td>522</td>\n",
       "      <td>1.726628</td>\n",
       "      <td>4.3</td>\n",
       "      <td>22</td>\n",
       "      <td>58</td>\n",
       "      <td>1892</td>\n",
       "      <td>...</td>\n",
       "      <td>29.410</td>\n",
       "      <td>-16.0</td>\n",
       "      <td>62</td>\n",
       "      <td>59</td>\n",
       "      <td>57</td>\n",
       "      <td>57</td>\n",
       "      <td>57</td>\n",
       "      <td>57</td>\n",
       "      <td>74</td>\n",
       "      <td>0.0</td>\n",
       "    </tr>\n",
       "    <tr>\n",
       "      <th>8309</th>\n",
       "      <td>0.939177</td>\n",
       "      <td>2013.0</td>\n",
       "      <td>54.0</td>\n",
       "      <td>41.916265</td>\n",
       "      <td>536</td>\n",
       "      <td>0.939177</td>\n",
       "      <td>7.8</td>\n",
       "      <td>95</td>\n",
       "      <td>0</td>\n",
       "      <td>7980</td>\n",
       "      <td>...</td>\n",
       "      <td>29.175</td>\n",
       "      <td>-24.0</td>\n",
       "      <td>61</td>\n",
       "      <td>51</td>\n",
       "      <td>51</td>\n",
       "      <td>49</td>\n",
       "      <td>49</td>\n",
       "      <td>49</td>\n",
       "      <td>81</td>\n",
       "      <td>0.0</td>\n",
       "    </tr>\n",
       "  </tbody>\n",
       "</table>\n",
       "<p>5 rows × 35 columns</p>\n",
       "</div>"
      ],
      "text/plain": [
       "      distance    year  month_year   latitude  sunrise_x  distance_5  \\\n",
       "70    0.680102  2007.0         0.0  41.958271        417    1.679011   \n",
       "7447  2.384295  2013.0        48.0  41.957799        445    2.384295   \n",
       "4240  2.384295  2009.0        16.0  41.957799        512    6.970312   \n",
       "8059  1.387414  2013.0        54.0  41.801498        522    1.726628   \n",
       "8309  0.939177  2013.0        54.0  41.916265        536    0.939177   \n",
       "\n",
       "      resultspeed_y  trap  street  trap_and_temp_x     ...      \\\n",
       "70              6.2    90      41             5760     ...       \n",
       "7447            6.2   134     131            10854     ...       \n",
       "4240           10.7   134     131             8978     ...       \n",
       "8059            4.3    22      58             1892     ...       \n",
       "8309            7.8    95       0             7980     ...       \n",
       "\n",
       "      stnpressure_both  ht_cool_both  temp_min_both1  temp_min_both2  \\\n",
       "70              29.130          17.0              57              57   \n",
       "7447            29.260         -13.0              63              59   \n",
       "4240            29.385           1.0              63              60   \n",
       "8059            29.410         -16.0              62              59   \n",
       "8309            29.175         -24.0              61              51   \n",
       "\n",
       "      temp_min_both4  temp_min_both7  temp_min_both10  temp_min_both14  \\\n",
       "70                57              57               49               49   \n",
       "7447              54              54               54               54   \n",
       "4240              55              55               55               55   \n",
       "8059              57              57               57               57   \n",
       "8309              51              49               49               49   \n",
       "\n",
       "      temp_max_both1  wnvpresent  \n",
       "70                71         0.0  \n",
       "7447              75         0.0  \n",
       "4240              72         0.0  \n",
       "8059              74         0.0  \n",
       "8309              81         0.0  \n",
       "\n",
       "[5 rows x 35 columns]"
      ]
     },
     "execution_count": 47,
     "metadata": {},
     "output_type": "execute_result"
    }
   ],
   "source": [
    "#merging the target variable back onto the training data in order to sample off its value\n",
    "\n",
    "datasets = (X_train, y_train)\n",
    "traincombined = pd.concat(datasets, axis = 1)\n",
    "traincombined.head()"
   ]
  },
  {
   "cell_type": "code",
   "execution_count": 48,
   "metadata": {},
   "outputs": [],
   "source": [
    "#Select West nile cases and generate 5000 samples\n",
    "west_nile = traincombined[traincombined.wnvpresent == 1]\n",
    "extra_west_nile = west_nile.sample(n = 4000, \n",
    "                                   replace = True,\n",
    "                                   random_state = 30,\n",
    "                                   axis = 0)"
   ]
  },
  {
   "cell_type": "code",
   "execution_count": 49,
   "metadata": {},
   "outputs": [],
   "source": [
    "#merge samples onto original data\n",
    "merge = [traincombined, extra_west_nile]\n",
    "trainmerged = pd.concat(merge, axis = 0)"
   ]
  },
  {
   "cell_type": "code",
   "execution_count": 50,
   "metadata": {
    "scrolled": true
   },
   "outputs": [],
   "source": [
    "#Break our training data back into a X and a y\n",
    "X_train = trainmerged[features]\n",
    "y_train = trainmerged['wnvpresent']"
   ]
  },
  {
   "cell_type": "markdown",
   "metadata": {},
   "source": [
    "### Set up our model for grid search evaluation"
   ]
  },
  {
   "cell_type": "code",
   "execution_count": 52,
   "metadata": {
    "scrolled": false
   },
   "outputs": [],
   "source": [
    "ad = AdaBoostClassifier()\n",
    "sd_params = {\n",
    "    'n_estimators'       : [ 150, 200, 300],\n",
    "    'learning_rate'          : [.3, .5, .7]\n",
    "   }\n",
    "\n"
   ]
  },
  {
   "cell_type": "code",
   "execution_count": 53,
   "metadata": {},
   "outputs": [],
   "source": [
    "gs = GridSearchCV(ad, \n",
    "                  param_grid=sd_params,\n",
    "                 scoring = 'recall',\n",
    "                  cv = 4)\n"
   ]
  },
  {
   "cell_type": "code",
   "execution_count": 54,
   "metadata": {},
   "outputs": [
    {
     "name": "stdout",
     "output_type": "stream",
     "text": [
      "Print Train Score :  0.8735091773405986\n",
      "Print Test Score  :  0.6881720430107527\n",
      "Print Best Params :  {'learning_rate': 0.7, 'n_estimators': 300}\n"
     ]
    }
   ],
   "source": [
    "gs.fit(X_train, y_train)\n",
    "print(\"Print Train Score : \" , gs.best_score_)\n",
    "print(\"Print Test Score  : \" , gs.score(X_test, y_test))\n",
    "print(\"Print Best Params : \" , gs.best_params_)"
   ]
  },
  {
   "cell_type": "code",
   "execution_count": 18,
   "metadata": {},
   "outputs": [],
   "source": [
    "y_hat = gs.predict(X_test)\n",
    "y_hat_train = gs.predict(X_train)\n",
    "y_hat_prob = gs.predict_proba(X_test)\n"
   ]
  },
  {
   "cell_type": "code",
   "execution_count": 19,
   "metadata": {},
   "outputs": [
    {
     "data": {
      "text/plain": [
       "AdaBoostClassifier(algorithm='SAMME.R', base_estimator=None,\n",
       "          learning_rate=0.3, n_estimators=150, random_state=None)"
      ]
     },
     "execution_count": 19,
     "metadata": {},
     "output_type": "execute_result"
    }
   ],
   "source": [
    "ad1= AdaBoostClassifier(n_estimators= 150, learning_rate=.3)\n",
    "ad1.fit(X_train, y_train)"
   ]
  },
  {
   "cell_type": "code",
   "execution_count": 20,
   "metadata": {},
   "outputs": [
    {
     "data": {
      "text/plain": [
       "array([0.04666667, 0.00666667, 0.01333333, 0.07333333, 0.12      ,\n",
       "       0.10666667, 0.02666667, 0.00666667, 0.04      , 0.05333333,\n",
       "       0.06      , 0.02      , 0.07333333, 0.01333333, 0.00666667,\n",
       "       0.05333333, 0.        , 0.00666667, 0.03333333, 0.10666667,\n",
       "       0.03333333, 0.02666667, 0.00666667, 0.        , 0.01333333,\n",
       "       0.01333333, 0.00666667, 0.00666667, 0.        , 0.00666667,\n",
       "       0.        , 0.        , 0.02      , 0.        ])"
      ]
     },
     "execution_count": 20,
     "metadata": {},
     "output_type": "execute_result"
    }
   ],
   "source": [
    "ad1.feature_importances_"
   ]
  },
  {
   "cell_type": "code",
   "execution_count": 21,
   "metadata": {},
   "outputs": [
    {
     "data": {
      "text/html": [
       "<div>\n",
       "<style scoped>\n",
       "    .dataframe tbody tr th:only-of-type {\n",
       "        vertical-align: middle;\n",
       "    }\n",
       "\n",
       "    .dataframe tbody tr th {\n",
       "        vertical-align: top;\n",
       "    }\n",
       "\n",
       "    .dataframe thead th {\n",
       "        text-align: right;\n",
       "    }\n",
       "</style>\n",
       "<table border=\"1\" class=\"dataframe\">\n",
       "  <thead>\n",
       "    <tr style=\"text-align: right;\">\n",
       "      <th></th>\n",
       "      <th>ADA Imp</th>\n",
       "    </tr>\n",
       "  </thead>\n",
       "  <tbody>\n",
       "    <tr>\n",
       "      <th>sunrise_x</th>\n",
       "      <td>0.120000</td>\n",
       "    </tr>\n",
       "    <tr>\n",
       "      <th>distance_5</th>\n",
       "      <td>0.106667</td>\n",
       "    </tr>\n",
       "    <tr>\n",
       "      <th>month_dist_5_temp_x</th>\n",
       "      <td>0.106667</td>\n",
       "    </tr>\n",
       "    <tr>\n",
       "      <th>latitude</th>\n",
       "      <td>0.073333</td>\n",
       "    </tr>\n",
       "    <tr>\n",
       "      <th>longitude</th>\n",
       "      <td>0.073333</td>\n",
       "    </tr>\n",
       "    <tr>\n",
       "      <th>dist_species_culex_pipiens/restuans</th>\n",
       "      <td>0.060000</td>\n",
       "    </tr>\n",
       "    <tr>\n",
       "      <th>dist_species_culex_pipiens</th>\n",
       "      <td>0.053333</td>\n",
       "    </tr>\n",
       "    <tr>\n",
       "      <th>trap_and_temp_x</th>\n",
       "      <td>0.053333</td>\n",
       "    </tr>\n",
       "    <tr>\n",
       "      <th>distance</th>\n",
       "      <td>0.046667</td>\n",
       "    </tr>\n",
       "    <tr>\n",
       "      <th>street</th>\n",
       "      <td>0.040000</td>\n",
       "    </tr>\n",
       "    <tr>\n",
       "      <th>temp_min_both</th>\n",
       "      <td>0.033333</td>\n",
       "    </tr>\n",
       "    <tr>\n",
       "      <th>month_dist_3_temp_x</th>\n",
       "      <td>0.033333</td>\n",
       "    </tr>\n",
       "    <tr>\n",
       "      <th>temp_max_both</th>\n",
       "      <td>0.026667</td>\n",
       "    </tr>\n",
       "    <tr>\n",
       "      <th>resultspeed_y</th>\n",
       "      <td>0.026667</td>\n",
       "    </tr>\n",
       "    <tr>\n",
       "      <th>sealevel_x</th>\n",
       "      <td>0.020000</td>\n",
       "    </tr>\n",
       "    <tr>\n",
       "      <th>temp_min_both14</th>\n",
       "      <td>0.020000</td>\n",
       "    </tr>\n",
       "    <tr>\n",
       "      <th>block_and_precip_x</th>\n",
       "      <td>0.013333</td>\n",
       "    </tr>\n",
       "    <tr>\n",
       "      <th>temp_wet_bulb_both</th>\n",
       "      <td>0.013333</td>\n",
       "    </tr>\n",
       "    <tr>\n",
       "      <th>month_year</th>\n",
       "      <td>0.013333</td>\n",
       "    </tr>\n",
       "    <tr>\n",
       "      <th>stnpressure_both</th>\n",
       "      <td>0.013333</td>\n",
       "    </tr>\n",
       "    <tr>\n",
       "      <th>temp_min_both4</th>\n",
       "      <td>0.006667</td>\n",
       "    </tr>\n",
       "    <tr>\n",
       "      <th>temp_min_both1</th>\n",
       "      <td>0.006667</td>\n",
       "    </tr>\n",
       "    <tr>\n",
       "      <th>ht_cool_both</th>\n",
       "      <td>0.006667</td>\n",
       "    </tr>\n",
       "    <tr>\n",
       "      <th>tmin_x</th>\n",
       "      <td>0.006667</td>\n",
       "    </tr>\n",
       "    <tr>\n",
       "      <th>temp_avg_both</th>\n",
       "      <td>0.006667</td>\n",
       "    </tr>\n",
       "    <tr>\n",
       "      <th>year</th>\n",
       "      <td>0.006667</td>\n",
       "    </tr>\n",
       "    <tr>\n",
       "      <th>species_culex_territans</th>\n",
       "      <td>0.006667</td>\n",
       "    </tr>\n",
       "    <tr>\n",
       "      <th>trap</th>\n",
       "      <td>0.006667</td>\n",
       "    </tr>\n",
       "    <tr>\n",
       "      <th>temp_dew_point_both</th>\n",
       "      <td>0.000000</td>\n",
       "    </tr>\n",
       "    <tr>\n",
       "      <th>depart_x</th>\n",
       "      <td>0.000000</td>\n",
       "    </tr>\n",
       "    <tr>\n",
       "      <th>temp_min_both2</th>\n",
       "      <td>0.000000</td>\n",
       "    </tr>\n",
       "    <tr>\n",
       "      <th>temp_min_both7</th>\n",
       "      <td>0.000000</td>\n",
       "    </tr>\n",
       "    <tr>\n",
       "      <th>temp_min_both10</th>\n",
       "      <td>0.000000</td>\n",
       "    </tr>\n",
       "    <tr>\n",
       "      <th>temp_max_both1</th>\n",
       "      <td>0.000000</td>\n",
       "    </tr>\n",
       "  </tbody>\n",
       "</table>\n",
       "</div>"
      ],
      "text/plain": [
       "                                      ADA Imp\n",
       "sunrise_x                            0.120000\n",
       "distance_5                           0.106667\n",
       "month_dist_5_temp_x                  0.106667\n",
       "latitude                             0.073333\n",
       "longitude                            0.073333\n",
       "dist_species_culex_pipiens/restuans  0.060000\n",
       "dist_species_culex_pipiens           0.053333\n",
       "trap_and_temp_x                      0.053333\n",
       "distance                             0.046667\n",
       "street                               0.040000\n",
       "temp_min_both                        0.033333\n",
       "month_dist_3_temp_x                  0.033333\n",
       "temp_max_both                        0.026667\n",
       "resultspeed_y                        0.026667\n",
       "sealevel_x                           0.020000\n",
       "temp_min_both14                      0.020000\n",
       "block_and_precip_x                   0.013333\n",
       "temp_wet_bulb_both                   0.013333\n",
       "month_year                           0.013333\n",
       "stnpressure_both                     0.013333\n",
       "temp_min_both4                       0.006667\n",
       "temp_min_both1                       0.006667\n",
       "ht_cool_both                         0.006667\n",
       "tmin_x                               0.006667\n",
       "temp_avg_both                        0.006667\n",
       "year                                 0.006667\n",
       "species_culex_territans              0.006667\n",
       "trap                                 0.006667\n",
       "temp_dew_point_both                  0.000000\n",
       "depart_x                             0.000000\n",
       "temp_min_both2                       0.000000\n",
       "temp_min_both7                       0.000000\n",
       "temp_min_both10                      0.000000\n",
       "temp_max_both1                       0.000000"
      ]
     },
     "execution_count": 21,
     "metadata": {},
     "output_type": "execute_result"
    }
   ],
   "source": [
    "# View Feature Importance from ADA Boost model\n",
    "raw_data={'ADA Imp':ad1.feature_importances_}\n",
    "ada2_df=pd.DataFrame(raw_data,train[features].columns)\n",
    "ada2_df=ada2_df.sort_values('ADA Imp', ascending=False) \n",
    "ada2_df"
   ]
  },
  {
   "cell_type": "code",
   "execution_count": 22,
   "metadata": {},
   "outputs": [
    {
     "data": {
      "text/html": [
       "<div>\n",
       "<style scoped>\n",
       "    .dataframe tbody tr th:only-of-type {\n",
       "        vertical-align: middle;\n",
       "    }\n",
       "\n",
       "    .dataframe tbody tr th {\n",
       "        vertical-align: top;\n",
       "    }\n",
       "\n",
       "    .dataframe thead th {\n",
       "        text-align: right;\n",
       "    }\n",
       "</style>\n",
       "<table border=\"1\" class=\"dataframe\">\n",
       "  <thead>\n",
       "    <tr style=\"text-align: right;\">\n",
       "      <th></th>\n",
       "      <th>ADA Imp</th>\n",
       "    </tr>\n",
       "  </thead>\n",
       "  <tbody>\n",
       "    <tr>\n",
       "      <th>sunrise_x</th>\n",
       "      <td>0.120000</td>\n",
       "    </tr>\n",
       "    <tr>\n",
       "      <th>distance_5</th>\n",
       "      <td>0.106667</td>\n",
       "    </tr>\n",
       "    <tr>\n",
       "      <th>month_dist_5_temp_x</th>\n",
       "      <td>0.106667</td>\n",
       "    </tr>\n",
       "    <tr>\n",
       "      <th>latitude</th>\n",
       "      <td>0.073333</td>\n",
       "    </tr>\n",
       "    <tr>\n",
       "      <th>longitude</th>\n",
       "      <td>0.073333</td>\n",
       "    </tr>\n",
       "    <tr>\n",
       "      <th>dist_species_culex_pipiens/restuans</th>\n",
       "      <td>0.060000</td>\n",
       "    </tr>\n",
       "    <tr>\n",
       "      <th>dist_species_culex_pipiens</th>\n",
       "      <td>0.053333</td>\n",
       "    </tr>\n",
       "    <tr>\n",
       "      <th>trap_and_temp_x</th>\n",
       "      <td>0.053333</td>\n",
       "    </tr>\n",
       "    <tr>\n",
       "      <th>distance</th>\n",
       "      <td>0.046667</td>\n",
       "    </tr>\n",
       "    <tr>\n",
       "      <th>street</th>\n",
       "      <td>0.040000</td>\n",
       "    </tr>\n",
       "    <tr>\n",
       "      <th>temp_min_both</th>\n",
       "      <td>0.033333</td>\n",
       "    </tr>\n",
       "    <tr>\n",
       "      <th>month_dist_3_temp_x</th>\n",
       "      <td>0.033333</td>\n",
       "    </tr>\n",
       "    <tr>\n",
       "      <th>temp_max_both</th>\n",
       "      <td>0.026667</td>\n",
       "    </tr>\n",
       "    <tr>\n",
       "      <th>resultspeed_y</th>\n",
       "      <td>0.026667</td>\n",
       "    </tr>\n",
       "    <tr>\n",
       "      <th>sealevel_x</th>\n",
       "      <td>0.020000</td>\n",
       "    </tr>\n",
       "    <tr>\n",
       "      <th>temp_min_both14</th>\n",
       "      <td>0.020000</td>\n",
       "    </tr>\n",
       "    <tr>\n",
       "      <th>block_and_precip_x</th>\n",
       "      <td>0.013333</td>\n",
       "    </tr>\n",
       "    <tr>\n",
       "      <th>temp_wet_bulb_both</th>\n",
       "      <td>0.013333</td>\n",
       "    </tr>\n",
       "    <tr>\n",
       "      <th>month_year</th>\n",
       "      <td>0.013333</td>\n",
       "    </tr>\n",
       "    <tr>\n",
       "      <th>stnpressure_both</th>\n",
       "      <td>0.013333</td>\n",
       "    </tr>\n",
       "    <tr>\n",
       "      <th>temp_min_both4</th>\n",
       "      <td>0.006667</td>\n",
       "    </tr>\n",
       "    <tr>\n",
       "      <th>temp_min_both1</th>\n",
       "      <td>0.006667</td>\n",
       "    </tr>\n",
       "    <tr>\n",
       "      <th>ht_cool_both</th>\n",
       "      <td>0.006667</td>\n",
       "    </tr>\n",
       "    <tr>\n",
       "      <th>tmin_x</th>\n",
       "      <td>0.006667</td>\n",
       "    </tr>\n",
       "    <tr>\n",
       "      <th>temp_avg_both</th>\n",
       "      <td>0.006667</td>\n",
       "    </tr>\n",
       "    <tr>\n",
       "      <th>year</th>\n",
       "      <td>0.006667</td>\n",
       "    </tr>\n",
       "    <tr>\n",
       "      <th>species_culex_territans</th>\n",
       "      <td>0.006667</td>\n",
       "    </tr>\n",
       "    <tr>\n",
       "      <th>trap</th>\n",
       "      <td>0.006667</td>\n",
       "    </tr>\n",
       "  </tbody>\n",
       "</table>\n",
       "</div>"
      ],
      "text/plain": [
       "                                      ADA Imp\n",
       "sunrise_x                            0.120000\n",
       "distance_5                           0.106667\n",
       "month_dist_5_temp_x                  0.106667\n",
       "latitude                             0.073333\n",
       "longitude                            0.073333\n",
       "dist_species_culex_pipiens/restuans  0.060000\n",
       "dist_species_culex_pipiens           0.053333\n",
       "trap_and_temp_x                      0.053333\n",
       "distance                             0.046667\n",
       "street                               0.040000\n",
       "temp_min_both                        0.033333\n",
       "month_dist_3_temp_x                  0.033333\n",
       "temp_max_both                        0.026667\n",
       "resultspeed_y                        0.026667\n",
       "sealevel_x                           0.020000\n",
       "temp_min_both14                      0.020000\n",
       "block_and_precip_x                   0.013333\n",
       "temp_wet_bulb_both                   0.013333\n",
       "month_year                           0.013333\n",
       "stnpressure_both                     0.013333\n",
       "temp_min_both4                       0.006667\n",
       "temp_min_both1                       0.006667\n",
       "ht_cool_both                         0.006667\n",
       "tmin_x                               0.006667\n",
       "temp_avg_both                        0.006667\n",
       "year                                 0.006667\n",
       "species_culex_territans              0.006667\n",
       "trap                                 0.006667"
      ]
     },
     "execution_count": 22,
     "metadata": {},
     "output_type": "execute_result"
    }
   ],
   "source": [
    "ada2_df=ada2_df.loc[ada2_df['ADA Imp'] != 0]\n",
    "ada2_df.loc[ada2_df['ADA Imp'] != 0]"
   ]
  },
  {
   "cell_type": "code",
   "execution_count": 23,
   "metadata": {},
   "outputs": [
    {
     "name": "stdout",
     "output_type": "stream",
     "text": [
      "             precision    recall  f1-score   support\n",
      "\n",
      "        0.0       0.88      0.82      0.85      6079\n",
      "        1.0       0.76      0.84      0.80      4277\n",
      "\n",
      "avg / total       0.83      0.83      0.83     10356\n",
      "\n"
     ]
    }
   ],
   "source": [
    "print(classification_report( y_train, y_hat_train))"
   ]
  },
  {
   "cell_type": "code",
   "execution_count": 24,
   "metadata": {},
   "outputs": [
    {
     "name": "stdout",
     "output_type": "stream",
     "text": [
      "             precision    recall  f1-score   support\n",
      "\n",
      "        0.0       0.99      0.82      0.90      2026\n",
      "        1.0       0.16      0.75      0.27        93\n",
      "\n",
      "avg / total       0.95      0.82      0.87      2119\n",
      "\n"
     ]
    }
   ],
   "source": [
    "print(classification_report(y_test, y_hat))"
   ]
  },
  {
   "cell_type": "code",
   "execution_count": 25,
   "metadata": {
    "scrolled": true
   },
   "outputs": [
    {
     "data": {
      "text/plain": [
       "array([[4978, 1101],\n",
       "       [ 698, 3579]])"
      ]
     },
     "execution_count": 25,
     "metadata": {},
     "output_type": "execute_result"
    }
   ],
   "source": [
    "confusion_matrix(y_train, y_hat_train)"
   ]
  },
  {
   "cell_type": "code",
   "execution_count": 26,
   "metadata": {},
   "outputs": [
    {
     "data": {
      "text/plain": [
       "array([[1662,  364],\n",
       "       [  23,   70]])"
      ]
     },
     "execution_count": 26,
     "metadata": {},
     "output_type": "execute_result"
    }
   ],
   "source": [
    "confusion_matrix(y_test, y_hat)"
   ]
  },
  {
   "cell_type": "code",
   "execution_count": 27,
   "metadata": {},
   "outputs": [
    {
     "data": {
      "text/plain": [
       "0.0    2026\n",
       "1.0      93\n",
       "Name: wnvpresent, dtype: int64"
      ]
     },
     "execution_count": 27,
     "metadata": {},
     "output_type": "execute_result"
    }
   ],
   "source": [
    "y_test.value_counts()"
   ]
  },
  {
   "cell_type": "code",
   "execution_count": 28,
   "metadata": {},
   "outputs": [],
   "source": [
    "X = test[features]\n",
    "predict = (gs.predict(X))\n",
    "predprob = gs.predict_proba(X)"
   ]
  },
  {
   "cell_type": "code",
   "execution_count": 29,
   "metadata": {},
   "outputs": [
    {
     "data": {
      "text/plain": [
       "array([[0.55743167, 0.44256833],\n",
       "       [0.55861947, 0.44138053],\n",
       "       [0.55674117, 0.44325883],\n",
       "       ...,\n",
       "       [0.50641452, 0.49358548],\n",
       "       [0.50641452, 0.49358548],\n",
       "       [0.50641452, 0.49358548]])"
      ]
     },
     "execution_count": 29,
     "metadata": {},
     "output_type": "execute_result"
    }
   ],
   "source": [
    "predprob"
   ]
  },
  {
   "cell_type": "code",
   "execution_count": 30,
   "metadata": {},
   "outputs": [],
   "source": [
    "y_train_pred_proba = gs.predict_proba(X_train)\n",
    "y_train_pred = gs.predict(X_train)\n",
    "y_test_pred_proba = gs.predict_proba(X_test)\n",
    "y_test_pred = gs.predict(X_test)"
   ]
  },
  {
   "cell_type": "code",
   "execution_count": 31,
   "metadata": {},
   "outputs": [],
   "source": [
    "#modifying train and testing data to allow for changing prob thresholds and printing the \n",
    "#roc curves\n",
    "X_train.loc[:, 'actual_y'] = y_train\n",
    "X_train.loc[:, 'predicted_label'] = y_train_pred\n",
    "X_train.loc[:, 'predicted_proba'] = y_train_pred_proba[:, 1]\n"
   ]
  },
  {
   "cell_type": "code",
   "execution_count": 32,
   "metadata": {},
   "outputs": [],
   "source": [
    "X_test.loc[:, 'actual_y'] = y_test\n",
    "X_test.loc[:, 'predicted_label'] = y_test_pred\n",
    "X_test.loc[:, 'predicted_proba'] = y_test_pred_proba[:, 1]\n"
   ]
  },
  {
   "cell_type": "code",
   "execution_count": 33,
   "metadata": {},
   "outputs": [],
   "source": [
    "mask_misclassification = (X_test[X_test['predicted_label'] == 0])\n",
    "misclassifications = (mask_misclassification[mask_misclassification['actual_y'] == 1])\n",
    "misclassifications_df = pd.DataFrame(misclassifications)"
   ]
  },
  {
   "cell_type": "code",
   "execution_count": 34,
   "metadata": {},
   "outputs": [],
   "source": [
    "misclassifications_df.to_csv('../data/misclassifications.csv', index = False)"
   ]
  },
  {
   "cell_type": "code",
   "execution_count": 35,
   "metadata": {},
   "outputs": [
    {
     "name": "stdout",
     "output_type": "stream",
     "text": [
      "Test  0.49\n",
      "[[ 784 1242]\n",
      " [   1   92]]\n",
      " Train  0.49\n",
      "[[2322 3757]\n",
      " [   0 4277]]\n",
      "Test  0.491\n",
      "[[ 830 1196]\n",
      " [   1   92]]\n",
      " Train  0.491\n",
      "[[2464 3615]\n",
      " [   0 4277]]\n",
      "Test  0.492\n",
      "[[ 883 1143]\n",
      " [   3   90]]\n",
      " Train  0.492\n",
      "[[2634 3445]\n",
      " [   0 4277]]\n",
      "Test  0.493\n",
      "[[ 950 1076]\n",
      " [   3   90]]\n",
      " Train  0.493\n",
      "[[2823 3256]\n",
      " [   0 4277]]\n",
      "Test  0.494\n",
      "[[1017 1009]\n",
      " [   4   89]]\n",
      " Train  0.494\n",
      "[[3045 3034]\n",
      " [   0 4277]]\n",
      "Test  0.495\n",
      "[[1100  926]\n",
      " [   5   88]]\n",
      " Train  0.495\n",
      "[[3302 2777]\n",
      " [   0 4277]]\n",
      "Test  0.496\n",
      "[[1204  822]\n",
      " [   7   86]]\n",
      " Train  0.496\n",
      "[[3651 2428]\n",
      " [  30 4247]]\n",
      "Test  0.497\n",
      "[[1336  690]\n",
      " [  11   82]]\n",
      " Train  0.497\n",
      "[[4002 2077]\n",
      " [  41 4236]]\n",
      "Test  0.498\n",
      "[[1447  579]\n",
      " [  13   80]]\n",
      " Train  0.498\n",
      "[[4322 1757]\n",
      " [ 203 4074]]\n",
      "Test  0.499\n",
      "[[1550  476]\n",
      " [  19   74]]\n",
      " Train  0.499\n",
      "[[4630 1449]\n",
      " [ 374 3903]]\n"
     ]
    }
   ],
   "source": [
    "#print out confusion matrices from .1 .5 by .02 for Xtest and Xtrain\n",
    "for prob in range(490, 500, 1):\n",
    "    proba = prob/1000\n",
    "    \n",
    "    X_test.loc[:, 'predicted_label']= X_test['predicted_proba'].map(\n",
    "    lambda p: 1 if p > proba else 0)\n",
    "    \n",
    "    X_train.loc[:, 'predicted_label']= X_train['predicted_proba'].map(\n",
    "    lambda p: 1 if p > proba else 0)\n",
    "    \n",
    "    X_test['predicted_label']\n",
    "    print('Test  ' + str(proba))\n",
    "    print(confusion_matrix(y_test, X_test['predicted_label']))\n",
    "    print(' Train  ' + str(proba))\n",
    "    print(confusion_matrix(y_train, X_train['predicted_label']))\n"
   ]
  },
  {
   "cell_type": "code",
   "execution_count": 36,
   "metadata": {},
   "outputs": [],
   "source": [
    "fpr, tpr, _ = roc_curve(y_train, X_train['predicted_proba'])\n",
    "roc_auc = auc(fpr, tpr)\n"
   ]
  },
  {
   "cell_type": "code",
   "execution_count": 37,
   "metadata": {},
   "outputs": [
    {
     "data": {
      "image/png": "[encoded data removed]",
      "text/plain": [
       "<matplotlib.figure.Figure at 0x1049c3668>"
      ]
     },
     "metadata": {},
     "output_type": "display_data"
    }
   ],
   "source": [
    "# Plot \n",
    "plt.figure(figsize = (12,7))\n",
    "line_width = 3\n",
    "\n",
    "plt.plot(fpr, tpr, lw = line_width, color=\"darkorange\", label = \"ROC Curve %.2f\" % roc_auc)\n",
    "plt.plot([0,1], [0, 1], lw = line_width, linestyle=\"--\", color=\"navy\")\n",
    "\n",
    "plt.xlim([0.0, 1.0])\n",
    "plt.ylim([0.0, 1.05])\n",
    "plt.xlabel('False Positive Rate')\n",
    "plt.ylabel('True Positive Rate')\n",
    "plt.title('ROC')\n",
    "plt.legend(loc=\"lower right\")\n",
    "plt.show()"
   ]
  },
  {
   "cell_type": "code",
   "execution_count": 38,
   "metadata": {},
   "outputs": [],
   "source": [
    "fpr, tpr, _ = roc_curve(y_test, X_test['predicted_proba'])\n",
    "roc_auc = auc(fpr, tpr)"
   ]
  },
  {
   "cell_type": "code",
   "execution_count": 39,
   "metadata": {
    "scrolled": false
   },
   "outputs": [
    {
     "data": {
      "image/png": "[encoded data removed]",
      "text/plain": [
       "<matplotlib.figure.Figure at 0x1049c3358>"
      ]
     },
     "metadata": {},
     "output_type": "display_data"
    }
   ],
   "source": [
    "# Plot \n",
    "plt.figure(figsize = (12,7))\n",
    "line_width = 3\n",
    "\n",
    "plt.plot(fpr, tpr, lw = line_width, color=\"darkorange\", label = \"ROC Curve %.2f\" % roc_auc)\n",
    "plt.plot([0,1], [0, 1], lw = line_width, linestyle=\"--\", color=\"navy\")\n",
    "\n",
    "plt.xlim([0.0, 1.0])\n",
    "plt.ylim([0.0, 1.05])\n",
    "plt.xlabel('False Positive Rate')\n",
    "plt.ylabel('True Positive Rate')\n",
    "plt.title('ROC')\n",
    "plt.legend(loc=\"lower right\")\n",
    "plt.show()"
   ]
  },
  {
   "cell_type": "code",
   "execution_count": 292,
   "metadata": {},
   "outputs": [],
   "source": [
    "ada_predict = gs.predict(X)\n",
    "ada_proba = gs.predict_proba(X)[:,1]"
   ]
  },
  {
   "cell_type": "code",
   "execution_count": 293,
   "metadata": {},
   "outputs": [
    {
     "data": {
      "text/plain": [
       "array([0.44295424, 0.44166008, 0.44379114, ..., 0.49663041, 0.49663041,\n",
       "       0.49663041])"
      ]
     },
     "execution_count": 293,
     "metadata": {},
     "output_type": "execute_result"
    }
   ],
   "source": [
    "ada_proba"
   ]
  },
  {
   "cell_type": "code",
   "execution_count": 334,
   "metadata": {
    "scrolled": true
   },
   "outputs": [],
   "source": [
    "submissions = pd.DataFrame(ada_predict, columns = ['wnvpresent'])\n",
    "submissions['predproba'] = ada_proba\n",
    "submissions.loc[:, 'wnvpresent']= submissions['predproba'].map(\n",
    "    lambda p: 1 if p > .499999\n",
    "    else 0)"
   ]
  },
  {
   "cell_type": "code",
   "execution_count": 335,
   "metadata": {},
   "outputs": [
    {
     "data": {
      "text/plain": [
       "0    107236\n",
       "1      9057\n",
       "Name: wnvpresent, dtype: int64"
      ]
     },
     "execution_count": 335,
     "metadata": {},
     "output_type": "execute_result"
    }
   ],
   "source": [
    "submissions.wnvpresent.value_counts()"
   ]
  },
  {
   "cell_type": "code",
   "execution_count": 312,
   "metadata": {},
   "outputs": [
    {
     "data": {
      "text/plain": [
       "(116293, 20)"
      ]
     },
     "execution_count": 312,
     "metadata": {},
     "output_type": "execute_result"
    }
   ],
   "source": [
    "X.shape"
   ]
  },
  {
   "cell_type": "code",
   "execution_count": 313,
   "metadata": {},
   "outputs": [],
   "source": [
    "submissions['id'] = [id +1 for id in range(len(submissions))]"
   ]
  },
  {
   "cell_type": "code",
   "execution_count": 314,
   "metadata": {},
   "outputs": [],
   "source": [
    "submissions = submissions[['id','wnvpresent' ]]\n"
   ]
  },
  {
   "cell_type": "code",
   "execution_count": 315,
   "metadata": {},
   "outputs": [],
   "source": [
    "submissions.to_csv('../data/submission.csv', index = False)"
   ]
  }
 ],
 "metadata": {
  "kernelspec": {
   "display_name": "Python 3",
   "language": "python",
   "name": "python3"
  },
  "language_info": {
   "codemirror_mode": {
    "name": "ipython",
    "version": 3
   },
   "file_extension": ".py",
   "mimetype": "text/x-python",
   "name": "python",
   "nbconvert_exporter": "python",
   "pygments_lexer": "ipython3",
   "version": "3.6.4"
  }
 },
 "nbformat": 4,
 "nbformat_minor": 2
}
