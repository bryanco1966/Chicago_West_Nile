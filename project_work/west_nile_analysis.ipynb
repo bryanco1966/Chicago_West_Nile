{
 "cells": [
  {
   "cell_type": "markdown",
   "metadata": {},
   "source": [
    "# West Nile Analysis"
   ]
  },
  {
   "cell_type": "code",
   "execution_count": 1,
   "metadata": {},
   "outputs": [
    {
     "name": "stderr",
     "output_type": "stream",
     "text": [
      "/Users/samlundberg/anaconda3/lib/python3.6/site-packages/sklearn/cross_validation.py:41: DeprecationWarning: This module was deprecated in version 0.18 in favor of the model_selection module into which all the refactored classes and functions are moved. Also note that the interface of the new CV iterators are different from that of this module. This module will be removed in 0.20.\n",
      "  \"This module will be removed in 0.20.\", DeprecationWarning)\n",
      "/Users/samlundberg/anaconda3/lib/python3.6/site-packages/sklearn/grid_search.py:42: DeprecationWarning: This module was deprecated in version 0.18 in favor of the model_selection module into which all the refactored classes and functions are moved. This module will be removed in 0.20.\n",
      "  DeprecationWarning)\n"
     ]
    }
   ],
   "source": [
    "import pandas as pd\n",
    "import numpy as np\n",
    "from sklearn.metrics import roc_curve, auc\n",
    "from sklearn.ensemble import RandomForestClassifier, ExtraTreesClassifier,  AdaBoostClassifier\n",
    "from sklearn.cross_validation import train_test_split, KFold, cross_val_score\n",
    "from sklearn.grid_search import GridSearchCV\n",
    "from sklearn.metrics import classification_report, confusion_matrix\n",
    "import matplotlib.pyplot as plt\n",
    "import seaborn as sns\n",
    "\n"
   ]
  },
  {
   "cell_type": "code",
   "execution_count": 2,
   "metadata": {
    "scrolled": true
   },
   "outputs": [],
   "source": [
    "train = pd.read_csv('./data/trainw.csv')\n",
    "test  = pd.read_csv('./data/testw.csv')\n",
    "train.columns = [col.lower().replace(' ', '_') for col in train.columns]\n",
    "test.columns = [col.lower().replace(' ', '_') for col in test.columns]\n",
    "\n",
    "\n",
    "#read cleaned data and bring and trainform all variables to lower_camel_case\n",
    "                    "
   ]
  },
  {
   "cell_type": "code",
   "execution_count": 3,
   "metadata": {
    "scrolled": true
   },
   "outputs": [
    {
     "data": {
      "text/plain": [
       "unnamed:_0                             0\n",
       "index                                  0\n",
       "date                                   0\n",
       "address                                0\n",
       "block                                  0\n",
       "street                                 0\n",
       "trap                                   0\n",
       "addressnumberandstreet                 0\n",
       "latitude                               0\n",
       "longitude                              0\n",
       "addressaccuracy                        0\n",
       "nummosquitos                           0\n",
       "wnvpresent                             0\n",
       "year                                   0\n",
       "month                                  0\n",
       "day                                    0\n",
       "tmax_x                                 0\n",
       "tmin_x                                 0\n",
       "tavg_x                                 0\n",
       "depart_x                               0\n",
       "dewpoint_x                             0\n",
       "wetbulb_x                              0\n",
       "heat_x                                 0\n",
       "cool_x                                 0\n",
       "sunrise_x                              0\n",
       "sunset_x                               0\n",
       "codesum_x                              0\n",
       "depth_x                                0\n",
       "water1_x                               0\n",
       "snowfall_x                             0\n",
       "                                      ..\n",
       "species_culex_tarsalis                 0\n",
       "species_culex_territans                0\n",
       "distance                               0\n",
       "distance_3                             0\n",
       "distance_5                             0\n",
       "dist_species_culex_pipiens             0\n",
       "dist_species_culex_pipiens/restuans    0\n",
       "dist_species_culex_restuans            0\n",
       "dist_species_culex_salinarius          0\n",
       "dist_species_culex_tarsalis            0\n",
       "dist_species_culex_territans           0\n",
       "temp_and_precip_x                      0\n",
       "trap_and_precip_y                      0\n",
       "block_and_precip_x                     0\n",
       "trap_and_temp_x                        0\n",
       "trap_and_temp_y                        0\n",
       "low_sealevel_x                         0\n",
       "low_sealevel_y                         0\n",
       "month_and_dist                         0\n",
       "month_and_sealevel_x                   0\n",
       "month_and_sealevel_y                   0\n",
       "month_dist_temp_x                      0\n",
       "month_dist_3_temp_x                    0\n",
       "month_dist_5_temp_x                    0\n",
       "month_dist_temp_y                      0\n",
       "month_dist_maxtemp_x                   0\n",
       "month_dist_maxtemp_y                   0\n",
       "month_dist_sealevel_x                  0\n",
       "month_dist_sealevel_y                  0\n",
       "cluster                                0\n",
       "Length: 127, dtype: int64"
      ]
     },
     "execution_count": 3,
     "metadata": {},
     "output_type": "execute_result"
    }
   ],
   "source": [
    "train.isnull().sum() \n"
   ]
  },
  {
   "cell_type": "code",
   "execution_count": 4,
   "metadata": {
    "scrolled": true
   },
   "outputs": [
    {
     "data": {
      "text/plain": [
       "Index(['preciptotal_y', 'stnpressure_y', 'sealevel_y', 'resultspeed_y',\n",
       "       'resultdir_y', 'avgspeed_y', 'temp_min_both', 'temp_max_both',\n",
       "       'temp_avg_both', 'temp_dew_point_both', 'temp_wet_bulb_both',\n",
       "       'stnpressure_both', 'ht_cool_both', 'temp_min_both1', 'temp_min_both2',\n",
       "       'temp_min_both4', 'temp_min_both7', 'temp_min_both10',\n",
       "       'temp_min_both14', 'temp_max_both1'],\n",
       "      dtype='object')"
      ]
     },
     "execution_count": 4,
     "metadata": {},
     "output_type": "execute_result"
    }
   ],
   "source": [
    "train.columns[50:70]"
   ]
  },
  {
   "cell_type": "code",
   "execution_count": 5,
   "metadata": {},
   "outputs": [],
   "source": [
    "train['month_year'] = train['month'] * (train['year'] - 2007)\n",
    "test['month_year'] = test['month'] * (test['year'] - 2007)"
   ]
  },
  {
   "cell_type": "code",
   "execution_count": 6,
   "metadata": {},
   "outputs": [],
   "source": [
    "#Found by running ada boost feature importance-these had a score above 0\n",
    "features=[  'distance', 'year', 'month_year',\n",
    "       'latitude', 'sunrise_x', 'distance_5', \n",
    "       'resultspeed_y', 'trap', 'street', 'trap_and_temp_x',\n",
    "       'dist_species_culex_pipiens/restuans', \n",
    "       'sealevel_x', 'longitude', 'block_and_precip_x',\n",
    "       'species_culex_territans', 'dist_species_culex_pipiens',\n",
    "       'depart_x',  'tmin_x', 'tmax_x', 'tmax_y','tmin_y',\n",
    "       'month_dist_3_temp_x','month_dist_5_temp_x',\n",
    "       'temp_min_both', 'temp_max_both',\n",
    "       'temp_avg_both', 'temp_dew_point_both', 'temp_wet_bulb_both',\n",
    "       'stnpressure_both', 'ht_cool_both', 'temp_min_both1', 'temp_min_both2',\n",
    "       'temp_min_both4', 'temp_min_both7', 'temp_min_both10',\n",
    "       'temp_min_both14', 'temp_max_both1','temp_max_both2', 'temp_max_both4', 'temp_max_both7', \n",
    "       'temp_max_both10',\n",
    "       'temp_max_both14', 'temp_dew_point_both1', 'temp_dew_point_both2',\n",
    "       'temp_dew_point_both4', 'temp_dew_point_both7',\n",
    "       'temp_dew_point_both10'\n",
    "       ]\n",
    "\n",
    "\n",
    "\n",
    "X = train[features]\n",
    "y = train['wnvpresent']"
   ]
  },
  {
   "cell_type": "code",
   "execution_count": 7,
   "metadata": {},
   "outputs": [
    {
     "data": {
      "text/plain": [
       "Index(['temp_max_both2', 'temp_max_both4', 'temp_max_both7', 'temp_max_both10',\n",
       "       'temp_max_both14', 'temp_dew_point_both1', 'temp_dew_point_both2',\n",
       "       'temp_dew_point_both4', 'temp_dew_point_both7',\n",
       "       'temp_dew_point_both10'],\n",
       "      dtype='object')"
      ]
     },
     "execution_count": 7,
     "metadata": {},
     "output_type": "execute_result"
    }
   ],
   "source": [
    "train.columns[70:80]"
   ]
  },
  {
   "cell_type": "code",
   "execution_count": 8,
   "metadata": {},
   "outputs": [],
   "source": [
    "#do a train test split with stratified data due to unbalanced classes\n",
    "\n",
    "X_train, X_test, y_train, y_test = train_test_split(X, y,\n",
    "                                                    random_state = 42,\n",
    "                                                    stratify = y)"
   ]
  },
  {
   "cell_type": "markdown",
   "metadata": {},
   "source": [
    "#### Dealing with unbalanced classes\n",
    "\n",
    "We have unbalanced classes in our data set with only about 5.24% of our observations containing the West Nile Virus.  In order to better predict the minority class which is the class of interest we are oversampling the data where West Nile is present in our training data.  We leave the testing data untouched."
   ]
  },
  {
   "cell_type": "code",
   "execution_count": 9,
   "metadata": {
    "scrolled": false
   },
   "outputs": [
    {
     "data": {
      "text/html": [
       "<div>\n",
       "<style scoped>\n",
       "    .dataframe tbody tr th:only-of-type {\n",
       "        vertical-align: middle;\n",
       "    }\n",
       "\n",
       "    .dataframe tbody tr th {\n",
       "        vertical-align: top;\n",
       "    }\n",
       "\n",
       "    .dataframe thead th {\n",
       "        text-align: right;\n",
       "    }\n",
       "</style>\n",
       "<table border=\"1\" class=\"dataframe\">\n",
       "  <thead>\n",
       "    <tr style=\"text-align: right;\">\n",
       "      <th></th>\n",
       "      <th>distance</th>\n",
       "      <th>year</th>\n",
       "      <th>month_year</th>\n",
       "      <th>latitude</th>\n",
       "      <th>sunrise_x</th>\n",
       "      <th>distance_5</th>\n",
       "      <th>resultspeed_y</th>\n",
       "      <th>trap</th>\n",
       "      <th>street</th>\n",
       "      <th>trap_and_temp_x</th>\n",
       "      <th>...</th>\n",
       "      <th>temp_max_both4</th>\n",
       "      <th>temp_max_both7</th>\n",
       "      <th>temp_max_both10</th>\n",
       "      <th>temp_max_both14</th>\n",
       "      <th>temp_dew_point_both1</th>\n",
       "      <th>temp_dew_point_both2</th>\n",
       "      <th>temp_dew_point_both4</th>\n",
       "      <th>temp_dew_point_both7</th>\n",
       "      <th>temp_dew_point_both10</th>\n",
       "      <th>wnvpresent</th>\n",
       "    </tr>\n",
       "  </thead>\n",
       "  <tbody>\n",
       "    <tr>\n",
       "      <th>70</th>\n",
       "      <td>0.680102</td>\n",
       "      <td>2007.0</td>\n",
       "      <td>0.0</td>\n",
       "      <td>41.958271</td>\n",
       "      <td>417</td>\n",
       "      <td>1.679011</td>\n",
       "      <td>6.2</td>\n",
       "      <td>90</td>\n",
       "      <td>41</td>\n",
       "      <td>5760</td>\n",
       "      <td>...</td>\n",
       "      <td>85</td>\n",
       "      <td>88</td>\n",
       "      <td>88</td>\n",
       "      <td>89</td>\n",
       "      <td>57</td>\n",
       "      <td>60</td>\n",
       "      <td>63</td>\n",
       "      <td>63</td>\n",
       "      <td>63</td>\n",
       "      <td>0.0</td>\n",
       "    </tr>\n",
       "    <tr>\n",
       "      <th>7447</th>\n",
       "      <td>2.384295</td>\n",
       "      <td>2013.0</td>\n",
       "      <td>48.0</td>\n",
       "      <td>41.957799</td>\n",
       "      <td>445</td>\n",
       "      <td>2.384295</td>\n",
       "      <td>6.2</td>\n",
       "      <td>134</td>\n",
       "      <td>131</td>\n",
       "      <td>10854</td>\n",
       "      <td>...</td>\n",
       "      <td>76</td>\n",
       "      <td>81</td>\n",
       "      <td>88</td>\n",
       "      <td>96</td>\n",
       "      <td>63</td>\n",
       "      <td>63</td>\n",
       "      <td>63</td>\n",
       "      <td>63</td>\n",
       "      <td>65</td>\n",
       "      <td>0.0</td>\n",
       "    </tr>\n",
       "    <tr>\n",
       "      <th>4240</th>\n",
       "      <td>2.384295</td>\n",
       "      <td>2009.0</td>\n",
       "      <td>16.0</td>\n",
       "      <td>41.957799</td>\n",
       "      <td>512</td>\n",
       "      <td>6.970312</td>\n",
       "      <td>10.7</td>\n",
       "      <td>134</td>\n",
       "      <td>131</td>\n",
       "      <td>8978</td>\n",
       "      <td>...</td>\n",
       "      <td>82</td>\n",
       "      <td>82</td>\n",
       "      <td>83</td>\n",
       "      <td>89</td>\n",
       "      <td>63</td>\n",
       "      <td>63</td>\n",
       "      <td>63</td>\n",
       "      <td>63</td>\n",
       "      <td>68</td>\n",
       "      <td>0.0</td>\n",
       "    </tr>\n",
       "    <tr>\n",
       "      <th>8059</th>\n",
       "      <td>1.387414</td>\n",
       "      <td>2013.0</td>\n",
       "      <td>54.0</td>\n",
       "      <td>41.801498</td>\n",
       "      <td>522</td>\n",
       "      <td>1.726628</td>\n",
       "      <td>4.3</td>\n",
       "      <td>22</td>\n",
       "      <td>58</td>\n",
       "      <td>1892</td>\n",
       "      <td>...</td>\n",
       "      <td>84</td>\n",
       "      <td>96</td>\n",
       "      <td>96</td>\n",
       "      <td>96</td>\n",
       "      <td>53</td>\n",
       "      <td>56</td>\n",
       "      <td>60</td>\n",
       "      <td>67</td>\n",
       "      <td>69</td>\n",
       "      <td>0.0</td>\n",
       "    </tr>\n",
       "    <tr>\n",
       "      <th>8309</th>\n",
       "      <td>0.939177</td>\n",
       "      <td>2013.0</td>\n",
       "      <td>54.0</td>\n",
       "      <td>41.916265</td>\n",
       "      <td>536</td>\n",
       "      <td>0.939177</td>\n",
       "      <td>7.8</td>\n",
       "      <td>95</td>\n",
       "      <td>0</td>\n",
       "      <td>7980</td>\n",
       "      <td>...</td>\n",
       "      <td>81</td>\n",
       "      <td>82</td>\n",
       "      <td>95</td>\n",
       "      <td>95</td>\n",
       "      <td>59</td>\n",
       "      <td>59</td>\n",
       "      <td>59</td>\n",
       "      <td>59</td>\n",
       "      <td>69</td>\n",
       "      <td>0.0</td>\n",
       "    </tr>\n",
       "  </tbody>\n",
       "</table>\n",
       "<p>5 rows × 48 columns</p>\n",
       "</div>"
      ],
      "text/plain": [
       "      distance    year  month_year   latitude  sunrise_x  distance_5  \\\n",
       "70    0.680102  2007.0         0.0  41.958271        417    1.679011   \n",
       "7447  2.384295  2013.0        48.0  41.957799        445    2.384295   \n",
       "4240  2.384295  2009.0        16.0  41.957799        512    6.970312   \n",
       "8059  1.387414  2013.0        54.0  41.801498        522    1.726628   \n",
       "8309  0.939177  2013.0        54.0  41.916265        536    0.939177   \n",
       "\n",
       "      resultspeed_y  trap  street  trap_and_temp_x     ...      \\\n",
       "70              6.2    90      41             5760     ...       \n",
       "7447            6.2   134     131            10854     ...       \n",
       "4240           10.7   134     131             8978     ...       \n",
       "8059            4.3    22      58             1892     ...       \n",
       "8309            7.8    95       0             7980     ...       \n",
       "\n",
       "      temp_max_both4  temp_max_both7  temp_max_both10  temp_max_both14  \\\n",
       "70                85              88               88               89   \n",
       "7447              76              81               88               96   \n",
       "4240              82              82               83               89   \n",
       "8059              84              96               96               96   \n",
       "8309              81              82               95               95   \n",
       "\n",
       "      temp_dew_point_both1  temp_dew_point_both2  temp_dew_point_both4  \\\n",
       "70                      57                    60                    63   \n",
       "7447                    63                    63                    63   \n",
       "4240                    63                    63                    63   \n",
       "8059                    53                    56                    60   \n",
       "8309                    59                    59                    59   \n",
       "\n",
       "      temp_dew_point_both7  temp_dew_point_both10  wnvpresent  \n",
       "70                      63                     63         0.0  \n",
       "7447                    63                     65         0.0  \n",
       "4240                    63                     68         0.0  \n",
       "8059                    67                     69         0.0  \n",
       "8309                    59                     69         0.0  \n",
       "\n",
       "[5 rows x 48 columns]"
      ]
     },
     "execution_count": 9,
     "metadata": {},
     "output_type": "execute_result"
    }
   ],
   "source": [
    "#merging the target variable back onto the training data in order to sample off its value\n",
    "\n",
    "datasets = (X_train, y_train)\n",
    "traincombined = pd.concat(datasets, axis = 1)\n",
    "traincombined.head()"
   ]
  },
  {
   "cell_type": "code",
   "execution_count": 10,
   "metadata": {},
   "outputs": [],
   "source": [
    "#Select West nile cases and generate 5000 samples\n",
    "west_nile = traincombined[traincombined.wnvpresent == 1]\n",
    "extra_west_nile = west_nile.sample(n = 4000, \n",
    "                                   replace = True,\n",
    "                                   random_state = 30,\n",
    "                                   axis = 0)"
   ]
  },
  {
   "cell_type": "code",
   "execution_count": 11,
   "metadata": {},
   "outputs": [],
   "source": [
    "#merge samples onto original data\n",
    "merge = [traincombined, extra_west_nile]\n",
    "trainmerged = pd.concat(merge, axis = 0)"
   ]
  },
  {
   "cell_type": "code",
   "execution_count": 12,
   "metadata": {
    "scrolled": true
   },
   "outputs": [],
   "source": [
    "#Break our training data back into a X and a y\n",
    "X_train = trainmerged[features]\n",
    "y_train = trainmerged['wnvpresent']"
   ]
  },
  {
   "cell_type": "markdown",
   "metadata": {},
   "source": [
    "### Set up our model for grid search evaluation"
   ]
  },
  {
   "cell_type": "code",
   "execution_count": 13,
   "metadata": {
    "scrolled": false
   },
   "outputs": [],
   "source": [
    "ad = AdaBoostClassifier()\n",
    "sd_params = {\n",
    "    'n_estimators'       : [50, 75, 100],\n",
    "    'learning_rate'          : [.1, .2, .3]\n",
    "   }\n",
    "\n"
   ]
  },
  {
   "cell_type": "code",
   "execution_count": 14,
   "metadata": {},
   "outputs": [],
   "source": [
    "gs = GridSearchCV(ad, \n",
    "                  param_grid=sd_params,\n",
    "                 scoring = 'recall',\n",
    "                  cv = 4)\n"
   ]
  },
  {
   "cell_type": "code",
   "execution_count": 15,
   "metadata": {},
   "outputs": [
    {
     "name": "stdout",
     "output_type": "stream",
     "text": [
      "Print Train Score :  0.804065956848632\n",
      "Print Test Score  :  0.7956989247311828\n",
      "Print Best Params :  {'learning_rate': 0.3, 'n_estimators': 100}\n",
      "CPU times: user 24.7 s, sys: 32.4 ms, total: 24.7 s\n",
      "Wall time: 24.2 s\n"
     ]
    }
   ],
   "source": [
    "%%time\n",
    "gs.fit(X_train, y_train)\n",
    "print(\"Print Train Score : \" , gs.best_score_)\n",
    "print(\"Print Test Score  : \" , gs.score(X_test, y_test))\n",
    "print(\"Print Best Params : \" , gs.best_params_)"
   ]
  },
  {
   "cell_type": "code",
   "execution_count": 16,
   "metadata": {},
   "outputs": [],
   "source": [
    "y_hat = gs.predict(X_test)\n",
    "y_hat_train = gs.predict(X_train)\n",
    "y_hat_prob = gs.predict_proba(X_test)\n"
   ]
  },
  {
   "cell_type": "code",
   "execution_count": 17,
   "metadata": {},
   "outputs": [
    {
     "data": {
      "text/plain": [
       "AdaBoostClassifier(algorithm='SAMME.R', base_estimator=None,\n",
       "          learning_rate=0.3, n_estimators=150, random_state=None)"
      ]
     },
     "execution_count": 17,
     "metadata": {},
     "output_type": "execute_result"
    }
   ],
   "source": [
    "ad1= AdaBoostClassifier(n_estimators= 150, learning_rate=.3)\n",
    "ad1.fit(X_train, y_train)"
   ]
  },
  {
   "cell_type": "code",
   "execution_count": 18,
   "metadata": {},
   "outputs": [
    {
     "data": {
      "text/plain": [
       "array([0.03333333, 0.00666667, 0.02666667, 0.06666667, 0.11333333,\n",
       "       0.1       , 0.01333333, 0.01333333, 0.04      , 0.04666667,\n",
       "       0.06      , 0.03333333, 0.06666667, 0.01333333, 0.00666667,\n",
       "       0.05333333, 0.        , 0.00666667, 0.00666667, 0.        ,\n",
       "       0.        , 0.03333333, 0.09333333, 0.        , 0.00666667,\n",
       "       0.01333333, 0.        , 0.00666667, 0.00666667, 0.        ,\n",
       "       0.00666667, 0.        , 0.        , 0.        , 0.        ,\n",
       "       0.02      , 0.        , 0.        , 0.        , 0.00666667,\n",
       "       0.02666667, 0.01333333, 0.00666667, 0.        , 0.01333333,\n",
       "       0.01333333, 0.02666667])"
      ]
     },
     "execution_count": 18,
     "metadata": {},
     "output_type": "execute_result"
    }
   ],
   "source": [
    "ad1.feature_importances_"
   ]
  },
  {
   "cell_type": "code",
   "execution_count": 19,
   "metadata": {
    "scrolled": true
   },
   "outputs": [
    {
     "data": {
      "text/html": [
       "<div>\n",
       "<style scoped>\n",
       "    .dataframe tbody tr th:only-of-type {\n",
       "        vertical-align: middle;\n",
       "    }\n",
       "\n",
       "    .dataframe tbody tr th {\n",
       "        vertical-align: top;\n",
       "    }\n",
       "\n",
       "    .dataframe thead th {\n",
       "        text-align: right;\n",
       "    }\n",
       "</style>\n",
       "<table border=\"1\" class=\"dataframe\">\n",
       "  <thead>\n",
       "    <tr style=\"text-align: right;\">\n",
       "      <th></th>\n",
       "      <th>ADA Imp</th>\n",
       "    </tr>\n",
       "  </thead>\n",
       "  <tbody>\n",
       "    <tr>\n",
       "      <th>sunrise_x</th>\n",
       "      <td>0.113333</td>\n",
       "    </tr>\n",
       "    <tr>\n",
       "      <th>distance_5</th>\n",
       "      <td>0.100000</td>\n",
       "    </tr>\n",
       "    <tr>\n",
       "      <th>month_dist_5_temp_x</th>\n",
       "      <td>0.093333</td>\n",
       "    </tr>\n",
       "    <tr>\n",
       "      <th>latitude</th>\n",
       "      <td>0.066667</td>\n",
       "    </tr>\n",
       "    <tr>\n",
       "      <th>longitude</th>\n",
       "      <td>0.066667</td>\n",
       "    </tr>\n",
       "    <tr>\n",
       "      <th>dist_species_culex_pipiens/restuans</th>\n",
       "      <td>0.060000</td>\n",
       "    </tr>\n",
       "    <tr>\n",
       "      <th>dist_species_culex_pipiens</th>\n",
       "      <td>0.053333</td>\n",
       "    </tr>\n",
       "    <tr>\n",
       "      <th>trap_and_temp_x</th>\n",
       "      <td>0.046667</td>\n",
       "    </tr>\n",
       "    <tr>\n",
       "      <th>street</th>\n",
       "      <td>0.040000</td>\n",
       "    </tr>\n",
       "    <tr>\n",
       "      <th>distance</th>\n",
       "      <td>0.033333</td>\n",
       "    </tr>\n",
       "    <tr>\n",
       "      <th>month_dist_3_temp_x</th>\n",
       "      <td>0.033333</td>\n",
       "    </tr>\n",
       "    <tr>\n",
       "      <th>sealevel_x</th>\n",
       "      <td>0.033333</td>\n",
       "    </tr>\n",
       "    <tr>\n",
       "      <th>temp_max_both10</th>\n",
       "      <td>0.026667</td>\n",
       "    </tr>\n",
       "    <tr>\n",
       "      <th>temp_dew_point_both10</th>\n",
       "      <td>0.026667</td>\n",
       "    </tr>\n",
       "    <tr>\n",
       "      <th>month_year</th>\n",
       "      <td>0.026667</td>\n",
       "    </tr>\n",
       "    <tr>\n",
       "      <th>temp_min_both14</th>\n",
       "      <td>0.020000</td>\n",
       "    </tr>\n",
       "    <tr>\n",
       "      <th>temp_dew_point_both7</th>\n",
       "      <td>0.013333</td>\n",
       "    </tr>\n",
       "    <tr>\n",
       "      <th>temp_dew_point_both4</th>\n",
       "      <td>0.013333</td>\n",
       "    </tr>\n",
       "    <tr>\n",
       "      <th>temp_max_both14</th>\n",
       "      <td>0.013333</td>\n",
       "    </tr>\n",
       "    <tr>\n",
       "      <th>trap</th>\n",
       "      <td>0.013333</td>\n",
       "    </tr>\n",
       "    <tr>\n",
       "      <th>resultspeed_y</th>\n",
       "      <td>0.013333</td>\n",
       "    </tr>\n",
       "    <tr>\n",
       "      <th>temp_avg_both</th>\n",
       "      <td>0.013333</td>\n",
       "    </tr>\n",
       "    <tr>\n",
       "      <th>block_and_precip_x</th>\n",
       "      <td>0.013333</td>\n",
       "    </tr>\n",
       "    <tr>\n",
       "      <th>species_culex_territans</th>\n",
       "      <td>0.006667</td>\n",
       "    </tr>\n",
       "    <tr>\n",
       "      <th>stnpressure_both</th>\n",
       "      <td>0.006667</td>\n",
       "    </tr>\n",
       "    <tr>\n",
       "      <th>temp_dew_point_both1</th>\n",
       "      <td>0.006667</td>\n",
       "    </tr>\n",
       "    <tr>\n",
       "      <th>temp_max_both7</th>\n",
       "      <td>0.006667</td>\n",
       "    </tr>\n",
       "    <tr>\n",
       "      <th>temp_min_both1</th>\n",
       "      <td>0.006667</td>\n",
       "    </tr>\n",
       "    <tr>\n",
       "      <th>temp_wet_bulb_both</th>\n",
       "      <td>0.006667</td>\n",
       "    </tr>\n",
       "    <tr>\n",
       "      <th>tmin_x</th>\n",
       "      <td>0.006667</td>\n",
       "    </tr>\n",
       "    <tr>\n",
       "      <th>tmax_x</th>\n",
       "      <td>0.006667</td>\n",
       "    </tr>\n",
       "    <tr>\n",
       "      <th>temp_max_both</th>\n",
       "      <td>0.006667</td>\n",
       "    </tr>\n",
       "    <tr>\n",
       "      <th>year</th>\n",
       "      <td>0.006667</td>\n",
       "    </tr>\n",
       "    <tr>\n",
       "      <th>temp_max_both4</th>\n",
       "      <td>0.000000</td>\n",
       "    </tr>\n",
       "    <tr>\n",
       "      <th>depart_x</th>\n",
       "      <td>0.000000</td>\n",
       "    </tr>\n",
       "    <tr>\n",
       "      <th>temp_dew_point_both2</th>\n",
       "      <td>0.000000</td>\n",
       "    </tr>\n",
       "    <tr>\n",
       "      <th>tmax_y</th>\n",
       "      <td>0.000000</td>\n",
       "    </tr>\n",
       "    <tr>\n",
       "      <th>tmin_y</th>\n",
       "      <td>0.000000</td>\n",
       "    </tr>\n",
       "    <tr>\n",
       "      <th>temp_max_both2</th>\n",
       "      <td>0.000000</td>\n",
       "    </tr>\n",
       "    <tr>\n",
       "      <th>ht_cool_both</th>\n",
       "      <td>0.000000</td>\n",
       "    </tr>\n",
       "    <tr>\n",
       "      <th>temp_max_both1</th>\n",
       "      <td>0.000000</td>\n",
       "    </tr>\n",
       "    <tr>\n",
       "      <th>temp_min_both10</th>\n",
       "      <td>0.000000</td>\n",
       "    </tr>\n",
       "    <tr>\n",
       "      <th>temp_min_both7</th>\n",
       "      <td>0.000000</td>\n",
       "    </tr>\n",
       "    <tr>\n",
       "      <th>temp_min_both4</th>\n",
       "      <td>0.000000</td>\n",
       "    </tr>\n",
       "    <tr>\n",
       "      <th>temp_min_both2</th>\n",
       "      <td>0.000000</td>\n",
       "    </tr>\n",
       "    <tr>\n",
       "      <th>temp_dew_point_both</th>\n",
       "      <td>0.000000</td>\n",
       "    </tr>\n",
       "    <tr>\n",
       "      <th>temp_min_both</th>\n",
       "      <td>0.000000</td>\n",
       "    </tr>\n",
       "  </tbody>\n",
       "</table>\n",
       "</div>"
      ],
      "text/plain": [
       "                                      ADA Imp\n",
       "sunrise_x                            0.113333\n",
       "distance_5                           0.100000\n",
       "month_dist_5_temp_x                  0.093333\n",
       "latitude                             0.066667\n",
       "longitude                            0.066667\n",
       "dist_species_culex_pipiens/restuans  0.060000\n",
       "dist_species_culex_pipiens           0.053333\n",
       "trap_and_temp_x                      0.046667\n",
       "street                               0.040000\n",
       "distance                             0.033333\n",
       "month_dist_3_temp_x                  0.033333\n",
       "sealevel_x                           0.033333\n",
       "temp_max_both10                      0.026667\n",
       "temp_dew_point_both10                0.026667\n",
       "month_year                           0.026667\n",
       "temp_min_both14                      0.020000\n",
       "temp_dew_point_both7                 0.013333\n",
       "temp_dew_point_both4                 0.013333\n",
       "temp_max_both14                      0.013333\n",
       "trap                                 0.013333\n",
       "resultspeed_y                        0.013333\n",
       "temp_avg_both                        0.013333\n",
       "block_and_precip_x                   0.013333\n",
       "species_culex_territans              0.006667\n",
       "stnpressure_both                     0.006667\n",
       "temp_dew_point_both1                 0.006667\n",
       "temp_max_both7                       0.006667\n",
       "temp_min_both1                       0.006667\n",
       "temp_wet_bulb_both                   0.006667\n",
       "tmin_x                               0.006667\n",
       "tmax_x                               0.006667\n",
       "temp_max_both                        0.006667\n",
       "year                                 0.006667\n",
       "temp_max_both4                       0.000000\n",
       "depart_x                             0.000000\n",
       "temp_dew_point_both2                 0.000000\n",
       "tmax_y                               0.000000\n",
       "tmin_y                               0.000000\n",
       "temp_max_both2                       0.000000\n",
       "ht_cool_both                         0.000000\n",
       "temp_max_both1                       0.000000\n",
       "temp_min_both10                      0.000000\n",
       "temp_min_both7                       0.000000\n",
       "temp_min_both4                       0.000000\n",
       "temp_min_both2                       0.000000\n",
       "temp_dew_point_both                  0.000000\n",
       "temp_min_both                        0.000000"
      ]
     },
     "execution_count": 19,
     "metadata": {},
     "output_type": "execute_result"
    }
   ],
   "source": [
    "# View Feature Importance from ADA Boost model\n",
    "raw_data={'ADA Imp':ad1.feature_importances_}\n",
    "ada2_df=pd.DataFrame(raw_data,train[features].columns)\n",
    "ada2_df=ada2_df.sort_values('ADA Imp', ascending=False) \n",
    "ada2_df"
   ]
  },
  {
   "cell_type": "code",
   "execution_count": 20,
   "metadata": {
    "scrolled": false
   },
   "outputs": [
    {
     "data": {
      "text/html": [
       "<div>\n",
       "<style scoped>\n",
       "    .dataframe tbody tr th:only-of-type {\n",
       "        vertical-align: middle;\n",
       "    }\n",
       "\n",
       "    .dataframe tbody tr th {\n",
       "        vertical-align: top;\n",
       "    }\n",
       "\n",
       "    .dataframe thead th {\n",
       "        text-align: right;\n",
       "    }\n",
       "</style>\n",
       "<table border=\"1\" class=\"dataframe\">\n",
       "  <thead>\n",
       "    <tr style=\"text-align: right;\">\n",
       "      <th></th>\n",
       "      <th>ADA Imp</th>\n",
       "    </tr>\n",
       "  </thead>\n",
       "  <tbody>\n",
       "    <tr>\n",
       "      <th>sunrise_x</th>\n",
       "      <td>0.113333</td>\n",
       "    </tr>\n",
       "    <tr>\n",
       "      <th>distance_5</th>\n",
       "      <td>0.100000</td>\n",
       "    </tr>\n",
       "    <tr>\n",
       "      <th>month_dist_5_temp_x</th>\n",
       "      <td>0.093333</td>\n",
       "    </tr>\n",
       "    <tr>\n",
       "      <th>latitude</th>\n",
       "      <td>0.066667</td>\n",
       "    </tr>\n",
       "    <tr>\n",
       "      <th>longitude</th>\n",
       "      <td>0.066667</td>\n",
       "    </tr>\n",
       "    <tr>\n",
       "      <th>dist_species_culex_pipiens/restuans</th>\n",
       "      <td>0.060000</td>\n",
       "    </tr>\n",
       "    <tr>\n",
       "      <th>dist_species_culex_pipiens</th>\n",
       "      <td>0.053333</td>\n",
       "    </tr>\n",
       "    <tr>\n",
       "      <th>trap_and_temp_x</th>\n",
       "      <td>0.046667</td>\n",
       "    </tr>\n",
       "    <tr>\n",
       "      <th>street</th>\n",
       "      <td>0.040000</td>\n",
       "    </tr>\n",
       "    <tr>\n",
       "      <th>distance</th>\n",
       "      <td>0.033333</td>\n",
       "    </tr>\n",
       "    <tr>\n",
       "      <th>month_dist_3_temp_x</th>\n",
       "      <td>0.033333</td>\n",
       "    </tr>\n",
       "    <tr>\n",
       "      <th>sealevel_x</th>\n",
       "      <td>0.033333</td>\n",
       "    </tr>\n",
       "    <tr>\n",
       "      <th>temp_max_both10</th>\n",
       "      <td>0.026667</td>\n",
       "    </tr>\n",
       "    <tr>\n",
       "      <th>temp_dew_point_both10</th>\n",
       "      <td>0.026667</td>\n",
       "    </tr>\n",
       "    <tr>\n",
       "      <th>month_year</th>\n",
       "      <td>0.026667</td>\n",
       "    </tr>\n",
       "    <tr>\n",
       "      <th>temp_min_both14</th>\n",
       "      <td>0.020000</td>\n",
       "    </tr>\n",
       "    <tr>\n",
       "      <th>temp_dew_point_both7</th>\n",
       "      <td>0.013333</td>\n",
       "    </tr>\n",
       "    <tr>\n",
       "      <th>temp_dew_point_both4</th>\n",
       "      <td>0.013333</td>\n",
       "    </tr>\n",
       "    <tr>\n",
       "      <th>temp_max_both14</th>\n",
       "      <td>0.013333</td>\n",
       "    </tr>\n",
       "    <tr>\n",
       "      <th>trap</th>\n",
       "      <td>0.013333</td>\n",
       "    </tr>\n",
       "    <tr>\n",
       "      <th>resultspeed_y</th>\n",
       "      <td>0.013333</td>\n",
       "    </tr>\n",
       "    <tr>\n",
       "      <th>temp_avg_both</th>\n",
       "      <td>0.013333</td>\n",
       "    </tr>\n",
       "    <tr>\n",
       "      <th>block_and_precip_x</th>\n",
       "      <td>0.013333</td>\n",
       "    </tr>\n",
       "    <tr>\n",
       "      <th>species_culex_territans</th>\n",
       "      <td>0.006667</td>\n",
       "    </tr>\n",
       "    <tr>\n",
       "      <th>stnpressure_both</th>\n",
       "      <td>0.006667</td>\n",
       "    </tr>\n",
       "    <tr>\n",
       "      <th>temp_dew_point_both1</th>\n",
       "      <td>0.006667</td>\n",
       "    </tr>\n",
       "    <tr>\n",
       "      <th>temp_max_both7</th>\n",
       "      <td>0.006667</td>\n",
       "    </tr>\n",
       "    <tr>\n",
       "      <th>temp_min_both1</th>\n",
       "      <td>0.006667</td>\n",
       "    </tr>\n",
       "    <tr>\n",
       "      <th>temp_wet_bulb_both</th>\n",
       "      <td>0.006667</td>\n",
       "    </tr>\n",
       "    <tr>\n",
       "      <th>tmin_x</th>\n",
       "      <td>0.006667</td>\n",
       "    </tr>\n",
       "    <tr>\n",
       "      <th>tmax_x</th>\n",
       "      <td>0.006667</td>\n",
       "    </tr>\n",
       "    <tr>\n",
       "      <th>temp_max_both</th>\n",
       "      <td>0.006667</td>\n",
       "    </tr>\n",
       "    <tr>\n",
       "      <th>year</th>\n",
       "      <td>0.006667</td>\n",
       "    </tr>\n",
       "  </tbody>\n",
       "</table>\n",
       "</div>"
      ],
      "text/plain": [
       "                                      ADA Imp\n",
       "sunrise_x                            0.113333\n",
       "distance_5                           0.100000\n",
       "month_dist_5_temp_x                  0.093333\n",
       "latitude                             0.066667\n",
       "longitude                            0.066667\n",
       "dist_species_culex_pipiens/restuans  0.060000\n",
       "dist_species_culex_pipiens           0.053333\n",
       "trap_and_temp_x                      0.046667\n",
       "street                               0.040000\n",
       "distance                             0.033333\n",
       "month_dist_3_temp_x                  0.033333\n",
       "sealevel_x                           0.033333\n",
       "temp_max_both10                      0.026667\n",
       "temp_dew_point_both10                0.026667\n",
       "month_year                           0.026667\n",
       "temp_min_both14                      0.020000\n",
       "temp_dew_point_both7                 0.013333\n",
       "temp_dew_point_both4                 0.013333\n",
       "temp_max_both14                      0.013333\n",
       "trap                                 0.013333\n",
       "resultspeed_y                        0.013333\n",
       "temp_avg_both                        0.013333\n",
       "block_and_precip_x                   0.013333\n",
       "species_culex_territans              0.006667\n",
       "stnpressure_both                     0.006667\n",
       "temp_dew_point_both1                 0.006667\n",
       "temp_max_both7                       0.006667\n",
       "temp_min_both1                       0.006667\n",
       "temp_wet_bulb_both                   0.006667\n",
       "tmin_x                               0.006667\n",
       "tmax_x                               0.006667\n",
       "temp_max_both                        0.006667\n",
       "year                                 0.006667"
      ]
     },
     "execution_count": 20,
     "metadata": {},
     "output_type": "execute_result"
    }
   ],
   "source": [
    "ada2_df=ada2_df.loc[ada2_df['ADA Imp'] != 0]\n",
    "ada2_df.loc[ada2_df['ADA Imp'] != 0]"
   ]
  },
  {
   "cell_type": "code",
   "execution_count": 21,
   "metadata": {},
   "outputs": [
    {
     "name": "stdout",
     "output_type": "stream",
     "text": [
      "             precision    recall  f1-score   support\n",
      "\n",
      "        0.0       0.86      0.80      0.83      6079\n",
      "        1.0       0.74      0.81      0.77      4277\n",
      "\n",
      "avg / total       0.81      0.80      0.80     10356\n",
      "\n"
     ]
    }
   ],
   "source": [
    "print(classification_report( y_train, y_hat_train))"
   ]
  },
  {
   "cell_type": "code",
   "execution_count": 22,
   "metadata": {},
   "outputs": [
    {
     "name": "stdout",
     "output_type": "stream",
     "text": [
      "             precision    recall  f1-score   support\n",
      "\n",
      "        0.0       0.99      0.80      0.88      2026\n",
      "        1.0       0.15      0.80      0.26        93\n",
      "\n",
      "avg / total       0.95      0.80      0.86      2119\n",
      "\n"
     ]
    }
   ],
   "source": [
    "print(classification_report(y_test, y_hat))"
   ]
  },
  {
   "cell_type": "code",
   "execution_count": 23,
   "metadata": {
    "scrolled": true
   },
   "outputs": [
    {
     "data": {
      "text/plain": [
       "array([[4838, 1241],\n",
       "       [ 794, 3483]])"
      ]
     },
     "execution_count": 23,
     "metadata": {},
     "output_type": "execute_result"
    }
   ],
   "source": [
    "confusion_matrix(y_train, y_hat_train)"
   ]
  },
  {
   "cell_type": "code",
   "execution_count": 24,
   "metadata": {},
   "outputs": [
    {
     "data": {
      "text/plain": [
       "array([[1622,  404],\n",
       "       [  19,   74]])"
      ]
     },
     "execution_count": 24,
     "metadata": {},
     "output_type": "execute_result"
    }
   ],
   "source": [
    "confusion_matrix(y_test, y_hat)"
   ]
  },
  {
   "cell_type": "code",
   "execution_count": 25,
   "metadata": {},
   "outputs": [
    {
     "data": {
      "text/plain": [
       "0.0    2026\n",
       "1.0      93\n",
       "Name: wnvpresent, dtype: int64"
      ]
     },
     "execution_count": 25,
     "metadata": {},
     "output_type": "execute_result"
    }
   ],
   "source": [
    "y_test.value_counts()"
   ]
  },
  {
   "cell_type": "code",
   "execution_count": 49,
   "metadata": {},
   "outputs": [
    {
     "data": {
      "text/plain": [
       "0.8005923000987167"
      ]
     },
     "execution_count": 49,
     "metadata": {},
     "output_type": "execute_result"
    }
   ],
   "source": [
    "# Test Specificity\n",
    "1622/(1622+404)"
   ]
  },
  {
   "cell_type": "code",
   "execution_count": 26,
   "metadata": {},
   "outputs": [],
   "source": [
    "X = test[features]\n",
    "predict = (gs.predict(X))\n",
    "predprob = gs.predict_proba(X)"
   ]
  },
  {
   "cell_type": "code",
   "execution_count": 27,
   "metadata": {},
   "outputs": [
    {
     "data": {
      "text/plain": [
       "array([[0.61322219, 0.38677781],\n",
       "       [0.61529068, 0.38470932],\n",
       "       [0.61140174, 0.38859826],\n",
       "       ...,\n",
       "       [0.51092421, 0.48907579],\n",
       "       [0.51092421, 0.48907579],\n",
       "       [0.51092421, 0.48907579]])"
      ]
     },
     "execution_count": 27,
     "metadata": {},
     "output_type": "execute_result"
    }
   ],
   "source": [
    "predprob"
   ]
  },
  {
   "cell_type": "code",
   "execution_count": 28,
   "metadata": {},
   "outputs": [],
   "source": [
    "y_train_pred_proba = gs.predict_proba(X_train)\n",
    "y_train_pred = gs.predict(X_train)\n",
    "y_test_pred_proba = gs.predict_proba(X_test)\n",
    "y_test_pred = gs.predict(X_test)"
   ]
  },
  {
   "cell_type": "code",
   "execution_count": 29,
   "metadata": {},
   "outputs": [],
   "source": [
    "#modifying train and testing data to allow for changing prob thresholds and printing the \n",
    "#roc curves\n",
    "X_train.loc[:, 'actual_y'] = y_train\n",
    "X_train.loc[:, 'predicted_label'] = y_train_pred\n",
    "X_train.loc[:, 'predicted_proba'] = y_train_pred_proba[:, 1]\n"
   ]
  },
  {
   "cell_type": "code",
   "execution_count": 30,
   "metadata": {},
   "outputs": [],
   "source": [
    "X_test.loc[:, 'actual_y'] = y_test\n",
    "X_test.loc[:, 'predicted_label'] = y_test_pred\n",
    "X_test.loc[:, 'predicted_proba'] = y_test_pred_proba[:, 1]\n"
   ]
  },
  {
   "cell_type": "code",
   "execution_count": 31,
   "metadata": {},
   "outputs": [],
   "source": [
    "mask_misclassification = (X_test[X_test['predicted_label'] == 0])\n",
    "misclassifications = (mask_misclassification[mask_misclassification['actual_y'] == 1])\n",
    "misclassifications_df = pd.DataFrame(misclassifications)"
   ]
  },
  {
   "cell_type": "code",
   "execution_count": 32,
   "metadata": {},
   "outputs": [],
   "source": [
    "misclassifications_df.to_csv('./data/misclassifications.csv', index = False)"
   ]
  },
  {
   "cell_type": "code",
   "execution_count": 33,
   "metadata": {
    "scrolled": true
   },
   "outputs": [
    {
     "name": "stdout",
     "output_type": "stream",
     "text": [
      "Test  0.49\n",
      "[[1205  821]\n",
      " [   8   85]]\n",
      " Train  0.49\n",
      "[[3573 2506]\n",
      " [ 140 4137]]\n",
      "Test  0.491\n",
      "[[1246  780]\n",
      " [   8   85]]\n",
      " Train  0.491\n",
      "[[3694 2385]\n",
      " [ 157 4120]]\n",
      "Test  0.492\n",
      "[[1294  732]\n",
      " [   9   84]]\n",
      " Train  0.492\n",
      "[[3827 2252]\n",
      " [ 179 4098]]\n",
      "Test  0.493\n",
      "[[1340  686]\n",
      " [   9   84]]\n",
      " Train  0.493\n",
      "[[3946 2133]\n",
      " [ 247 4030]]\n",
      "Test  0.494\n",
      "[[1381  645]\n",
      " [   9   84]]\n",
      " Train  0.494\n",
      "[[4081 1998]\n",
      " [ 313 3964]]\n",
      "Test  0.495\n",
      "[[1432  594]\n",
      " [   9   84]]\n",
      " Train  0.495\n",
      "[[4229 1850]\n",
      " [ 444 3833]]\n",
      "Test  0.496\n",
      "[[1471  555]\n",
      " [  10   83]]\n",
      " Train  0.496\n",
      "[[4363 1716]\n",
      " [ 461 3816]]\n",
      "Test  0.497\n",
      "[[1503  523]\n",
      " [  11   82]]\n",
      " Train  0.497\n",
      "[[4483 1596]\n",
      " [ 564 3713]]\n",
      "Test  0.498\n",
      "[[1545  481]\n",
      " [  15   78]]\n",
      " Train  0.498\n",
      "[[4599 1480]\n",
      " [ 580 3697]]\n",
      "Test  0.499\n",
      "[[1582  444]\n",
      " [  17   76]]\n",
      " Train  0.499\n",
      "[[4728 1351]\n",
      " [ 662 3615]]\n"
     ]
    }
   ],
   "source": [
    "#print out confusion matrices from .1 .5 by .02 for Xtest and Xtrain\n",
    "for prob in range(490, 500, 1):\n",
    "    proba = prob/1000\n",
    "    \n",
    "    X_test.loc[:, 'predicted_label']= X_test['predicted_proba'].map(\n",
    "    lambda p: 1 if p > proba else 0)\n",
    "    \n",
    "    X_train.loc[:, 'predicted_label']= X_train['predicted_proba'].map(\n",
    "    lambda p: 1 if p > proba else 0)\n",
    "    \n",
    "    X_test['predicted_label']\n",
    "    print('Test  ' + str(proba))\n",
    "    print(confusion_matrix(y_test, X_test['predicted_label']))\n",
    "    print(' Train  ' + str(proba))\n",
    "    print(confusion_matrix(y_train, X_train['predicted_label']))\n"
   ]
  },
  {
   "cell_type": "code",
   "execution_count": 34,
   "metadata": {},
   "outputs": [],
   "source": [
    "fpr, tpr, _ = roc_curve(y_train, X_train['predicted_proba'])\n",
    "roc_auc = auc(fpr, tpr)\n"
   ]
  },
  {
   "cell_type": "code",
   "execution_count": 35,
   "metadata": {},
   "outputs": [
    {
     "data": {
      "image/png": "[encoded data removed]",
      "text/plain": [
       "<Figure size 864x504 with 1 Axes>"
      ]
     },
     "metadata": {},
     "output_type": "display_data"
    }
   ],
   "source": [
    "# Plot \n",
    "plt.figure(figsize = (12,7))\n",
    "line_width = 3\n",
    "\n",
    "plt.plot(fpr, tpr, lw = line_width, color=\"darkorange\", label = \"ROC Curve %.2f\" % roc_auc)\n",
    "plt.plot([0,1], [0, 1], lw = line_width, linestyle=\"--\", color=\"navy\")\n",
    "\n",
    "plt.xlim([0.0, 1.0])\n",
    "plt.ylim([0.0, 1.05])\n",
    "plt.xlabel('False Positive Rate')\n",
    "plt.ylabel('True Positive Rate')\n",
    "plt.title('ROC')\n",
    "plt.legend(loc=\"lower right\")\n",
    "plt.show()"
   ]
  },
  {
   "cell_type": "code",
   "execution_count": 36,
   "metadata": {},
   "outputs": [],
   "source": [
    "fpr, tpr, _ = roc_curve(y_test, X_test['predicted_proba'])\n",
    "roc_auc = auc(fpr, tpr)"
   ]
  },
  {
   "cell_type": "code",
   "execution_count": 37,
   "metadata": {
    "scrolled": false
   },
   "outputs": [
    {
     "data": {
      "image/png": "[encoded data removed]",
      "text/plain": [
       "<Figure size 864x504 with 1 Axes>"
      ]
     },
     "metadata": {},
     "output_type": "display_data"
    }
   ],
   "source": [
    "# Plot \n",
    "plt.figure(figsize = (12,7))\n",
    "line_width = 3\n",
    "\n",
    "plt.plot(fpr, tpr, lw = line_width, color=\"darkorange\", label = \"ROC Curve %.2f\" % roc_auc)\n",
    "plt.plot([0,1], [0, 1], lw = line_width, linestyle=\"--\", color=\"navy\")\n",
    "\n",
    "plt.xlim([0.0, 1.0])\n",
    "plt.ylim([0.0, 1.05])\n",
    "plt.xlabel('False Positive Rate')\n",
    "plt.ylabel('True Positive Rate')\n",
    "plt.title('ROC')\n",
    "plt.legend(loc=\"lower right\")\n",
    "plt.show()"
   ]
  },
  {
   "cell_type": "code",
   "execution_count": 38,
   "metadata": {},
   "outputs": [],
   "source": [
    "ada_predict = gs.predict(X)\n",
    "ada_proba = gs.predict_proba(X)[:,1]"
   ]
  },
  {
   "cell_type": "code",
   "execution_count": 39,
   "metadata": {},
   "outputs": [
    {
     "data": {
      "text/plain": [
       "array([0.38677781, 0.38470932, 0.38859826, ..., 0.48907579, 0.48907579,\n",
       "       0.48907579])"
      ]
     },
     "execution_count": 39,
     "metadata": {},
     "output_type": "execute_result"
    }
   ],
   "source": [
    "ada_proba"
   ]
  },
  {
   "cell_type": "code",
   "execution_count": 40,
   "metadata": {
    "scrolled": true
   },
   "outputs": [],
   "source": [
    "submissions = pd.DataFrame(ada_predict, columns = ['wnvpresent'])\n",
    "submissions['predproba'] = ada_proba\n",
    "submissions.loc[:, 'wnvpresent']= submissions['predproba'].map(\n",
    "    lambda p: 1 if p > .499999\n",
    "    else 0)"
   ]
  },
  {
   "cell_type": "code",
   "execution_count": 41,
   "metadata": {},
   "outputs": [
    {
     "data": {
      "text/plain": [
       "0    105001\n",
       "1     11292\n",
       "Name: wnvpresent, dtype: int64"
      ]
     },
     "execution_count": 41,
     "metadata": {},
     "output_type": "execute_result"
    }
   ],
   "source": [
    "submissions.wnvpresent.value_counts()"
   ]
  },
  {
   "cell_type": "code",
   "execution_count": 42,
   "metadata": {},
   "outputs": [
    {
     "data": {
      "text/plain": [
       "(116293, 47)"
      ]
     },
     "execution_count": 42,
     "metadata": {},
     "output_type": "execute_result"
    }
   ],
   "source": [
    "X.shape"
   ]
  },
  {
   "cell_type": "code",
   "execution_count": 43,
   "metadata": {},
   "outputs": [],
   "source": [
    "submissions['id'] = [id +1 for id in range(len(submissions))]"
   ]
  },
  {
   "cell_type": "code",
   "execution_count": 44,
   "metadata": {},
   "outputs": [],
   "source": [
    "submissions = submissions[['id','wnvpresent' ]]\n"
   ]
  },
  {
   "cell_type": "code",
   "execution_count": 45,
   "metadata": {},
   "outputs": [],
   "source": [
    "submissions.to_csv('./data/submission.csv', index = False)"
   ]
  },
  {
   "cell_type": "code",
   "execution_count": null,
   "metadata": {},
   "outputs": [],
   "source": []
  },
  {
   "cell_type": "code",
   "execution_count": null,
   "metadata": {},
   "outputs": [],
   "source": []
  },
  {
   "cell_type": "code",
   "execution_count": null,
   "metadata": {},
   "outputs": [],
   "source": []
  },
  {
   "cell_type": "code",
   "execution_count": null,
   "metadata": {},
   "outputs": [],
   "source": []
  }
 ],
 "metadata": {
  "kernelspec": {
   "display_name": "Python [default]",
   "language": "python",
   "name": "python3"
  },
  "language_info": {
   "codemirror_mode": {
    "name": "ipython",
    "version": 3
   },
   "file_extension": ".py",
   "mimetype": "text/x-python",
   "name": "python",
   "nbconvert_exporter": "python",
   "pygments_lexer": "ipython3",
   "version": "3.6.5"
  }
 },
 "nbformat": 4,
 "nbformat_minor": 2
}
