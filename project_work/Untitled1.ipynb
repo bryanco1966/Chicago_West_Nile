{
 "cells": [
  {
   "cell_type": "code",
   "execution_count": null,
   "metadata": {},
   "outputs": [],
   "source": [
    "ef buildLaggedFeatures(df, lag):  # df - dataframe, lag - list of numbers defining lagged values. Builds lagged weather features \n",
    "    new_dict={}\n",
    "    for col_name in df:\n",
    "        new_dict[col_name]=df[col_name]\n",
    "        # create lagged Series\n",
    "        for l in lag:\n",
    "            if col_name!='Date' and col_name!='Station':\n",
    "                new_dict['%s_lag%d' %(col_name,l)]=df[col_name].shift(l)\n",
    "    res=pd.DataFrame(new_dict,index=df.index)\n",
    "    return res\n",
    "\n",
    "def DuplicatedRows(df): # Calculates number of duplicated rows by Date, Trap, Species\n",
    "    grouped = df.groupby(['Date', 'Trap', 'Species'])\n",
    "    num=grouped.count().Latitude.to_dict()\n",
    "    df['N_Dupl']=-999\n",
    "    for idx in df.index:\n",
    "        d = df.loc[idx, 'Date']\n",
    "        t = df.loc[idx, 'Trap']\n",
    "        s = df.loc[idx, 'Species']\n",
    "        df.loc[idx, 'N_Dupl'] = num[(d, t, s)]\n",
    "    return df"
   ]
  }
 ],
 "metadata": {
  "kernelspec": {
   "display_name": "Python [default]",
   "language": "python",
   "name": "python3"
  },
  "language_info": {
   "codemirror_mode": {
    "name": "ipython",
    "version": 3
   },
   "file_extension": ".py",
   "mimetype": "text/x-python",
   "name": "python",
   "nbconvert_exporter": "python",
   "pygments_lexer": "ipython3",
   "version": "3.6.5"
  }
 },
 "nbformat": 4,
 "nbformat_minor": 2
}
