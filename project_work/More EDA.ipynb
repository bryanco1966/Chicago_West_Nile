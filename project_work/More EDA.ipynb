{
 "cells": [
  {
   "cell_type": "markdown",
   "metadata": {},
   "source": [
    "## Feature Interactivity and Engineering"
   ]
  },
  {
   "cell_type": "code",
   "execution_count": 151,
   "metadata": {},
   "outputs": [],
   "source": [
    "import pandas as pd\n",
    "import seaborn as sns\n",
    "pd.core.common.is_list_like = pd.api.types.is_list_like\n",
    "import pandas_datareader.data as web\n",
    "from datetime import datetime\n",
    "import matplotlib.pyplot as plt\n",
    "#from geopy.distance import geodesic\n",
    "import time\n",
    "from sklearn.preprocessing import LabelEncoder"
   ]
  },
  {
   "cell_type": "code",
   "execution_count": 152,
   "metadata": {},
   "outputs": [
    {
     "name": "stderr",
     "output_type": "stream",
     "text": [
      "/anaconda3/lib/python3.6/site-packages/IPython/core/interactiveshell.py:2785: DtypeWarning: Columns (27,28,48) have mixed types. Specify dtype option on import or set low_memory=False.\n",
      "  interactivity=interactivity, compiler=compiler, result=result)\n"
     ]
    }
   ],
   "source": [
    "train = pd.read_csv('./data/trainclean.csv')\n",
    "test = pd.read_csv('./data/testclean.csv')"
   ]
  },
  {
   "cell_type": "markdown",
   "metadata": {},
   "source": [
    "#### There is missing data in the dataset.\n",
    "Many missing values are entered a M, - and T in the data set.  This code sets them all to -1 do distinquish from other data."
   ]
  },
  {
   "cell_type": "code",
   "execution_count": 153,
   "metadata": {},
   "outputs": [],
   "source": [
    "# replace some missing values and T with -1\n",
    "train = train.replace('M', -1)\n",
    "train = train.replace('-', -1)\n",
    "train = train.replace('T', -1)\n",
    "train = train.replace(' T', -1)\n",
    "train = train.replace('  T', -1)"
   ]
  },
  {
   "cell_type": "code",
   "execution_count": 154,
   "metadata": {},
   "outputs": [],
   "source": [
    "# replace some missing values and T with -1\n",
    "test = test.replace('M', -1)\n",
    "test = test.replace('-', -1)\n",
    "test = test.replace('T', -1)\n",
    "test = test.replace(' T', -1)\n",
    "test = test.replace('  T', -1)"
   ]
  },
  {
   "cell_type": "code",
   "execution_count": 155,
   "metadata": {
    "scrolled": false
   },
   "outputs": [
    {
     "data": {
      "text/plain": [
       "Index(['index', 'id', 'date', 'address', 'block', 'street', 'trap',\n",
       "       'addressnumberandstreet', 'latitude', 'longitude', 'addressaccuracy',\n",
       "       'year', 'month', 'day', 'tmax_x', 'tmin_x', 'tavg_x', 'depart_x',\n",
       "       'dewpoint_x', 'wetbulb_x', 'heat_x', 'cool_x', 'sunrise_x', 'sunset_x',\n",
       "       'codesum_x', 'depth_x', 'water1_x', 'snowfall_x', 'preciptotal_x',\n",
       "       'stnpressure_x', 'sealevel_x', 'resultspeed_x', 'resultdir_x',\n",
       "       'avgspeed_x', 'tmax_y', 'tmin_y', 'tavg_y', 'depart_y', 'dewpoint_y',\n",
       "       'wetbulb_y', 'heat_y', 'cool_y', 'sunrise_y', 'sunset_y', 'codesum_y',\n",
       "       'depth_y', 'water1_y', 'snowfall_y', 'preciptotal_y', 'stnpressure_y',\n",
       "       'sealevel_y', 'resultspeed_y', 'resultdir_y', 'avgspeed_y',\n",
       "       'species_culex_pipiens', 'species_culex_pipiens/restuans',\n",
       "       'species_culex_restuans', 'species_culex_salinarius',\n",
       "       'species_culex_tarsalis', 'species_culex_territans',\n",
       "       'species_unspecified_culex', 'distance', 'distance.1'],\n",
       "      dtype='object')"
      ]
     },
     "execution_count": 155,
     "metadata": {},
     "output_type": "execute_result"
    }
   ],
   "source": [
    "test.columns"
   ]
  },
  {
   "cell_type": "code",
   "execution_count": 156,
   "metadata": {},
   "outputs": [
    {
     "data": {
      "text/plain": [
       "Index(['address', 'addressaccuracy', 'addressnumberandstreet', 'avgspeed_x',\n",
       "       'avgspeed_y', 'block', 'codesum_x', 'codesum_y', 'cool_x', 'cool_y',\n",
       "       'date', 'day', 'depart_x', 'depart_y', 'depth_x', 'depth_y',\n",
       "       'dewpoint_x', 'dewpoint_y', 'distance', 'heat_x', 'heat_y', 'index',\n",
       "       'latitude', 'longitude', 'month', 'nummosquitos', 'preciptotal_x',\n",
       "       'preciptotal_y', 'resultdir_x', 'resultdir_y', 'resultspeed_x',\n",
       "       'resultspeed_y', 'sealevel_x', 'sealevel_y', 'snowfall_x', 'snowfall_y',\n",
       "       'species_culex_pipiens', 'species_culex_pipiens/restuans',\n",
       "       'species_culex_restuans', 'species_culex_salinarius',\n",
       "       'species_culex_tarsalis', 'species_culex_territans', 'stnpressure_x',\n",
       "       'stnpressure_y', 'street', 'sunrise_x', 'sunrise_y', 'sunset_x',\n",
       "       'sunset_y', 'tavg_x', 'tavg_y', 'tmax_x', 'tmax_y', 'tmin_x', 'tmin_y',\n",
       "       'trap', 'water1_x', 'water1_y', 'wetbulb_x', 'wetbulb_y', 'wnvpresent',\n",
       "       'year'],\n",
       "      dtype='object')"
      ]
     },
     "execution_count": 156,
     "metadata": {},
     "output_type": "execute_result"
    }
   ],
   "source": [
    "train.columns"
   ]
  },
  {
   "cell_type": "code",
   "execution_count": 27,
   "metadata": {},
   "outputs": [],
   "source": [
    "#train.drop(columns = ['codesum_x', 'codesum_y'], inplace=True)"
   ]
  },
  {
   "cell_type": "markdown",
   "metadata": {},
   "source": [
    "**Trap, Block, and Street**"
   ]
  },
  {
   "cell_type": "code",
   "execution_count": 6,
   "metadata": {},
   "outputs": [],
   "source": [
    "lbl = LabelEncoder()\n",
    "lbl.fit(list(train['trap'].values) + list(test['trap'].values))\n",
    "train['trap'] = lbl.transform(train['trap'].values)\n",
    "test['trap'] = lbl.transform(test['trap'].values)"
   ]
  },
  {
   "cell_type": "code",
   "execution_count": 7,
   "metadata": {},
   "outputs": [],
   "source": [
    "lbl.fit(list(train['block'].values) + list(test['block'].values))\n",
    "train['block'] = lbl.transform(train['block'].values)\n",
    "test['block'] = lbl.transform(test['block'].values)"
   ]
  },
  {
   "cell_type": "code",
   "execution_count": 8,
   "metadata": {},
   "outputs": [],
   "source": [
    "lbl.fit(list(train['street'].values) + list(test['street'].values))\n",
    "train['street'] = lbl.transform(train['street'].values)\n",
    "test['street'] = lbl.transform(test['street'].values)"
   ]
  },
  {
   "cell_type": "code",
   "execution_count": 12,
   "metadata": {},
   "outputs": [],
   "source": [
    "#This is just a shortcut for now. If we rerun the original EDA doc, this row will kick an error out.\n",
    "test['distance'] = test['distance.1']"
   ]
  },
  {
   "cell_type": "code",
   "execution_count": 13,
   "metadata": {},
   "outputs": [],
   "source": [
    "test.drop(columns = 'distance.1', inplace=True)"
   ]
  },
  {
   "cell_type": "markdown",
   "metadata": {},
   "source": [
    "**Distance and Species**\n",
    "\n",
    "State or reiterate information about vertical transmission."
   ]
  },
  {
   "cell_type": "code",
   "execution_count": 14,
   "metadata": {},
   "outputs": [],
   "source": [
    "train['dist_species_culex_pipiens'] = train['species_culex_pipiens'] * train['distance']\n",
    "test['dist_species_culex_pipiens'] = test['species_culex_pipiens'] * test['distance']"
   ]
  },
  {
   "cell_type": "code",
   "execution_count": 15,
   "metadata": {},
   "outputs": [],
   "source": [
    "train['dist_species_culex_pipiens/restuans'] = train['species_culex_pipiens/restuans'] * train['distance']\n",
    "test['dist_species_culex_pipiens/restuans'] = test['species_culex_pipiens/restuans'] * test['distance']"
   ]
  },
  {
   "cell_type": "code",
   "execution_count": 16,
   "metadata": {},
   "outputs": [],
   "source": [
    "train['dist_species_culex_restuans'] = train['species_culex_restuans'] * train['distance']\n",
    "test['dist_species_culex_restuans'] = test['species_culex_restuans'] * test['distance']"
   ]
  },
  {
   "cell_type": "code",
   "execution_count": 17,
   "metadata": {},
   "outputs": [],
   "source": [
    "train['dist_species_culex_salinarius'] = train['species_culex_salinarius'] * train['distance']\n",
    "test['dist_species_culex_salinarius'] = test['species_culex_salinarius'] * test['distance']"
   ]
  },
  {
   "cell_type": "code",
   "execution_count": 18,
   "metadata": {},
   "outputs": [],
   "source": [
    "train['dist_species_culex_tarsalis'] = train['species_culex_tarsalis'] * train['distance']\n",
    "test['dist_species_culex_tarsalis'] = test['species_culex_tarsalis'] * test['distance']"
   ]
  },
  {
   "cell_type": "code",
   "execution_count": 19,
   "metadata": {},
   "outputs": [],
   "source": [
    "train['dist_species_culex_territans'] = train['species_culex_territans'] * train['distance']\n",
    "test['dist_species_culex_territans'] = test['species_culex_territans'] * test['distance']"
   ]
  },
  {
   "cell_type": "code",
   "execution_count": 20,
   "metadata": {},
   "outputs": [],
   "source": [
    "test['species_unspecified_culex_dist'] = test['species_unspecified_culex'] * test['distance']"
   ]
  },
  {
   "cell_type": "markdown",
   "metadata": {},
   "source": [
    "**Temperature and Precipitation**"
   ]
  },
  {
   "cell_type": "code",
   "execution_count": 21,
   "metadata": {},
   "outputs": [],
   "source": [
    "#Creating interaction terms below between temperature and precipitation (termed \"Wetbulb\"). Water seems like it would be similarly indicative of disease movement to precipitation, but most of the water values are missing from the initial dataset, so we won't use this as part of an interaction term."
   ]
  },
  {
   "cell_type": "code",
   "execution_count": 90,
   "metadata": {},
   "outputs": [],
   "source": [
    "train['temp_and_precip_x'] = train['tmax_x'] * train['wetbulb_x'] \n",
    "test['temp_and_precip_x'] = test['tmax_x'] * test['wetbulb_x'] "
   ]
  },
  {
   "cell_type": "code",
   "execution_count": 91,
   "metadata": {},
   "outputs": [],
   "source": [
    "train['trap_and_precip_x'] = train['trap'] * train['wetbulb_x'] \n",
    "test['trap_and_precip_x'] = test['trap'] * test['wetbulb_x']"
   ]
  },
  {
   "cell_type": "code",
   "execution_count": 92,
   "metadata": {},
   "outputs": [],
   "source": [
    "train['block_and_precip_x'] = train['block'] * train['wetbulb_x'] \n",
    "test['block_and_precip_x'] = test['block'] * test['wetbulb_x'] "
   ]
  },
  {
   "cell_type": "markdown",
   "metadata": {},
   "source": [
    "**Sealevel Binary Variable Creation by Standard Deviation**"
   ]
  },
  {
   "cell_type": "code",
   "execution_count": 150,
   "metadata": {},
   "outputs": [],
   "source": [
    "#We called .describe() on our sealevel variables with the idea that mosquitoes gravitate around water and water will pool in areas with low sealevel. We then engineered a term called \"low_sealevel\" that consists only of the lowest standard deviation of sealevel in the grouping."
   ]
  },
  {
   "cell_type": "code",
   "execution_count": 158,
   "metadata": {},
   "outputs": [
    {
     "data": {
      "text/plain": [
       "count    10506.000000\n",
       "mean        29.966956\n",
       "std          0.116038\n",
       "min         29.600000\n",
       "25%         29.890000\n",
       "50%         29.980000\n",
       "75%         30.050000\n",
       "max         30.330000\n",
       "Name: sealevel_x, dtype: float64"
      ]
     },
     "execution_count": 158,
     "metadata": {},
     "output_type": "execute_result"
    }
   ],
   "source": [
    "train['sealevel_x'].describe()"
   ]
  },
  {
   "cell_type": "code",
   "execution_count": 159,
   "metadata": {},
   "outputs": [
    {
     "data": {
      "text/plain": [
       "count    116293.000000\n",
       "mean         29.985536\n",
       "std           0.122456\n",
       "min          29.710000\n",
       "25%          29.890000\n",
       "50%          29.990000\n",
       "75%          30.070000\n",
       "max          30.330000\n",
       "Name: sealevel_x, dtype: float64"
      ]
     },
     "execution_count": 159,
     "metadata": {},
     "output_type": "execute_result"
    }
   ],
   "source": [
    "test['sealevel_x'].describe() "
   ]
  },
  {
   "cell_type": "code",
   "execution_count": 160,
   "metadata": {},
   "outputs": [],
   "source": [
    "for sealevel in train['sealevel_x']:\n",
    "    if sealevel <= 29.89000:\n",
    "        train['low_sealevel_x'] = 1\n",
    "    else:\n",
    "        train['low_sealevel_x'] = 0"
   ]
  },
  {
   "cell_type": "code",
   "execution_count": 161,
   "metadata": {},
   "outputs": [],
   "source": [
    "for sealevel in test['sealevel_x']:\n",
    "    if sealevel <= 29.89000:\n",
    "        test['low_sealevel_x'] = 1\n",
    "    else:\n",
    "        test['low_sealevel_x'] = 0"
   ]
  },
  {
   "cell_type": "code",
   "execution_count": 162,
   "metadata": {},
   "outputs": [
    {
     "data": {
      "text/plain": [
       "count    10506.000000\n",
       "mean        29.954502\n",
       "std          0.117755\n",
       "min         29.590000\n",
       "25%         29.870000\n",
       "50%         29.960000\n",
       "75%         30.040000\n",
       "max         30.330000\n",
       "Name: sealevel_y, dtype: float64"
      ]
     },
     "execution_count": 162,
     "metadata": {},
     "output_type": "execute_result"
    }
   ],
   "source": [
    "train['sealevel_y'].describe()"
   ]
  },
  {
   "cell_type": "code",
   "execution_count": 163,
   "metadata": {},
   "outputs": [
    {
     "data": {
      "text/plain": [
       "count    116293.000000\n",
       "mean         29.970243\n",
       "std           0.123908\n",
       "min          29.690000\n",
       "25%          29.870000\n",
       "50%          29.980000\n",
       "75%          30.050000\n",
       "max          30.310000\n",
       "Name: sealevel_y, dtype: float64"
      ]
     },
     "execution_count": 163,
     "metadata": {},
     "output_type": "execute_result"
    }
   ],
   "source": [
    "test['sealevel_y'].describe()"
   ]
  },
  {
   "cell_type": "code",
   "execution_count": 164,
   "metadata": {},
   "outputs": [],
   "source": [
    "for sealevel in train['sealevel_y']:\n",
    "    if sealevel <= 29.87000:\n",
    "        train['low_sealevel_y'] = 1\n",
    "    else:\n",
    "        train['low_sealevel_y'] = 0"
   ]
  },
  {
   "cell_type": "code",
   "execution_count": 165,
   "metadata": {},
   "outputs": [],
   "source": [
    "for sealevel in test['sealevel_y']:\n",
    "    if sealevel <= 29.87000:\n",
    "        test['low_sealevel_y'] = 1\n",
    "    else:\n",
    "        test['low_sealevel_y'] = 0"
   ]
  },
  {
   "cell_type": "markdown",
   "metadata": {},
   "source": [
    "#### Month and Distance Interaction\n",
    "\n",
    "In visualizing the data in Tableau, we can see that the West Nile cases start to be more prolific in the mid summer with fewer cases in the early and late summer so though that distance might interact with month."
   ]
  },
  {
   "cell_type": "code",
   "execution_count": 166,
   "metadata": {},
   "outputs": [],
   "source": [
    "train['month_and_dist'] = train['month'] * train['distance']\n",
    "test['month_and_dist'] = test['month'] * test['distance']"
   ]
  },
  {
   "cell_type": "markdown",
   "metadata": {},
   "source": [
    "**Sealevel and Month Interaction**"
   ]
  },
  {
   "cell_type": "code",
   "execution_count": 171,
   "metadata": {},
   "outputs": [],
   "source": [
    "train['month_and_sealevel_x'] = train['month'] * train['low_sealevel_x']\n",
    "test['month_and_sealevel_x'] = test['month'] * test['low_sealevel_x']"
   ]
  },
  {
   "cell_type": "code",
   "execution_count": 172,
   "metadata": {},
   "outputs": [],
   "source": [
    "train['month_and_sealevel_y'] = train['month'] * train['low_sealevel_y']\n",
    "test['month_and_sealevel_y'] = test['month'] * test['low_sealevel_y']"
   ]
  },
  {
   "cell_type": "markdown",
   "metadata": {},
   "source": [
    "**Month, Distance, and Temperature**"
   ]
  },
  {
   "cell_type": "code",
   "execution_count": 146,
   "metadata": {},
   "outputs": [],
   "source": [
    "train['month_dist_temp_x'] = train['month'] * train['distance'] * train['tavg_x']\n",
    "test['month_dist_temp_x'] = test['month'] * test['distance'] * test['tavg_x']"
   ]
  },
  {
   "cell_type": "code",
   "execution_count": 147,
   "metadata": {},
   "outputs": [],
   "source": [
    "train['month_dist_temp_y'] = train['month'] * train['distance'] * train['tavg_y']\n",
    "test['month_dist_temp_y'] = test['month'] * test['distance'] * test['tavg_y']"
   ]
  },
  {
   "cell_type": "markdown",
   "metadata": {},
   "source": [
    "**Month, Distance, and Sealevel**"
   ]
  },
  {
   "cell_type": "code",
   "execution_count": 169,
   "metadata": {},
   "outputs": [],
   "source": [
    "train['month_dist_sealevel_x'] = train['month'] * train['distance'] * train['low_sealevel_x']\n",
    "test['month_dist_sealevel_x'] = test['month'] * test['distance'] * test['low_sealevel_x']"
   ]
  },
  {
   "cell_type": "code",
   "execution_count": 170,
   "metadata": {},
   "outputs": [],
   "source": [
    "train['month_dist_sealevel_y'] = train['month'] * train['distance'] * train['low_sealevel_y']\n",
    "test['month_dist_sealevel_y'] = test['month'] * test['distance'] * test['low_sealevel_y']"
   ]
  },
  {
   "cell_type": "markdown",
   "metadata": {},
   "source": [
    "**Saving the Next CSV for Analysis Notebook**"
   ]
  },
  {
   "cell_type": "code",
   "execution_count": 23,
   "metadata": {},
   "outputs": [],
   "source": [
    "train.to_csv('./data/trainw.csv')\n",
    "test.to_csv('./data/testw.csv')"
   ]
  }
 ],
 "metadata": {
  "kernelspec": {
   "display_name": "Python 3",
   "language": "python",
   "name": "python3"
  },
  "language_info": {
   "codemirror_mode": {
    "name": "ipython",
    "version": 3
   },
   "file_extension": ".py",
   "mimetype": "text/x-python",
   "name": "python",
   "nbconvert_exporter": "python",
   "pygments_lexer": "ipython3",
   "version": "3.6.5"
  }
 },
 "nbformat": 4,
 "nbformat_minor": 2
}
