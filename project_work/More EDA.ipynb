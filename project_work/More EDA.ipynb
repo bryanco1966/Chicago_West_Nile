{
 "cells": [
  {
   "cell_type": "code",
   "execution_count": 23,
   "metadata": {},
   "outputs": [],
   "source": [
    "import pandas as pd\n",
    "import seaborn as sns\n",
    "pd.core.common.is_list_like = pd.api.types.is_list_like\n",
    "import pandas_datareader.data as web\n",
    "from datetime import datetime\n",
    "import matplotlib.pyplot as plt\n",
    "#from geopy.distance import geodesic\n",
    "import time"
   ]
  },
  {
   "cell_type": "code",
   "execution_count": 24,
   "metadata": {},
   "outputs": [
    {
     "name": "stderr",
     "output_type": "stream",
     "text": [
      "/anaconda3/lib/python3.6/site-packages/IPython/core/interactiveshell.py:2785: DtypeWarning: Columns (27,28,48) have mixed types. Specify dtype option on import or set low_memory=False.\n",
      "  interactivity=interactivity, compiler=compiler, result=result)\n"
     ]
    }
   ],
   "source": [
    "train = pd.read_csv('./data/trainclean.csv')\n",
    "test = pd.read_csv('./data/testclean.csv')"
   ]
  },
  {
   "cell_type": "code",
   "execution_count": 25,
   "metadata": {},
   "outputs": [
    {
     "data": {
      "text/plain": [
       "Index(['address', 'addressaccuracy', 'addressnumberandstreet', 'avgspeed_x',\n",
       "       'avgspeed_y', 'block', 'codesum_x', 'codesum_y', 'cool_x', 'cool_y',\n",
       "       'date', 'day', 'depart_x', 'depart_y', 'depth_x', 'depth_y',\n",
       "       'dewpoint_x', 'dewpoint_y', 'distance', 'heat_x', 'heat_y', 'index',\n",
       "       'latitude', 'longitude', 'month', 'nummosquitos', 'preciptotal_x',\n",
       "       'preciptotal_y', 'resultdir_x', 'resultdir_y', 'resultspeed_x',\n",
       "       'resultspeed_y', 'sealevel_x', 'sealevel_y', 'snowfall_x', 'snowfall_y',\n",
       "       'species_culex_pipiens', 'species_culex_pipiens/restuans',\n",
       "       'species_culex_restuans', 'species_culex_salinarius',\n",
       "       'species_culex_tarsalis', 'species_culex_territans', 'stnpressure_x',\n",
       "       'stnpressure_y', 'street', 'sunrise_x', 'sunrise_y', 'sunset_x',\n",
       "       'sunset_y', 'tavg_x', 'tavg_y', 'tmax_x', 'tmax_y', 'tmin_x', 'tmin_y',\n",
       "       'trap', 'water1_x', 'water1_y', 'wetbulb_x', 'wetbulb_y', 'wnvpresent',\n",
       "       'year'],\n",
       "      dtype='object')"
      ]
     },
     "execution_count": 25,
     "metadata": {},
     "output_type": "execute_result"
    }
   ],
   "source": [
    "train.columns"
   ]
  },
  {
   "cell_type": "code",
   "execution_count": 26,
   "metadata": {},
   "outputs": [],
   "source": [
    "# replace some missing values and T with -1\n",
    "train = train.replace('M', -1)\n",
    "train = train.replace('-', -1)\n",
    "train = train.replace('T', -1)\n",
    "train = train.replace(' T', -1)"
   ]
  },
  {
   "cell_type": "code",
   "execution_count": 31,
   "metadata": {},
   "outputs": [
    {
     "data": {
      "text/plain": [
       "Index(['address', 'addressaccuracy', 'addressnumberandstreet', 'avgspeed_x',\n",
       "       'avgspeed_y', 'block', 'codesum_x', 'codesum_y', 'cool_x', 'cool_y',\n",
       "       'date', 'day', 'depart_x', 'depart_y', 'depth_x', 'depth_y',\n",
       "       'dewpoint_x', 'dewpoint_y', 'distance', 'heat_x', 'heat_y', 'index',\n",
       "       'latitude', 'longitude', 'month', 'nummosquitos', 'preciptotal_x',\n",
       "       'preciptotal_y', 'resultdir_x', 'resultdir_y', 'resultspeed_x',\n",
       "       'resultspeed_y', 'sealevel_x', 'sealevel_y', 'snowfall_x', 'snowfall_y',\n",
       "       'species_culex_pipiens', 'species_culex_pipiens/restuans',\n",
       "       'species_culex_restuans', 'species_culex_salinarius',\n",
       "       'species_culex_tarsalis', 'species_culex_territans', 'stnpressure_x',\n",
       "       'stnpressure_y', 'street', 'sunrise_x', 'sunrise_y', 'sunset_x',\n",
       "       'sunset_y', 'tavg_x', 'tavg_y', 'tmax_x', 'tmax_y', 'tmin_x', 'tmin_y',\n",
       "       'trap', 'water1_x', 'water1_y', 'wetbulb_x', 'wetbulb_y', 'wnvpresent',\n",
       "       'year'],\n",
       "      dtype='object')"
      ]
     },
     "execution_count": 31,
     "metadata": {},
     "output_type": "execute_result"
    }
   ],
   "source": [
    "train.columns"
   ]
  },
  {
   "cell_type": "code",
   "execution_count": 28,
   "metadata": {},
   "outputs": [],
   "source": [
    "# replace some missing values and T with -1\n",
    "test = test.replace('M', -1)\n",
    "test = test.replace('-', -1)\n",
    "test = test.replace('T', -1)\n",
    "test = test.replace(' T', -1)"
   ]
  },
  {
   "cell_type": "code",
   "execution_count": 29,
   "metadata": {},
   "outputs": [],
   "source": [
    "#This is just a shortcut for now. If we rerun the original EDA doc, this row will kick an error out.\n",
    "test['distance'] = test['distance.1']"
   ]
  },
  {
   "cell_type": "code",
   "execution_count": 30,
   "metadata": {},
   "outputs": [],
   "source": [
    "test.drop(columns = 'distance.1', inplace=True)"
   ]
  },
  {
   "cell_type": "code",
   "execution_count": null,
   "metadata": {},
   "outputs": [],
   "source": [
    "#Creating interaction terms with distance and species. Input markdown here about vertical transmission."
   ]
  },
  {
   "cell_type": "code",
   "execution_count": 39,
   "metadata": {},
   "outputs": [],
   "source": [
    "train['dist_species_culex_pipiens'] = train['species_culex_pipiens'] * train['distance']\n",
    "test['dist_species_culex_pipiens'] = test['species_culex_pipiens'] * test['distance']"
   ]
  },
  {
   "cell_type": "code",
   "execution_count": 40,
   "metadata": {},
   "outputs": [],
   "source": [
    "train['dist_species_culex_pipiens/restuans'] = train['species_culex_pipiens/restuans'] * train['distance']\n",
    "test['dist_species_culex_pipiens/restuans'] = test['species_culex_pipiens/restuans'] * test['distance']"
   ]
  },
  {
   "cell_type": "code",
   "execution_count": 41,
   "metadata": {},
   "outputs": [],
   "source": [
    "train['dist_species_culex_restuans'] = train['species_culex_restuans'] * train['distance']\n",
    "test['dist_species_culex_restuans'] = test['species_culex_restuans'] * test['distance']"
   ]
  },
  {
   "cell_type": "code",
   "execution_count": 42,
   "metadata": {},
   "outputs": [],
   "source": [
    "train['dist_species_culex_salinarius'] = train['species_culex_salinarius'] * train['distance']\n",
    "test['dist_species_culex_salinarius'] = test['species_culex_salinarius'] * test['distance']"
   ]
  },
  {
   "cell_type": "code",
   "execution_count": 43,
   "metadata": {},
   "outputs": [],
   "source": [
    "train['dist_species_culex_tarsalis'] = train['species_culex_tarsalis'] * train['distance']\n",
    "test['dist_species_culex_tarsalis'] = test['species_culex_tarsalis'] * test['distance']"
   ]
  },
  {
   "cell_type": "code",
   "execution_count": 44,
   "metadata": {},
   "outputs": [],
   "source": [
    "train['dist_species_culex_territans'] = train['species_culex_territans'] * train['distance']\n",
    "test['dist_species_culex_territans'] = test['species_culex_territans'] * test['distance']"
   ]
  },
  {
   "cell_type": "code",
   "execution_count": 45,
   "metadata": {},
   "outputs": [],
   "source": [
    "train.to_csv('./data/trainw.csv')\n",
    "test.to_csv('./data/testw.csv')"
   ]
  }
 ],
 "metadata": {
  "kernelspec": {
   "display_name": "Python 3",
   "language": "python",
   "name": "python3"
  },
  "language_info": {
   "codemirror_mode": {
    "name": "ipython",
    "version": 3
   },
   "file_extension": ".py",
   "mimetype": "text/x-python",
   "name": "python",
   "nbconvert_exporter": "python",
   "pygments_lexer": "ipython3",
   "version": "3.6.5"
  }
 },
 "nbformat": 4,
 "nbformat_minor": 2
}
