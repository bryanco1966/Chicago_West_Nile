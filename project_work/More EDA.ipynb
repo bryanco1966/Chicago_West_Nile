{
 "cells": [
  {
   "cell_type": "code",
   "execution_count": 1,
   "metadata": {},
   "outputs": [],
   "source": [
    "import pandas as pd\n",
    "import seaborn as sns\n",
    "pd.core.common.is_list_like = pd.api.types.is_list_like\n",
    "import pandas_datareader.data as web\n",
    "from datetime import datetime\n",
    "import matplotlib.pyplot as plt\n",
    "#from geopy.distance import geodesic\n",
    "import time\n",
    "from sklearn.preprocessing import LabelEncoder"
   ]
  },
  {
   "cell_type": "code",
   "execution_count": 2,
   "metadata": {},
   "outputs": [
    {
     "name": "stderr",
     "output_type": "stream",
     "text": [
      "/Users/bryancombs/anaconda3/lib/python3.6/site-packages/IPython/core/interactiveshell.py:2728: DtypeWarning: Columns (27,28,48) have mixed types. Specify dtype option on import or set low_memory=False.\n",
      "  interactivity=interactivity, compiler=compiler, result=result)\n"
     ]
    }
   ],
   "source": [
    "train = pd.read_csv('./data/trainclean.csv')\n",
    "test = pd.read_csv('./data/testclean.csv')"
   ]
  },
  {
   "cell_type": "code",
   "execution_count": 3,
   "metadata": {},
   "outputs": [],
   "source": [
    "# replace some missing values and T with -1\n",
    "train = train.replace('M', -1)\n",
    "train = train.replace('-', -1)\n",
    "train = train.replace('T', -1)\n",
    "train = train.replace(' T', -1)\n",
    "train = train.replace('  T', -1)"
   ]
  },
  {
   "cell_type": "code",
   "execution_count": 4,
   "metadata": {
    "scrolled": false
   },
   "outputs": [
    {
     "data": {
      "text/plain": [
       "Index(['index', 'id', 'date', 'address', 'block', 'street', 'trap',\n",
       "       'addressnumberandstreet', 'latitude', 'longitude', 'addressaccuracy',\n",
       "       'year', 'month', 'day', 'tmax_x', 'tmin_x', 'tavg_x', 'depart_x',\n",
       "       'dewpoint_x', 'wetbulb_x', 'heat_x', 'cool_x', 'sunrise_x', 'sunset_x',\n",
       "       'codesum_x', 'depth_x', 'water1_x', 'snowfall_x', 'preciptotal_x',\n",
       "       'stnpressure_x', 'sealevel_x', 'resultspeed_x', 'resultdir_x',\n",
       "       'avgspeed_x', 'tmax_y', 'tmin_y', 'tavg_y', 'depart_y', 'dewpoint_y',\n",
       "       'wetbulb_y', 'heat_y', 'cool_y', 'sunrise_y', 'sunset_y', 'codesum_y',\n",
       "       'depth_y', 'water1_y', 'snowfall_y', 'preciptotal_y', 'stnpressure_y',\n",
       "       'sealevel_y', 'resultspeed_y', 'resultdir_y', 'avgspeed_y',\n",
       "       'species_culex_pipiens', 'species_culex_pipiens/restuans',\n",
       "       'species_culex_restuans', 'species_culex_salinarius',\n",
       "       'species_culex_tarsalis', 'species_culex_territans',\n",
       "       'species_unspecified_culex', 'distance', 'distance.1'],\n",
       "      dtype='object')"
      ]
     },
     "execution_count": 4,
     "metadata": {},
     "output_type": "execute_result"
    }
   ],
   "source": [
    "test.columns"
   ]
  },
  {
   "cell_type": "code",
   "execution_count": 5,
   "metadata": {},
   "outputs": [],
   "source": [
    "# test.drop[columns = ['address', 'addressanumberandstreet']]\n",
    "# train.drop[columns = []]"
   ]
  },
  {
   "cell_type": "code",
   "execution_count": 6,
   "metadata": {},
   "outputs": [],
   "source": [
    "lbl = LabelEncoder()\n",
    "lbl.fit(list(train['trap'].values) + list(test['trap'].values))\n",
    "train['trap'] = lbl.transform(train['trap'].values)\n",
    "test['trap'] = lbl.transform(test['trap'].values)"
   ]
  },
  {
   "cell_type": "code",
   "execution_count": 7,
   "metadata": {},
   "outputs": [],
   "source": [
    "lbl.fit(list(train['block'].values) + list(test['block'].values))\n",
    "train['block'] = lbl.transform(train['block'].values)\n",
    "test['block'] = lbl.transform(test['block'].values)"
   ]
  },
  {
   "cell_type": "code",
   "execution_count": 8,
   "metadata": {},
   "outputs": [],
   "source": [
    "lbl.fit(list(train['street'].values) + list(test['street'].values))\n",
    "train['street'] = lbl.transform(train['street'].values)\n",
    "test['street'] = lbl.transform(test['street'].values)"
   ]
  },
  {
   "cell_type": "code",
   "execution_count": 9,
   "metadata": {},
   "outputs": [
    {
     "data": {
      "text/plain": [
       "0        26\n",
       "1        26\n",
       "2        42\n",
       "3        55\n",
       "4        55\n",
       "5         5\n",
       "6        12\n",
       "7         1\n",
       "8         1\n",
       "9         1\n",
       "10        9\n",
       "11       10\n",
       "12       10\n",
       "13       10\n",
       "14       10\n",
       "15        1\n",
       "16        6\n",
       "17       10\n",
       "18       10\n",
       "19       37\n",
       "20       37\n",
       "21       45\n",
       "22       53\n",
       "23        5\n",
       "24       59\n",
       "25       26\n",
       "26       26\n",
       "27       26\n",
       "28       55\n",
       "29       55\n",
       "         ..\n",
       "10476     0\n",
       "10477     0\n",
       "10478     0\n",
       "10479    39\n",
       "10480    25\n",
       "10481    25\n",
       "10482    25\n",
       "10483    61\n",
       "10484     0\n",
       "10485     0\n",
       "10486     0\n",
       "10487     0\n",
       "10488     0\n",
       "10489     0\n",
       "10490    32\n",
       "10491    35\n",
       "10492    35\n",
       "10493    58\n",
       "10494    45\n",
       "10495    45\n",
       "10496     6\n",
       "10497    60\n",
       "10498     3\n",
       "10499     3\n",
       "10500    24\n",
       "10501    35\n",
       "10502    39\n",
       "10503     6\n",
       "10504    50\n",
       "10505    27\n",
       "Name: block, Length: 10506, dtype: int64"
      ]
     },
     "execution_count": 9,
     "metadata": {},
     "output_type": "execute_result"
    }
   ],
   "source": [
    "train.block"
   ]
  },
  {
   "cell_type": "markdown",
   "metadata": {},
   "source": [
    "#### There is missing data in the dataset\n",
    "Many missing values are entered a M, - and T in the data set.  This code sets them all to -1 do distinquish from other data"
   ]
  },
  {
   "cell_type": "code",
   "execution_count": 10,
   "metadata": {},
   "outputs": [],
   "source": [
    "# replace some missing values and T with -1\n",
    "test = test.replace('M', -1)\n",
    "test = test.replace('-', -1)\n",
    "test = test.replace('T', -1)\n",
    "test = test.replace(' T', -1)\n",
    "test = test.replace('  T', -1)"
   ]
  },
  {
   "cell_type": "code",
   "execution_count": 11,
   "metadata": {
    "scrolled": false
   },
   "outputs": [
    {
     "data": {
      "text/plain": [
       "132    750\n",
       "64     542\n",
       "86     347\n",
       "50     266\n",
       "36     216\n",
       "102    185\n",
       "98     183\n",
       "40     173\n",
       "18     172\n",
       "1      160\n",
       "0      156\n",
       "112    154\n",
       "4      152\n",
       "71     148\n",
       "96     147\n",
       "134    146\n",
       "58     146\n",
       "131    140\n",
       "35     139\n",
       "39     133\n",
       "54     130\n",
       "88     129\n",
       "69     129\n",
       "8      128\n",
       "19     126\n",
       "33     122\n",
       "48     117\n",
       "55     114\n",
       "62     112\n",
       "5      112\n",
       "      ... \n",
       "51      23\n",
       "16      23\n",
       "10      22\n",
       "114     22\n",
       "119     22\n",
       "75      21\n",
       "27      21\n",
       "70      21\n",
       "128     21\n",
       "79      20\n",
       "61      20\n",
       "76      19\n",
       "14      18\n",
       "92      17\n",
       "7       17\n",
       "45      17\n",
       "87      15\n",
       "11      15\n",
       "47      15\n",
       "133     15\n",
       "101     14\n",
       "135     14\n",
       "124     14\n",
       "137     12\n",
       "91       8\n",
       "83       8\n",
       "109      7\n",
       "73       5\n",
       "110      3\n",
       "67       2\n",
       "Name: street, Length: 128, dtype: int64"
      ]
     },
     "execution_count": 11,
     "metadata": {},
     "output_type": "execute_result"
    }
   ],
   "source": [
    "train.street.value_counts()"
   ]
  },
  {
   "cell_type": "code",
   "execution_count": 12,
   "metadata": {},
   "outputs": [
    {
     "data": {
      "text/plain": [
       "0     1722\n",
       "1      736\n",
       "2      605\n",
       "10     500\n",
       "3      345\n",
       "22     330\n",
       "6      305\n",
       "27     300\n",
       "49     295\n",
       "36     277\n",
       "39     252\n",
       "34     244\n",
       "20     229\n",
       "41     228\n",
       "12     218\n",
       "25     189\n",
       "26     185\n",
       "18     179\n",
       "24     177\n",
       "11     160\n",
       "59     157\n",
       "21     133\n",
       "50     133\n",
       "35     132\n",
       "30     122\n",
       "58     120\n",
       "45     117\n",
       "40     116\n",
       "47     116\n",
       "61     111\n",
       "      ... \n",
       "54      92\n",
       "28      91\n",
       "17      90\n",
       "5       90\n",
       "43      86\n",
       "60      77\n",
       "53      69\n",
       "23      68\n",
       "51      66\n",
       "44      63\n",
       "32      60\n",
       "42      56\n",
       "37      51\n",
       "9       49\n",
       "7       43\n",
       "33      39\n",
       "57      36\n",
       "63      31\n",
       "52      30\n",
       "48      29\n",
       "8       25\n",
       "64      23\n",
       "46      21\n",
       "62      21\n",
       "31      20\n",
       "14      17\n",
       "56      13\n",
       "19       7\n",
       "38       5\n",
       "16       3\n",
       "Name: block, Length: 64, dtype: int64"
      ]
     },
     "execution_count": 12,
     "metadata": {},
     "output_type": "execute_result"
    }
   ],
   "source": [
    "train.block.value_counts()"
   ]
  },
  {
   "cell_type": "code",
   "execution_count": 13,
   "metadata": {},
   "outputs": [],
   "source": [
    "#This is just a shortcut for now. If we rerun the original EDA doc, this row will kick an error out.\n",
    "test['distance'] = test['distance.1']"
   ]
  },
  {
   "cell_type": "code",
   "execution_count": 14,
   "metadata": {},
   "outputs": [],
   "source": [
    "test.drop(columns = 'distance.1', inplace=True)"
   ]
  },
  {
   "cell_type": "code",
   "execution_count": 15,
   "metadata": {},
   "outputs": [],
   "source": [
    "#Creating interaction terms with distance and species. Input markdown here about vertical transmission."
   ]
  },
  {
   "cell_type": "code",
   "execution_count": 16,
   "metadata": {},
   "outputs": [],
   "source": [
    "train['dist_species_culex_pipiens'] = train['species_culex_pipiens'] * train['distance']\n",
    "test['dist_species_culex_pipiens'] = test['species_culex_pipiens'] * test['distance']"
   ]
  },
  {
   "cell_type": "code",
   "execution_count": 17,
   "metadata": {},
   "outputs": [],
   "source": [
    "train['dist_species_culex_pipiens/restuans'] = train['species_culex_pipiens/restuans'] * train['distance']\n",
    "test['dist_species_culex_pipiens/restuans'] = test['species_culex_pipiens/restuans'] * test['distance']"
   ]
  },
  {
   "cell_type": "code",
   "execution_count": 18,
   "metadata": {},
   "outputs": [],
   "source": [
    "train['dist_species_culex_restuans'] = train['species_culex_restuans'] * train['distance']\n",
    "test['dist_species_culex_restuans'] = test['species_culex_restuans'] * test['distance']"
   ]
  },
  {
   "cell_type": "code",
   "execution_count": 19,
   "metadata": {},
   "outputs": [],
   "source": [
    "train['dist_species_culex_salinarius'] = train['species_culex_salinarius'] * train['distance']\n",
    "test['dist_species_culex_salinarius'] = test['species_culex_salinarius'] * test['distance']"
   ]
  },
  {
   "cell_type": "code",
   "execution_count": 20,
   "metadata": {},
   "outputs": [],
   "source": [
    "train['dist_species_culex_tarsalis'] = train['species_culex_tarsalis'] * train['distance']\n",
    "test['dist_species_culex_tarsalis'] = test['species_culex_tarsalis'] * test['distance']"
   ]
  },
  {
   "cell_type": "code",
   "execution_count": 21,
   "metadata": {},
   "outputs": [],
   "source": [
    "train['dist_species_culex_territans'] = train['species_culex_territans'] * train['distance']\n",
    "test['dist_species_culex_territans'] = test['species_culex_territans'] * test['distance']"
   ]
  },
  {
   "cell_type": "code",
   "execution_count": 22,
   "metadata": {},
   "outputs": [],
   "source": [
    "test['species_unspecified_culex_dist'] = test['species_unspecified_culex'] * test['distance']"
   ]
  },
  {
   "cell_type": "markdown",
   "metadata": {},
   "source": [
    "#### Month distance interaction\n",
    "\n",
    "In visualizing the data in Tableau, we can see that the West Nile cases start to be more prolific in the mid summer with fewer cases in the early and late summer so though that distance might interact with month."
   ]
  },
  {
   "cell_type": "code",
   "execution_count": null,
   "metadata": {},
   "outputs": [],
   "source": []
  },
  {
   "cell_type": "markdown",
   "metadata": {},
   "source": [
    "Trap data should be dummied the numbers do not mean anything on their own.  "
   ]
  },
  {
   "cell_type": "code",
   "execution_count": 23,
   "metadata": {},
   "outputs": [],
   "source": [
    "train.to_csv('./data/trainw.csv')\n",
    "test.to_csv('./data/testw.csv')"
   ]
  }
 ],
 "metadata": {
  "kernelspec": {
   "display_name": "Python 3",
   "language": "python",
   "name": "python3"
  },
  "language_info": {
   "codemirror_mode": {
    "name": "ipython",
    "version": 3
   },
   "file_extension": ".py",
   "mimetype": "text/x-python",
   "name": "python",
   "nbconvert_exporter": "python",
   "pygments_lexer": "ipython3",
   "version": "3.6.4"
  }
 },
 "nbformat": 4,
 "nbformat_minor": 2
}
