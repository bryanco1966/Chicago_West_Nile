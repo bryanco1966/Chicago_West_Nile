{
 "cells": [
  {
   "cell_type": "markdown",
   "metadata": {},
   "source": [
    "# West Nile Analysis"
   ]
  },
  {
   "cell_type": "code",
   "execution_count": 1,
   "metadata": {},
   "outputs": [
    {
     "name": "stderr",
     "output_type": "stream",
     "text": [
      "/Users/bryancombs/anaconda3/lib/python3.6/site-packages/sklearn/cross_validation.py:41: DeprecationWarning: This module was deprecated in version 0.18 in favor of the model_selection module into which all the refactored classes and functions are moved. Also note that the interface of the new CV iterators are different from that of this module. This module will be removed in 0.20.\n",
      "  \"This module will be removed in 0.20.\", DeprecationWarning)\n",
      "/Users/bryancombs/anaconda3/lib/python3.6/site-packages/sklearn/grid_search.py:42: DeprecationWarning: This module was deprecated in version 0.18 in favor of the model_selection module into which all the refactored classes and functions are moved. This module will be removed in 0.20.\n",
      "  DeprecationWarning)\n"
     ]
    }
   ],
   "source": [
    "import pandas as pd\n",
    "import numpy as np\n",
    "from sklearn.metrics import roc_curve, auc\n",
    "from sklearn.ensemble import RandomForestClassifier, ExtraTreesClassifier,  AdaBoostClassifier\n",
    "from sklearn.cross_validation import train_test_split, KFold, cross_val_score\n",
    "from sklearn.grid_search import GridSearchCV\n",
    "from sklearn.metrics import classification_report, confusion_matrix\n",
    "import matplotlib.pyplot as plt\n",
    "import seaborn as sns\n",
    "\n"
   ]
  },
  {
   "cell_type": "code",
   "execution_count": 2,
   "metadata": {
    "scrolled": true
   },
   "outputs": [],
   "source": [
    "train = pd.read_csv('../data/trainw.csv')\n",
    "test  = pd.read_csv('../data/testw.csv')\n",
    "train.columns = [col.lower().replace(' ', '_') for col in train.columns]\n",
    "test.columns = [col.lower().replace(' ', '_') for col in test.columns]\n",
    "\n",
    "\n",
    "#read cleaned data and bring and trainform all variables to lower_camel_case\n",
    "                    "
   ]
  },
  {
   "cell_type": "code",
   "execution_count": 3,
   "metadata": {},
   "outputs": [
    {
     "data": {
      "text/plain": [
       "unnamed:_0                                0\n",
       "address                                   0\n",
       "addressaccuracy                           0\n",
       "addressnumberandstreet                    0\n",
       "avgspeed_x                                0\n",
       "avgspeed_y                                0\n",
       "block                                     0\n",
       "codesum_x                                 0\n",
       "codesum_y                                 0\n",
       "cool_x                                    0\n",
       "cool_y                                    0\n",
       "date                                      0\n",
       "day                                       0\n",
       "depart_x                                  0\n",
       "depart_y                                  0\n",
       "depth_x                                   0\n",
       "depth_y                                   0\n",
       "dewpoint_x                                0\n",
       "dewpoint_y                                0\n",
       "distance                                  0\n",
       "heat_x                                    0\n",
       "heat_y                                    0\n",
       "index                                  3811\n",
       "latitude                                  0\n",
       "longitude                                 0\n",
       "month                                     0\n",
       "nummosquitos                              0\n",
       "preciptotal_x                             0\n",
       "preciptotal_y                             0\n",
       "resultdir_x                               0\n",
       "                                       ... \n",
       "tavg_y                                    0\n",
       "tmax_x                                    0\n",
       "tmax_y                                    0\n",
       "tmin_x                                    0\n",
       "tmin_y                                    0\n",
       "trap                                      0\n",
       "water1_x                                  0\n",
       "water1_y                                  0\n",
       "wetbulb_x                                 0\n",
       "wetbulb_y                                 0\n",
       "wnvpresent                                0\n",
       "year                                      0\n",
       "dist_species_culex_pipiens                0\n",
       "dist_species_culex_pipiens/restuans       0\n",
       "dist_species_culex_restuans               0\n",
       "dist_species_culex_salinarius             0\n",
       "dist_species_culex_tarsalis               0\n",
       "dist_species_culex_territans              0\n",
       "temp_and_precip_x                         0\n",
       "trap_and_precip_x                        15\n",
       "block_and_precip_x                     1719\n",
       "low_sealevel_x                            0\n",
       "low_sealevel_y                            0\n",
       "month_and_dist                            0\n",
       "month_and_sealevel_x                      0\n",
       "month_and_sealevel_y                      0\n",
       "month_dist_temp_x                         0\n",
       "month_dist_temp_y                         0\n",
       "month_dist_sealevel_x                     0\n",
       "month_dist_sealevel_y                     0\n",
       "Length: 81, dtype: int64"
      ]
     },
     "execution_count": 3,
     "metadata": {},
     "output_type": "execute_result"
    }
   ],
   "source": [
    "train.isnull().sum() \n"
   ]
  },
  {
   "cell_type": "code",
   "execution_count": 4,
   "metadata": {},
   "outputs": [],
   "source": [
    "#included features to set up X and Y from training set\n",
    "features = [ 'trap', 'block', 'month', 'street', \n",
    "             \n",
    "            'tmax_y', \n",
    "            'tavg_y', 'dewpoint_y',\n",
    "            'preciptotal_y', 'stnpressure_y',\n",
    "            'sealevel_y', 'resultspeed_y', 'resultdir_y', 'avgspeed_y', 'distance',\n",
    "            'dist_species_culex_pipiens',\n",
    "            'dist_species_culex_pipiens/restuans', 'dist_species_culex_restuans',\n",
    "            'dist_species_culex_salinarius', \n",
    "            'dist_species_culex_territans',\n",
    "            'month_dist_temp_y',\n",
    "            'month_and_dist'\n",
    "            \n",
    "           ]\n",
    "X = train[features]\n",
    "y = train['wnvpresent']"
   ]
  },
  {
   "cell_type": "code",
   "execution_count": 5,
   "metadata": {},
   "outputs": [],
   "source": [
    "#do a train test split with stratified data due to unbalanced classes\n",
    "\n",
    "X_train, X_test, y_train, y_test = train_test_split(X, y, random_state= 6, stratify = y)"
   ]
  },
  {
   "cell_type": "markdown",
   "metadata": {},
   "source": [
    "#### Dealing with unbalanced classes\n",
    "\n",
    "We have unbalanced classes in our data set with only about 5.24% of our observations containing the West Nile Virus.  In order to better predict the minority class which is the class of interest we are oversampling the data where West Nile is present in our training data.  We leave the testing data untouched."
   ]
  },
  {
   "cell_type": "code",
   "execution_count": 6,
   "metadata": {
    "scrolled": false
   },
   "outputs": [
    {
     "data": {
      "text/html": [
       "<div>\n",
       "<style scoped>\n",
       "    .dataframe tbody tr th:only-of-type {\n",
       "        vertical-align: middle;\n",
       "    }\n",
       "\n",
       "    .dataframe tbody tr th {\n",
       "        vertical-align: top;\n",
       "    }\n",
       "\n",
       "    .dataframe thead th {\n",
       "        text-align: right;\n",
       "    }\n",
       "</style>\n",
       "<table border=\"1\" class=\"dataframe\">\n",
       "  <thead>\n",
       "    <tr style=\"text-align: right;\">\n",
       "      <th></th>\n",
       "      <th>trap</th>\n",
       "      <th>block</th>\n",
       "      <th>month</th>\n",
       "      <th>street</th>\n",
       "      <th>tmax_y</th>\n",
       "      <th>tavg_y</th>\n",
       "      <th>dewpoint_y</th>\n",
       "      <th>preciptotal_y</th>\n",
       "      <th>stnpressure_y</th>\n",
       "      <th>sealevel_y</th>\n",
       "      <th>...</th>\n",
       "      <th>avgspeed_y</th>\n",
       "      <th>distance</th>\n",
       "      <th>dist_species_culex_pipiens</th>\n",
       "      <th>dist_species_culex_pipiens/restuans</th>\n",
       "      <th>dist_species_culex_restuans</th>\n",
       "      <th>dist_species_culex_salinarius</th>\n",
       "      <th>dist_species_culex_territans</th>\n",
       "      <th>month_dist_temp_x</th>\n",
       "      <th>month_and_dist</th>\n",
       "      <th>wnvpresent</th>\n",
       "    </tr>\n",
       "  </thead>\n",
       "  <tbody>\n",
       "    <tr>\n",
       "      <th>10477</th>\n",
       "      <td>76</td>\n",
       "      <td>0</td>\n",
       "      <td>9.0</td>\n",
       "      <td>62</td>\n",
       "      <td>75</td>\n",
       "      <td>65</td>\n",
       "      <td>52</td>\n",
       "      <td>0.00</td>\n",
       "      <td>29.40</td>\n",
       "      <td>30.04</td>\n",
       "      <td>...</td>\n",
       "      <td>4.6</td>\n",
       "      <td>0.488413</td>\n",
       "      <td>0.000000</td>\n",
       "      <td>0.000000</td>\n",
       "      <td>0.488413</td>\n",
       "      <td>0.0</td>\n",
       "      <td>0.0</td>\n",
       "      <td>276.930395</td>\n",
       "      <td>4.395721</td>\n",
       "      <td>0.0</td>\n",
       "    </tr>\n",
       "    <tr>\n",
       "      <th>1929</th>\n",
       "      <td>11</td>\n",
       "      <td>41</td>\n",
       "      <td>8.0</td>\n",
       "      <td>121</td>\n",
       "      <td>81</td>\n",
       "      <td>77</td>\n",
       "      <td>69</td>\n",
       "      <td>0.83</td>\n",
       "      <td>29.23</td>\n",
       "      <td>29.87</td>\n",
       "      <td>...</td>\n",
       "      <td>7.1</td>\n",
       "      <td>0.539636</td>\n",
       "      <td>0.539636</td>\n",
       "      <td>0.000000</td>\n",
       "      <td>0.000000</td>\n",
       "      <td>0.0</td>\n",
       "      <td>0.0</td>\n",
       "      <td>328.098834</td>\n",
       "      <td>4.317090</td>\n",
       "      <td>0.0</td>\n",
       "    </tr>\n",
       "    <tr>\n",
       "      <th>6</th>\n",
       "      <td>33</td>\n",
       "      <td>12</td>\n",
       "      <td>5.0</td>\n",
       "      <td>123</td>\n",
       "      <td>88</td>\n",
       "      <td>77</td>\n",
       "      <td>59</td>\n",
       "      <td>0.00</td>\n",
       "      <td>29.44</td>\n",
       "      <td>30.09</td>\n",
       "      <td>...</td>\n",
       "      <td>7.4</td>\n",
       "      <td>0.358443</td>\n",
       "      <td>0.000000</td>\n",
       "      <td>0.000000</td>\n",
       "      <td>0.358443</td>\n",
       "      <td>0.0</td>\n",
       "      <td>0.0</td>\n",
       "      <td>132.624089</td>\n",
       "      <td>1.792217</td>\n",
       "      <td>0.0</td>\n",
       "    </tr>\n",
       "    <tr>\n",
       "      <th>3078</th>\n",
       "      <td>9</td>\n",
       "      <td>21</td>\n",
       "      <td>9.0</td>\n",
       "      <td>39</td>\n",
       "      <td>66</td>\n",
       "      <td>56</td>\n",
       "      <td>43</td>\n",
       "      <td>0.00</td>\n",
       "      <td>29.46</td>\n",
       "      <td>30.11</td>\n",
       "      <td>...</td>\n",
       "      <td>6.0</td>\n",
       "      <td>1.771727</td>\n",
       "      <td>0.000000</td>\n",
       "      <td>1.771727</td>\n",
       "      <td>0.000000</td>\n",
       "      <td>0.0</td>\n",
       "      <td>0.0</td>\n",
       "      <td>908.895877</td>\n",
       "      <td>15.945542</td>\n",
       "      <td>1.0</td>\n",
       "    </tr>\n",
       "    <tr>\n",
       "      <th>3279</th>\n",
       "      <td>40</td>\n",
       "      <td>10</td>\n",
       "      <td>9.0</td>\n",
       "      <td>133</td>\n",
       "      <td>89</td>\n",
       "      <td>78</td>\n",
       "      <td>57</td>\n",
       "      <td>0.00</td>\n",
       "      <td>29.41</td>\n",
       "      <td>30.05</td>\n",
       "      <td>...</td>\n",
       "      <td>12.8</td>\n",
       "      <td>0.622362</td>\n",
       "      <td>0.000000</td>\n",
       "      <td>0.622362</td>\n",
       "      <td>0.000000</td>\n",
       "      <td>0.0</td>\n",
       "      <td>0.0</td>\n",
       "      <td>425.695939</td>\n",
       "      <td>5.601262</td>\n",
       "      <td>0.0</td>\n",
       "    </tr>\n",
       "  </tbody>\n",
       "</table>\n",
       "<p>5 rows × 22 columns</p>\n",
       "</div>"
      ],
      "text/plain": [
       "       trap  block  month  street  tmax_y  tavg_y  dewpoint_y  preciptotal_y  \\\n",
       "10477    76      0    9.0      62      75      65          52           0.00   \n",
       "1929     11     41    8.0     121      81      77          69           0.83   \n",
       "6        33     12    5.0     123      88      77          59           0.00   \n",
       "3078      9     21    9.0      39      66      56          43           0.00   \n",
       "3279     40     10    9.0     133      89      78          57           0.00   \n",
       "\n",
       "       stnpressure_y  sealevel_y     ...      avgspeed_y  distance  \\\n",
       "10477          29.40       30.04     ...             4.6  0.488413   \n",
       "1929           29.23       29.87     ...             7.1  0.539636   \n",
       "6              29.44       30.09     ...             7.4  0.358443   \n",
       "3078           29.46       30.11     ...             6.0  1.771727   \n",
       "3279           29.41       30.05     ...            12.8  0.622362   \n",
       "\n",
       "       dist_species_culex_pipiens  dist_species_culex_pipiens/restuans  \\\n",
       "10477                    0.000000                             0.000000   \n",
       "1929                     0.539636                             0.000000   \n",
       "6                        0.000000                             0.000000   \n",
       "3078                     0.000000                             1.771727   \n",
       "3279                     0.000000                             0.622362   \n",
       "\n",
       "       dist_species_culex_restuans  dist_species_culex_salinarius  \\\n",
       "10477                     0.488413                            0.0   \n",
       "1929                      0.000000                            0.0   \n",
       "6                         0.358443                            0.0   \n",
       "3078                      0.000000                            0.0   \n",
       "3279                      0.000000                            0.0   \n",
       "\n",
       "       dist_species_culex_territans  month_dist_temp_x  month_and_dist  \\\n",
       "10477                           0.0         276.930395        4.395721   \n",
       "1929                            0.0         328.098834        4.317090   \n",
       "6                               0.0         132.624089        1.792217   \n",
       "3078                            0.0         908.895877       15.945542   \n",
       "3279                            0.0         425.695939        5.601262   \n",
       "\n",
       "       wnvpresent  \n",
       "10477         0.0  \n",
       "1929          0.0  \n",
       "6             0.0  \n",
       "3078          1.0  \n",
       "3279          0.0  \n",
       "\n",
       "[5 rows x 22 columns]"
      ]
     },
     "execution_count": 6,
     "metadata": {},
     "output_type": "execute_result"
    }
   ],
   "source": [
    "#merging the target variable back onto the training data in order to sample off its value\n",
    "\n",
    "datasets = (X_train, y_train)\n",
    "traincombined = pd.concat(datasets, axis = 1)\n",
    "traincombined.head()"
   ]
  },
  {
   "cell_type": "code",
   "execution_count": 7,
   "metadata": {},
   "outputs": [],
   "source": [
    "#Select West nile cases and generate 5000 samples\n",
    "west_nile = traincombined[traincombined.wnvpresent == 1]\n",
    "extra_west_nile = west_nile.sample(n = 5000, replace = True, random_state = 63, axis = 0)"
   ]
  },
  {
   "cell_type": "code",
   "execution_count": 8,
   "metadata": {},
   "outputs": [],
   "source": [
    "#merge samples onto original data\n",
    "merge = [traincombined, extra_west_nile]\n",
    "traincombined = pd.concat(merge, axis = 0)"
   ]
  },
  {
   "cell_type": "code",
   "execution_count": 9,
   "metadata": {
    "scrolled": true
   },
   "outputs": [],
   "source": [
    "#Break our training data back into a X and a y\n",
    "X_train = traincombined[features]\n",
    "y_train = traincombined['wnvpresent']"
   ]
  },
  {
   "cell_type": "markdown",
   "metadata": {},
   "source": [
    "### Set up our model for grid search evaluation"
   ]
  },
  {
   "cell_type": "code",
   "execution_count": 10,
   "metadata": {
    "scrolled": false
   },
   "outputs": [],
   "source": [
    "ad = AdaBoostClassifier()\n",
    "rf_params = {\n",
    "    'n_estimators'       : [  400, ],\n",
    "    'learning_rate'          : [ .9  ]\n",
    "   }\n",
    "\n"
   ]
  },
  {
   "cell_type": "code",
   "execution_count": 11,
   "metadata": {},
   "outputs": [],
   "source": [
    "gs = GridSearchCV(ad, \n",
    "                  param_grid=rf_params,\n",
    "                 scoring = 'recall', \n",
    "                  cv = 4)\n"
   ]
  },
  {
   "cell_type": "code",
   "execution_count": 12,
   "metadata": {},
   "outputs": [
    {
     "name": "stdout",
     "output_type": "stream",
     "text": [
      "0.8041751732000215\n",
      "{'learning_rate': 0.9, 'n_estimators': 400}\n",
      "0.6594202898550725\n"
     ]
    }
   ],
   "source": [
    "gs.fit(X_train, y_train)\n",
    "print(gs.best_score_)\n",
    "print(gs.best_params_)\n",
    "print(gs.score(X_test, y_test))\n"
   ]
  },
  {
   "cell_type": "code",
   "execution_count": 13,
   "metadata": {},
   "outputs": [],
   "source": [
    "y_hat = gs.predict(X_test)\n",
    "y_hat_train = gs.predict(X_train)\n",
    "y_hat_prob = gs.predict_proba(X_test)\n"
   ]
  },
  {
   "cell_type": "code",
   "execution_count": 14,
   "metadata": {},
   "outputs": [
    {
     "data": {
      "text/plain": [
       "AdaBoostClassifier(algorithm='SAMME.R', base_estimator=None,\n",
       "          learning_rate=1.0, n_estimators=50, random_state=None)"
      ]
     },
     "execution_count": 14,
     "metadata": {},
     "output_type": "execute_result"
    }
   ],
   "source": [
    "ad.fit(X_train, y_train)"
   ]
  },
  {
   "cell_type": "code",
   "execution_count": 15,
   "metadata": {},
   "outputs": [
    {
     "data": {
      "text/plain": [
       "array([0.14, 0.02, 0.06, 0.02, 0.12, 0.02, 0.04, 0.04, 0.04, 0.02, 0.06,\n",
       "       0.04, 0.08, 0.02, 0.04, 0.04, 0.06, 0.02, 0.02, 0.04, 0.06])"
      ]
     },
     "execution_count": 15,
     "metadata": {},
     "output_type": "execute_result"
    }
   ],
   "source": [
    "ad.feature_importances_"
   ]
  },
  {
   "cell_type": "code",
   "execution_count": 16,
   "metadata": {},
   "outputs": [
    {
     "name": "stdout",
     "output_type": "stream",
     "text": [
      "             precision    recall  f1-score   support\n",
      "\n",
      "        0.0       0.85      0.82      0.84      7466\n",
      "        1.0       0.77      0.81      0.79      5413\n",
      "\n",
      "avg / total       0.82      0.82      0.82     12879\n",
      "\n"
     ]
    }
   ],
   "source": [
    "print(classification_report( y_train, y_hat_train))"
   ]
  },
  {
   "cell_type": "code",
   "execution_count": 17,
   "metadata": {},
   "outputs": [
    {
     "name": "stdout",
     "output_type": "stream",
     "text": [
      "             precision    recall  f1-score   support\n",
      "\n",
      "        0.0       0.98      0.80      0.88      2489\n",
      "        1.0       0.16      0.66      0.25       138\n",
      "\n",
      "avg / total       0.93      0.80      0.85      2627\n",
      "\n"
     ]
    }
   ],
   "source": [
    "print(classification_report(y_test, y_hat))"
   ]
  },
  {
   "cell_type": "code",
   "execution_count": 18,
   "metadata": {
    "scrolled": true
   },
   "outputs": [
    {
     "data": {
      "text/plain": [
       "array([[6142, 1324],\n",
       "       [1054, 4359]])"
      ]
     },
     "execution_count": 18,
     "metadata": {},
     "output_type": "execute_result"
    }
   ],
   "source": [
    "confusion_matrix(y_train, y_hat_train)"
   ]
  },
  {
   "cell_type": "code",
   "execution_count": 19,
   "metadata": {},
   "outputs": [
    {
     "data": {
      "text/plain": [
       "array([[2001,  488],\n",
       "       [  47,   91]])"
      ]
     },
     "execution_count": 19,
     "metadata": {},
     "output_type": "execute_result"
    }
   ],
   "source": [
    "confusion_matrix(y_test, y_hat)"
   ]
  },
  {
   "cell_type": "code",
   "execution_count": 20,
   "metadata": {},
   "outputs": [
    {
     "data": {
      "text/plain": [
       "0.0    2489\n",
       "1.0     138\n",
       "Name: wnvpresent, dtype: int64"
      ]
     },
     "execution_count": 20,
     "metadata": {},
     "output_type": "execute_result"
    }
   ],
   "source": [
    "y_test.value_counts()"
   ]
  },
  {
   "cell_type": "code",
   "execution_count": 21,
   "metadata": {},
   "outputs": [],
   "source": [
    "X = test[features]\n",
    "predict = (gs.predict(X))\n",
    "predprob = gs.predict_proba(X)"
   ]
  },
  {
   "cell_type": "code",
   "execution_count": 22,
   "metadata": {},
   "outputs": [
    {
     "data": {
      "text/plain": [
       "array([[0.52429773, 0.47570227],\n",
       "       [0.52517108, 0.47482892],\n",
       "       [0.52410895, 0.47589105],\n",
       "       ...,\n",
       "       [0.50290862, 0.49709138],\n",
       "       [0.50290862, 0.49709138],\n",
       "       [0.50290862, 0.49709138]])"
      ]
     },
     "execution_count": 22,
     "metadata": {},
     "output_type": "execute_result"
    }
   ],
   "source": [
    "predprob"
   ]
  },
  {
   "cell_type": "code",
   "execution_count": 23,
   "metadata": {},
   "outputs": [],
   "source": [
    "y_train_pred_proba = gs.predict_proba(X_train)\n",
    "y_train_pred = gs.predict(X_train)\n",
    "y_test_pred_proba = gs.predict_proba(X_test)\n",
    "y_test_pred = gs.predict(X_test)"
   ]
  },
  {
   "cell_type": "code",
   "execution_count": 24,
   "metadata": {},
   "outputs": [],
   "source": [
    "#modifying train and testing data to allow for changing prob thresholds and printing the \n",
    "#roc curves\n",
    "X_train.loc[:, 'actual_y'] = y_train\n",
    "X_train.loc[:, 'predicted_label'] = y_train_pred\n",
    "X_train.loc[:, 'predicted_proba'] = y_train_pred_proba[:, 1]\n"
   ]
  },
  {
   "cell_type": "code",
   "execution_count": 25,
   "metadata": {},
   "outputs": [],
   "source": [
    "X_test.loc[:, 'actual_y'] = y_test\n",
    "X_test.loc[:, 'predicted_label'] = y_test_pred\n",
    "X_test.loc[:, 'predicted_proba'] = y_test_pred_proba[:, 1]\n"
   ]
  },
  {
   "cell_type": "code",
   "execution_count": 26,
   "metadata": {},
   "outputs": [
    {
     "name": "stdout",
     "output_type": "stream",
     "text": [
      "Test  0.1\n",
      "[[   0 2489]\n",
      " [   0  138]]\n",
      " Train  0.1\n",
      "[[   0 7466]\n",
      " [   0 5413]]\n",
      "Test  0.12\n",
      "[[   0 2489]\n",
      " [   0  138]]\n",
      " Train  0.12\n",
      "[[   0 7466]\n",
      " [   0 5413]]\n",
      "Test  0.14\n",
      "[[   0 2489]\n",
      " [   0  138]]\n",
      " Train  0.14\n",
      "[[   0 7466]\n",
      " [   0 5413]]\n",
      "Test  0.16\n",
      "[[   0 2489]\n",
      " [   0  138]]\n",
      " Train  0.16\n",
      "[[   0 7466]\n",
      " [   0 5413]]\n",
      "Test  0.18\n",
      "[[   0 2489]\n",
      " [   0  138]]\n",
      " Train  0.18\n",
      "[[   0 7466]\n",
      " [   0 5413]]\n",
      "Test  0.2\n",
      "[[   0 2489]\n",
      " [   0  138]]\n",
      " Train  0.2\n",
      "[[   0 7466]\n",
      " [   0 5413]]\n",
      "Test  0.22\n",
      "[[   0 2489]\n",
      " [   0  138]]\n",
      " Train  0.22\n",
      "[[   0 7466]\n",
      " [   0 5413]]\n",
      "Test  0.24\n",
      "[[   0 2489]\n",
      " [   0  138]]\n",
      " Train  0.24\n",
      "[[   0 7466]\n",
      " [   0 5413]]\n",
      "Test  0.26\n",
      "[[   0 2489]\n",
      " [   0  138]]\n",
      " Train  0.26\n",
      "[[   0 7466]\n",
      " [   0 5413]]\n",
      "Test  0.28\n",
      "[[   0 2489]\n",
      " [   0  138]]\n",
      " Train  0.28\n",
      "[[   0 7466]\n",
      " [   0 5413]]\n",
      "Test  0.3\n",
      "[[   0 2489]\n",
      " [   0  138]]\n",
      " Train  0.3\n",
      "[[   0 7466]\n",
      " [   0 5413]]\n",
      "Test  0.32\n",
      "[[   0 2489]\n",
      " [   0  138]]\n",
      " Train  0.32\n",
      "[[   0 7466]\n",
      " [   0 5413]]\n",
      "Test  0.34\n",
      "[[   0 2489]\n",
      " [   0  138]]\n",
      " Train  0.34\n",
      "[[   0 7466]\n",
      " [   0 5413]]\n",
      "Test  0.36\n",
      "[[   0 2489]\n",
      " [   0  138]]\n",
      " Train  0.36\n",
      "[[   0 7466]\n",
      " [   0 5413]]\n",
      "Test  0.38\n",
      "[[   0 2489]\n",
      " [   0  138]]\n",
      " Train  0.38\n",
      "[[   0 7466]\n",
      " [   0 5413]]\n",
      "Test  0.4\n",
      "[[   0 2489]\n",
      " [   0  138]]\n",
      " Train  0.4\n",
      "[[   0 7466]\n",
      " [   0 5413]]\n",
      "Test  0.42\n",
      "[[   0 2489]\n",
      " [   0  138]]\n",
      " Train  0.42\n",
      "[[   0 7466]\n",
      " [   0 5413]]\n",
      "Test  0.44\n",
      "[[   0 2489]\n",
      " [   0  138]]\n",
      " Train  0.44\n",
      "[[   2 7464]\n",
      " [   0 5413]]\n",
      "Test  0.46\n",
      "[[  55 2434]\n",
      " [   0  138]]\n",
      " Train  0.46\n",
      "[[ 137 7329]\n",
      " [   0 5413]]\n",
      "Test  0.48\n",
      "[[ 636 1853]\n",
      " [   6  132]]\n",
      " Train  0.48\n",
      "[[1853 5613]\n",
      " [   0 5413]]\n"
     ]
    }
   ],
   "source": [
    "#print out confusion matrices from .1 .5 by .02 for Xtest and Xtrain\n",
    "for prob in range(10, 50, 2):\n",
    "    proba = prob/100\n",
    "    \n",
    "    X_test.loc[:, 'predicted_label']= X_test['predicted_proba'].map(\n",
    "    lambda p: 1 if p > proba else 0)\n",
    "    \n",
    "    X_train.loc[:, 'predicted_label']= X_train['predicted_proba'].map(\n",
    "    lambda p: 1 if p > proba else 0)\n",
    "    \n",
    "    X_test['predicted_label']\n",
    "    print('Test  ' + str(proba))\n",
    "    print(confusion_matrix(y_test, X_test['predicted_label']))\n",
    "    print(' Train  ' + str(proba))\n",
    "    print(confusion_matrix(y_train, X_train['predicted_label']))\n"
   ]
  },
  {
   "cell_type": "code",
   "execution_count": 27,
   "metadata": {},
   "outputs": [],
   "source": [
    "fpr, tpr, _ = roc_curve(y_train, X_train['predicted_proba'])\n",
    "roc_auc = auc(fpr, tpr)\n"
   ]
  },
  {
   "cell_type": "code",
   "execution_count": 28,
   "metadata": {},
   "outputs": [
    {
     "data": {
      "image/png": "[encoded data removed]",
      "text/plain": [
       "<matplotlib.figure.Figure at 0x10d0b15f8>"
      ]
     },
     "metadata": {},
     "output_type": "display_data"
    }
   ],
   "source": [
    "# Plot \n",
    "plt.figure(figsize = (12,7))\n",
    "line_width = 3\n",
    "\n",
    "plt.plot(fpr, tpr, lw = line_width, color=\"darkorange\", label = \"ROC Curve %.2f\" % roc_auc)\n",
    "plt.plot([0,1], [0, 1], lw = line_width, linestyle=\"--\", color=\"navy\")\n",
    "\n",
    "plt.xlim([0.0, 1.0])\n",
    "plt.ylim([0.0, 1.05])\n",
    "plt.xlabel('False Positive Rate')\n",
    "plt.ylabel('True Positive Rate')\n",
    "plt.title('ROC')\n",
    "plt.legend(loc=\"lower right\")\n",
    "plt.show()"
   ]
  },
  {
   "cell_type": "code",
   "execution_count": 29,
   "metadata": {},
   "outputs": [],
   "source": [
    "fpr, tpr, _ = roc_curve(y_test, X_test['predicted_proba'])\n",
    "roc_auc = auc(fpr, tpr)"
   ]
  },
  {
   "cell_type": "code",
   "execution_count": 30,
   "metadata": {
    "scrolled": true
   },
   "outputs": [
    {
     "data": {
      "image/png": "[encoded data removed]",
      "text/plain": [
       "<matplotlib.figure.Figure at 0x10a3d6080>"
      ]
     },
     "metadata": {},
     "output_type": "display_data"
    }
   ],
   "source": [
    "# Plot \n",
    "plt.figure(figsize = (12,7))\n",
    "line_width = 3\n",
    "\n",
    "plt.plot(fpr, tpr, lw = line_width, color=\"darkorange\", label = \"ROC Curve %.2f\" % roc_auc)\n",
    "plt.plot([0,1], [0, 1], lw = line_width, linestyle=\"--\", color=\"navy\")\n",
    "\n",
    "plt.xlim([0.0, 1.0])\n",
    "plt.ylim([0.0, 1.05])\n",
    "plt.xlabel('False Positive Rate')\n",
    "plt.ylabel('True Positive Rate')\n",
    "plt.title('ROC')\n",
    "plt.legend(loc=\"lower right\")\n",
    "plt.show()"
   ]
  },
  {
   "cell_type": "code",
   "execution_count": 31,
   "metadata": {},
   "outputs": [],
   "source": [
    "rf_predict = gs.predict(X)\n",
    "rf_proba = gs.predict_proba(X)[:,1]"
   ]
  },
  {
   "cell_type": "code",
   "execution_count": 32,
   "metadata": {},
   "outputs": [
    {
     "data": {
      "text/plain": [
       "array([0.47570227, 0.47482892, 0.47589105, ..., 0.49709138, 0.49709138,\n",
       "       0.49709138])"
      ]
     },
     "execution_count": 32,
     "metadata": {},
     "output_type": "execute_result"
    }
   ],
   "source": [
    "rf_proba"
   ]
  },
  {
   "cell_type": "code",
   "execution_count": 33,
   "metadata": {
    "scrolled": true
   },
   "outputs": [],
   "source": [
    "submissions = pd.DataFrame(rf_predict, columns = ['wnvpresent'])\n",
    "submissions['predproba'] = rf_proba\n",
    "submissions.loc[:, 'wnvpresent']= submissions['predproba'].map(\n",
    "    lambda p: 1 if p > .5 else 0)"
   ]
  },
  {
   "cell_type": "code",
   "execution_count": 34,
   "metadata": {},
   "outputs": [
    {
     "data": {
      "text/plain": [
       "0    109410\n",
       "1      6883\n",
       "Name: wnvpresent, dtype: int64"
      ]
     },
     "execution_count": 34,
     "metadata": {},
     "output_type": "execute_result"
    }
   ],
   "source": [
    "submissions.wnvpresent.value_counts()"
   ]
  },
  {
   "cell_type": "code",
   "execution_count": null,
   "metadata": {},
   "outputs": [],
   "source": []
  },
  {
   "cell_type": "code",
   "execution_count": 35,
   "metadata": {},
   "outputs": [],
   "source": [
    "submissions['id'] = [id +1 for id in range(len(submissions))]"
   ]
  },
  {
   "cell_type": "code",
   "execution_count": 36,
   "metadata": {},
   "outputs": [],
   "source": [
    "submissions = submissions[['id','wnvpresent' ]]\n"
   ]
  },
  {
   "cell_type": "code",
   "execution_count": 37,
   "metadata": {},
   "outputs": [],
   "source": [
    "submissions.to_csv('../data/submission.csv', index = False)"
   ]
  },
  {
   "cell_type": "code",
   "execution_count": null,
   "metadata": {},
   "outputs": [],
   "source": []
  }
 ],
 "metadata": {
  "kernelspec": {
   "display_name": "Python 3",
   "language": "python",
   "name": "python3"
  },
  "language_info": {
   "codemirror_mode": {
    "name": "ipython",
    "version": 3
   },
   "file_extension": ".py",
   "mimetype": "text/x-python",
   "name": "python",
   "nbconvert_exporter": "python",
   "pygments_lexer": "ipython3",
   "version": "3.6.4"
  }
 },
 "nbformat": 4,
 "nbformat_minor": 2
}
