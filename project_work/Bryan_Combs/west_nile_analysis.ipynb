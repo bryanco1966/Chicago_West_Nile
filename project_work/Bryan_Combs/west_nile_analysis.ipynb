{
 "cells": [
  {
   "cell_type": "markdown",
   "metadata": {},
   "source": [
    "# West Nile Analysis"
   ]
  },
  {
   "cell_type": "code",
   "execution_count": 962,
   "metadata": {},
   "outputs": [],
   "source": [
    "import pandas as pd\n",
    "import numpy as np\n",
    "from sklearn.metrics import roc_curve, auc\n",
    "from sklearn.ensemble import RandomForestClassifier, ExtraTreesClassifier,  AdaBoostClassifier\n",
    "from sklearn.cross_validation import train_test_split, KFold, cross_val_score\n",
    "from sklearn.grid_search import GridSearchCV\n",
    "from sklearn.metrics import classification_report, confusion_matrix\n",
    "import matplotlib.pyplot as plt\n",
    "import seaborn as sns\n",
    "\n"
   ]
  },
  {
   "cell_type": "code",
   "execution_count": 963,
   "metadata": {
    "scrolled": true
   },
   "outputs": [],
   "source": [
    "train = pd.read_csv('../data/trainw.csv')\n",
    "test  = pd.read_csv('../data/testw.csv')\n",
    "train.columns = [col.lower().replace(' ', '_') for col in train.columns]\n",
    "test.columns = [col.lower().replace(' ', '_') for col in test.columns]\n",
    "\n",
    "\n",
    "#read cleaned data and bring and trainform all variables to lower_camel_case\n",
    "                    "
   ]
  },
  {
   "cell_type": "code",
   "execution_count": 964,
   "metadata": {
    "scrolled": true
   },
   "outputs": [
    {
     "data": {
      "text/plain": [
       "unnamed:_0                             0\n",
       "index                                  0\n",
       "date                                   0\n",
       "address                                0\n",
       "block                                  0\n",
       "street                                 0\n",
       "trap                                   0\n",
       "addressnumberandstreet                 0\n",
       "latitude                               0\n",
       "longitude                              0\n",
       "addressaccuracy                        0\n",
       "nummosquitos                           0\n",
       "wnvpresent                             0\n",
       "year                                   0\n",
       "month                                  0\n",
       "day                                    0\n",
       "tmax_x                                 0\n",
       "tmin_x                                 0\n",
       "tavg_x                                 0\n",
       "depart_x                               0\n",
       "dewpoint_x                             0\n",
       "wetbulb_x                              0\n",
       "heat_x                                 0\n",
       "cool_x                                 0\n",
       "sunrise_x                              0\n",
       "sunset_x                               0\n",
       "codesum_x                              0\n",
       "depth_x                                0\n",
       "water1_x                               0\n",
       "snowfall_x                             0\n",
       "                                      ..\n",
       "species_culex_pipiens/restuans         0\n",
       "species_culex_restuans                 0\n",
       "species_culex_salinarius               0\n",
       "species_culex_tarsalis                 0\n",
       "species_culex_territans                0\n",
       "distance                               0\n",
       "distance_3                             0\n",
       "distance_5                             0\n",
       "dist_species_culex_pipiens             0\n",
       "dist_species_culex_pipiens/restuans    0\n",
       "dist_species_culex_restuans            0\n",
       "dist_species_culex_salinarius          0\n",
       "dist_species_culex_tarsalis            0\n",
       "dist_species_culex_territans           0\n",
       "temp_and_precip_x                      0\n",
       "trap_and_precip_y                      0\n",
       "block_and_precip_x                     0\n",
       "trap_and_temp_x                        0\n",
       "trap_and_temp_y                        0\n",
       "low_sealevel_x                         0\n",
       "low_sealevel_y                         0\n",
       "month_and_dist                         0\n",
       "month_and_sealevel_x                   0\n",
       "month_and_sealevel_y                   0\n",
       "month_dist_temp_x                      0\n",
       "month_dist_temp_y                      0\n",
       "month_dist_maxtemp_x                   0\n",
       "month_dist_maxtemp_y                   0\n",
       "month_dist_sealevel_x                  0\n",
       "month_dist_sealevel_y                  0\n",
       "Length: 87, dtype: int64"
      ]
     },
     "execution_count": 964,
     "metadata": {},
     "output_type": "execute_result"
    }
   ],
   "source": [
    "train.isnull().sum() \n"
   ]
  },
  {
   "cell_type": "code",
   "execution_count": 965,
   "metadata": {},
   "outputs": [
    {
     "data": {
      "text/plain": [
       "Index(['unnamed:_0', 'index', 'date', 'address', 'block', 'street', 'trap',\n",
       "       'addressnumberandstreet', 'latitude', 'longitude', 'addressaccuracy',\n",
       "       'nummosquitos', 'wnvpresent', 'year', 'month', 'day', 'tmax_x',\n",
       "       'tmin_x', 'tavg_x', 'depart_x', 'dewpoint_x', 'wetbulb_x', 'heat_x',\n",
       "       'cool_x', 'sunrise_x', 'sunset_x', 'codesum_x', 'depth_x', 'water1_x',\n",
       "       'snowfall_x', 'preciptotal_x', 'stnpressure_x', 'sealevel_x',\n",
       "       'resultspeed_x', 'resultdir_x', 'avgspeed_x', 'tmax_y', 'tmin_y',\n",
       "       'tavg_y', 'depart_y', 'dewpoint_y', 'wetbulb_y', 'heat_y', 'cool_y',\n",
       "       'sunrise_y', 'sunset_y', 'codesum_y', 'depth_y', 'water1_y',\n",
       "       'snowfall_y', 'preciptotal_y', 'stnpressure_y', 'sealevel_y',\n",
       "       'resultspeed_y', 'resultdir_y', 'avgspeed_y', 'species_culex_pipiens',\n",
       "       'species_culex_pipiens/restuans', 'species_culex_restuans',\n",
       "       'species_culex_salinarius', 'species_culex_tarsalis',\n",
       "       'species_culex_territans', 'distance', 'distance_3', 'distance_5',\n",
       "       'dist_species_culex_pipiens', 'dist_species_culex_pipiens/restuans',\n",
       "       'dist_species_culex_restuans', 'dist_species_culex_salinarius',\n",
       "       'dist_species_culex_tarsalis', 'dist_species_culex_territans',\n",
       "       'temp_and_precip_x', 'trap_and_precip_y', 'block_and_precip_x',\n",
       "       'trap_and_temp_x', 'trap_and_temp_y', 'low_sealevel_x',\n",
       "       'low_sealevel_y', 'month_and_dist', 'month_and_sealevel_x',\n",
       "       'month_and_sealevel_y', 'month_dist_temp_x', 'month_dist_temp_y',\n",
       "       'month_dist_maxtemp_x', 'month_dist_maxtemp_y', 'month_dist_sealevel_x',\n",
       "       'month_dist_sealevel_y'],\n",
       "      dtype='object')"
      ]
     },
     "execution_count": 965,
     "metadata": {},
     "output_type": "execute_result"
    }
   ],
   "source": [
    "train.columns"
   ]
  },
  {
   "cell_type": "code",
   "execution_count": 966,
   "metadata": {},
   "outputs": [],
   "source": [
    "#included features to set up X and Y from training set\n",
    "# features = [ 'trap', 'block', 'month', 'street', 'tmax_y', \n",
    "#             'tavg_y', 'dewpoint_y',\n",
    "#             'preciptotal_y', 'stnpressure_y',\n",
    "#             'sealevel_y', 'resultspeed_y', 'resultdir_y', 'avgspeed_y', 'distance',\n",
    "#             'dist_species_culex_pipiens',\n",
    "#             'dist_species_culex_pipiens/restuans', 'dist_species_culex_restuans',\n",
    "#             'dist_species_culex_salinarius', \n",
    "#             'dist_species_culex_territans',\n",
    "#             'month_dist_temp_y',\n",
    "#             'month_and_dist', 'distance_3','distance_5'\n",
    "            \n",
    "#            ]\n",
    "\n",
    "#Found by running ada boost feature importance-these had a score above 0\n",
    "features=[ 'month_dist_temp_x', 'distance',\n",
    "       'latitude', 'sunrise_x', 'distance_5', \n",
    "       'resultspeed_y', 'trap', 'street', 'trap_and_temp_x',\n",
    "       'dist_species_culex_pipiens/restuans', 'distance_3', \n",
    "       'sealevel_x', 'longitude', 'block_and_precip_x',\n",
    "       'species_culex_territans', \n",
    "       'depart_x',  'tmin_x', 'dist_species_culex_pipiens']\n",
    "\n",
    "\n",
    "\n",
    "\n",
    "X = train[features]\n",
    "y = train['wnvpresent']"
   ]
  },
  {
   "cell_type": "code",
   "execution_count": 967,
   "metadata": {},
   "outputs": [],
   "source": [
    "#do a train test split with stratified data due to unbalanced classes\n",
    "\n",
    "X_train, X_test, y_train, y_test = train_test_split(X, y, stratify = y)"
   ]
  },
  {
   "cell_type": "markdown",
   "metadata": {},
   "source": [
    "#### Dealing with unbalanced classes\n",
    "\n",
    "We have unbalanced classes in our data set with only about 5.24% of our observations containing the West Nile Virus.  In order to better predict the minority class which is the class of interest we are oversampling the data where West Nile is present in our training data.  We leave the testing data untouched."
   ]
  },
  {
   "cell_type": "code",
   "execution_count": 968,
   "metadata": {
    "scrolled": false
   },
   "outputs": [
    {
     "data": {
      "text/html": [
       "<div>\n",
       "<style scoped>\n",
       "    .dataframe tbody tr th:only-of-type {\n",
       "        vertical-align: middle;\n",
       "    }\n",
       "\n",
       "    .dataframe tbody tr th {\n",
       "        vertical-align: top;\n",
       "    }\n",
       "\n",
       "    .dataframe thead th {\n",
       "        text-align: right;\n",
       "    }\n",
       "</style>\n",
       "<table border=\"1\" class=\"dataframe\">\n",
       "  <thead>\n",
       "    <tr style=\"text-align: right;\">\n",
       "      <th></th>\n",
       "      <th>month_dist_temp_x</th>\n",
       "      <th>distance</th>\n",
       "      <th>latitude</th>\n",
       "      <th>sunrise_x</th>\n",
       "      <th>distance_5</th>\n",
       "      <th>resultspeed_y</th>\n",
       "      <th>trap</th>\n",
       "      <th>street</th>\n",
       "      <th>trap_and_temp_x</th>\n",
       "      <th>dist_species_culex_pipiens/restuans</th>\n",
       "      <th>distance_3</th>\n",
       "      <th>sealevel_x</th>\n",
       "      <th>longitude</th>\n",
       "      <th>block_and_precip_x</th>\n",
       "      <th>species_culex_territans</th>\n",
       "      <th>depart_x</th>\n",
       "      <th>tmin_x</th>\n",
       "      <th>dist_species_culex_pipiens</th>\n",
       "      <th>wnvpresent</th>\n",
       "    </tr>\n",
       "  </thead>\n",
       "  <tbody>\n",
       "    <tr>\n",
       "      <th>6145</th>\n",
       "      <td>772.830245</td>\n",
       "      <td>1.144934</td>\n",
       "      <td>41.754676</td>\n",
       "      <td>528</td>\n",
       "      <td>15.422798</td>\n",
       "      <td>9.2</td>\n",
       "      <td>58</td>\n",
       "      <td>66</td>\n",
       "      <td>4988</td>\n",
       "      <td>0.000000</td>\n",
       "      <td>12.022011</td>\n",
       "      <td>29.91</td>\n",
       "      <td>-87.612922</td>\n",
       "      <td>3510</td>\n",
       "      <td>0</td>\n",
       "      <td>10</td>\n",
       "      <td>64</td>\n",
       "      <td>0.000000</td>\n",
       "      <td>0.0</td>\n",
       "    </tr>\n",
       "    <tr>\n",
       "      <th>3728</th>\n",
       "      <td>798.494473</td>\n",
       "      <td>1.584314</td>\n",
       "      <td>41.773215</td>\n",
       "      <td>437</td>\n",
       "      <td>7.463496</td>\n",
       "      <td>8.7</td>\n",
       "      <td>51</td>\n",
       "      <td>8</td>\n",
       "      <td>4233</td>\n",
       "      <td>0.000000</td>\n",
       "      <td>7.627731</td>\n",
       "      <td>29.83</td>\n",
       "      <td>-87.600880</td>\n",
       "      <td>0</td>\n",
       "      <td>0</td>\n",
       "      <td>-2</td>\n",
       "      <td>61</td>\n",
       "      <td>0.000000</td>\n",
       "      <td>0.0</td>\n",
       "    </tr>\n",
       "    <tr>\n",
       "      <th>1458</th>\n",
       "      <td>704.321066</td>\n",
       "      <td>1.257716</td>\n",
       "      <td>41.678618</td>\n",
       "      <td>501</td>\n",
       "      <td>1.403966</td>\n",
       "      <td>6.1</td>\n",
       "      <td>107</td>\n",
       "      <td>88</td>\n",
       "      <td>8453</td>\n",
       "      <td>0.000000</td>\n",
       "      <td>1.257716</td>\n",
       "      <td>30.10</td>\n",
       "      <td>-87.559308</td>\n",
       "      <td>183</td>\n",
       "      <td>0</td>\n",
       "      <td>-2</td>\n",
       "      <td>60</td>\n",
       "      <td>1.257716</td>\n",
       "      <td>0.0</td>\n",
       "    </tr>\n",
       "    <tr>\n",
       "      <th>1996</th>\n",
       "      <td>885.929084</td>\n",
       "      <td>1.295218</td>\n",
       "      <td>41.800737</td>\n",
       "      <td>520</td>\n",
       "      <td>1.371206</td>\n",
       "      <td>2.2</td>\n",
       "      <td>42</td>\n",
       "      <td>102</td>\n",
       "      <td>3738</td>\n",
       "      <td>0.000000</td>\n",
       "      <td>1.295218</td>\n",
       "      <td>30.00</td>\n",
       "      <td>-87.711880</td>\n",
       "      <td>1320</td>\n",
       "      <td>0</td>\n",
       "      <td>8</td>\n",
       "      <td>63</td>\n",
       "      <td>1.295218</td>\n",
       "      <td>0.0</td>\n",
       "    </tr>\n",
       "    <tr>\n",
       "      <th>648</th>\n",
       "      <td>957.139118</td>\n",
       "      <td>1.775768</td>\n",
       "      <td>41.797616</td>\n",
       "      <td>440</td>\n",
       "      <td>2.145963</td>\n",
       "      <td>1.2</td>\n",
       "      <td>48</td>\n",
       "      <td>79</td>\n",
       "      <td>3984</td>\n",
       "      <td>1.775768</td>\n",
       "      <td>1.775768</td>\n",
       "      <td>29.82</td>\n",
       "      <td>-87.797894</td>\n",
       "      <td>2520</td>\n",
       "      <td>0</td>\n",
       "      <td>3</td>\n",
       "      <td>70</td>\n",
       "      <td>0.000000</td>\n",
       "      <td>0.0</td>\n",
       "    </tr>\n",
       "  </tbody>\n",
       "</table>\n",
       "</div>"
      ],
      "text/plain": [
       "      month_dist_temp_x  distance   latitude  sunrise_x  distance_5  \\\n",
       "6145         772.830245  1.144934  41.754676        528   15.422798   \n",
       "3728         798.494473  1.584314  41.773215        437    7.463496   \n",
       "1458         704.321066  1.257716  41.678618        501    1.403966   \n",
       "1996         885.929084  1.295218  41.800737        520    1.371206   \n",
       "648          957.139118  1.775768  41.797616        440    2.145963   \n",
       "\n",
       "      resultspeed_y  trap  street  trap_and_temp_x  \\\n",
       "6145            9.2    58      66             4988   \n",
       "3728            8.7    51       8             4233   \n",
       "1458            6.1   107      88             8453   \n",
       "1996            2.2    42     102             3738   \n",
       "648             1.2    48      79             3984   \n",
       "\n",
       "      dist_species_culex_pipiens/restuans  distance_3  sealevel_x  longitude  \\\n",
       "6145                             0.000000   12.022011       29.91 -87.612922   \n",
       "3728                             0.000000    7.627731       29.83 -87.600880   \n",
       "1458                             0.000000    1.257716       30.10 -87.559308   \n",
       "1996                             0.000000    1.295218       30.00 -87.711880   \n",
       "648                              1.775768    1.775768       29.82 -87.797894   \n",
       "\n",
       "      block_and_precip_x  species_culex_territans  depart_x  tmin_x  \\\n",
       "6145                3510                        0        10      64   \n",
       "3728                   0                        0        -2      61   \n",
       "1458                 183                        0        -2      60   \n",
       "1996                1320                        0         8      63   \n",
       "648                 2520                        0         3      70   \n",
       "\n",
       "      dist_species_culex_pipiens  wnvpresent  \n",
       "6145                    0.000000         0.0  \n",
       "3728                    0.000000         0.0  \n",
       "1458                    1.257716         0.0  \n",
       "1996                    1.295218         0.0  \n",
       "648                     0.000000         0.0  "
      ]
     },
     "execution_count": 968,
     "metadata": {},
     "output_type": "execute_result"
    }
   ],
   "source": [
    "#merging the target variable back onto the training data in order to sample off its value\n",
    "\n",
    "datasets = (X_train, y_train)\n",
    "traincombined = pd.concat(datasets, axis = 1)\n",
    "traincombined.head()"
   ]
  },
  {
   "cell_type": "code",
   "execution_count": 969,
   "metadata": {},
   "outputs": [],
   "source": [
    "#Select West nile cases and generate 5000 samples\n",
    "west_nile = traincombined[traincombined.wnvpresent == 1]\n",
    "extra_west_nile = west_nile.sample(n = 4000, replace = True,  axis = 0)"
   ]
  },
  {
   "cell_type": "code",
   "execution_count": 970,
   "metadata": {},
   "outputs": [],
   "source": [
    "#merge samples onto original data\n",
    "merge = [traincombined, extra_west_nile]\n",
    "traincombined = pd.concat(merge, axis = 0)"
   ]
  },
  {
   "cell_type": "code",
   "execution_count": 971,
   "metadata": {
    "scrolled": true
   },
   "outputs": [],
   "source": [
    "#Break our training data back into a X and a y\n",
    "X_train = traincombined[features]\n",
    "y_train = traincombined['wnvpresent']"
   ]
  },
  {
   "cell_type": "markdown",
   "metadata": {},
   "source": [
    "### Set up our model for grid search evaluation"
   ]
  },
  {
   "cell_type": "code",
   "execution_count": 972,
   "metadata": {
    "scrolled": false
   },
   "outputs": [],
   "source": [
    "ad = AdaBoostClassifier()\n",
    "rf_params = {\n",
    "    'n_estimators'       : [ 600],\n",
    "    'learning_rate'          : [    .9]\n",
    "   }\n",
    "\n"
   ]
  },
  {
   "cell_type": "code",
   "execution_count": 973,
   "metadata": {},
   "outputs": [],
   "source": [
    "gs = GridSearchCV(ad, \n",
    "                  param_grid=rf_params,\n",
    "                 scoring = 'recall', \n",
    "                  cv = 4)\n"
   ]
  },
  {
   "cell_type": "code",
   "execution_count": 974,
   "metadata": {},
   "outputs": [
    {
     "name": "stdout",
     "output_type": "stream",
     "text": [
      "Print Train Score :  0.9018022929997063\n",
      "Print Test Score  :  0.6881720430107527\n",
      "Print Best Params :  {'learning_rate': 0.9, 'n_estimators': 600}\n"
     ]
    }
   ],
   "source": [
    "gs.fit(X_train, y_train)\n",
    "print(\"Print Train Score : \" , gs.best_score_)\n",
    "print(\"Print Test Score  : \" , gs.score(X_test, y_test))\n",
    "print(\"Print Best Params : \" , gs.best_params_)"
   ]
  },
  {
   "cell_type": "code",
   "execution_count": 975,
   "metadata": {},
   "outputs": [],
   "source": [
    "y_hat = gs.predict(X_test)\n",
    "y_hat_train = gs.predict(X_train)\n",
    "y_hat_prob = gs.predict_proba(X_test)\n"
   ]
  },
  {
   "cell_type": "code",
   "execution_count": 976,
   "metadata": {},
   "outputs": [
    {
     "data": {
      "text/plain": [
       "AdaBoostClassifier(algorithm='SAMME.R', base_estimator=None,\n",
       "          learning_rate=1.0, n_estimators=50, random_state=None)"
      ]
     },
     "execution_count": 976,
     "metadata": {},
     "output_type": "execute_result"
    }
   ],
   "source": [
    "ad.fit(X_train, y_train)"
   ]
  },
  {
   "cell_type": "code",
   "execution_count": 977,
   "metadata": {},
   "outputs": [
    {
     "data": {
      "text/plain": [
       "array([0.02, 0.04, 0.04, 0.16, 0.04, 0.06, 0.02, 0.04, 0.08, 0.04, 0.06,\n",
       "       0.04, 0.06, 0.06, 0.02, 0.08, 0.08, 0.06])"
      ]
     },
     "execution_count": 977,
     "metadata": {},
     "output_type": "execute_result"
    }
   ],
   "source": [
    "ad.feature_importances_"
   ]
  },
  {
   "cell_type": "code",
   "execution_count": 978,
   "metadata": {},
   "outputs": [
    {
     "data": {
      "text/html": [
       "<div>\n",
       "<style scoped>\n",
       "    .dataframe tbody tr th:only-of-type {\n",
       "        vertical-align: middle;\n",
       "    }\n",
       "\n",
       "    .dataframe tbody tr th {\n",
       "        vertical-align: top;\n",
       "    }\n",
       "\n",
       "    .dataframe thead th {\n",
       "        text-align: right;\n",
       "    }\n",
       "</style>\n",
       "<table border=\"1\" class=\"dataframe\">\n",
       "  <thead>\n",
       "    <tr style=\"text-align: right;\">\n",
       "      <th></th>\n",
       "      <th>ADA Imp</th>\n",
       "    </tr>\n",
       "  </thead>\n",
       "  <tbody>\n",
       "    <tr>\n",
       "      <th>sunrise_x</th>\n",
       "      <td>0.16</td>\n",
       "    </tr>\n",
       "    <tr>\n",
       "      <th>tmin_x</th>\n",
       "      <td>0.08</td>\n",
       "    </tr>\n",
       "    <tr>\n",
       "      <th>depart_x</th>\n",
       "      <td>0.08</td>\n",
       "    </tr>\n",
       "    <tr>\n",
       "      <th>trap_and_temp_x</th>\n",
       "      <td>0.08</td>\n",
       "    </tr>\n",
       "    <tr>\n",
       "      <th>dist_species_culex_pipiens</th>\n",
       "      <td>0.06</td>\n",
       "    </tr>\n",
       "    <tr>\n",
       "      <th>distance_3</th>\n",
       "      <td>0.06</td>\n",
       "    </tr>\n",
       "    <tr>\n",
       "      <th>resultspeed_y</th>\n",
       "      <td>0.06</td>\n",
       "    </tr>\n",
       "    <tr>\n",
       "      <th>block_and_precip_x</th>\n",
       "      <td>0.06</td>\n",
       "    </tr>\n",
       "    <tr>\n",
       "      <th>longitude</th>\n",
       "      <td>0.06</td>\n",
       "    </tr>\n",
       "    <tr>\n",
       "      <th>sealevel_x</th>\n",
       "      <td>0.04</td>\n",
       "    </tr>\n",
       "    <tr>\n",
       "      <th>dist_species_culex_pipiens/restuans</th>\n",
       "      <td>0.04</td>\n",
       "    </tr>\n",
       "    <tr>\n",
       "      <th>distance</th>\n",
       "      <td>0.04</td>\n",
       "    </tr>\n",
       "    <tr>\n",
       "      <th>street</th>\n",
       "      <td>0.04</td>\n",
       "    </tr>\n",
       "    <tr>\n",
       "      <th>distance_5</th>\n",
       "      <td>0.04</td>\n",
       "    </tr>\n",
       "    <tr>\n",
       "      <th>latitude</th>\n",
       "      <td>0.04</td>\n",
       "    </tr>\n",
       "    <tr>\n",
       "      <th>trap</th>\n",
       "      <td>0.02</td>\n",
       "    </tr>\n",
       "    <tr>\n",
       "      <th>species_culex_territans</th>\n",
       "      <td>0.02</td>\n",
       "    </tr>\n",
       "    <tr>\n",
       "      <th>month_dist_temp_x</th>\n",
       "      <td>0.02</td>\n",
       "    </tr>\n",
       "  </tbody>\n",
       "</table>\n",
       "</div>"
      ],
      "text/plain": [
       "                                     ADA Imp\n",
       "sunrise_x                               0.16\n",
       "tmin_x                                  0.08\n",
       "depart_x                                0.08\n",
       "trap_and_temp_x                         0.08\n",
       "dist_species_culex_pipiens              0.06\n",
       "distance_3                              0.06\n",
       "resultspeed_y                           0.06\n",
       "block_and_precip_x                      0.06\n",
       "longitude                               0.06\n",
       "sealevel_x                              0.04\n",
       "dist_species_culex_pipiens/restuans     0.04\n",
       "distance                                0.04\n",
       "street                                  0.04\n",
       "distance_5                              0.04\n",
       "latitude                                0.04\n",
       "trap                                    0.02\n",
       "species_culex_territans                 0.02\n",
       "month_dist_temp_x                       0.02"
      ]
     },
     "execution_count": 978,
     "metadata": {},
     "output_type": "execute_result"
    }
   ],
   "source": [
    "# View Feature Importance from ADA Boost model\n",
    "raw_data={'ADA Imp':ad.feature_importances_}\n",
    "ada2_df=pd.DataFrame(raw_data,train[features].columns)\n",
    "ada2_df=ada2_df.sort_values('ADA Imp', ascending=False) \n",
    "ada2_df"
   ]
  },
  {
   "cell_type": "code",
   "execution_count": 979,
   "metadata": {},
   "outputs": [
    {
     "data": {
      "text/html": [
       "<div>\n",
       "<style scoped>\n",
       "    .dataframe tbody tr th:only-of-type {\n",
       "        vertical-align: middle;\n",
       "    }\n",
       "\n",
       "    .dataframe tbody tr th {\n",
       "        vertical-align: top;\n",
       "    }\n",
       "\n",
       "    .dataframe thead th {\n",
       "        text-align: right;\n",
       "    }\n",
       "</style>\n",
       "<table border=\"1\" class=\"dataframe\">\n",
       "  <thead>\n",
       "    <tr style=\"text-align: right;\">\n",
       "      <th></th>\n",
       "      <th>ADA Imp</th>\n",
       "    </tr>\n",
       "  </thead>\n",
       "  <tbody>\n",
       "    <tr>\n",
       "      <th>sunrise_x</th>\n",
       "      <td>0.16</td>\n",
       "    </tr>\n",
       "    <tr>\n",
       "      <th>tmin_x</th>\n",
       "      <td>0.08</td>\n",
       "    </tr>\n",
       "    <tr>\n",
       "      <th>depart_x</th>\n",
       "      <td>0.08</td>\n",
       "    </tr>\n",
       "    <tr>\n",
       "      <th>trap_and_temp_x</th>\n",
       "      <td>0.08</td>\n",
       "    </tr>\n",
       "    <tr>\n",
       "      <th>dist_species_culex_pipiens</th>\n",
       "      <td>0.06</td>\n",
       "    </tr>\n",
       "    <tr>\n",
       "      <th>distance_3</th>\n",
       "      <td>0.06</td>\n",
       "    </tr>\n",
       "    <tr>\n",
       "      <th>resultspeed_y</th>\n",
       "      <td>0.06</td>\n",
       "    </tr>\n",
       "    <tr>\n",
       "      <th>block_and_precip_x</th>\n",
       "      <td>0.06</td>\n",
       "    </tr>\n",
       "    <tr>\n",
       "      <th>longitude</th>\n",
       "      <td>0.06</td>\n",
       "    </tr>\n",
       "    <tr>\n",
       "      <th>sealevel_x</th>\n",
       "      <td>0.04</td>\n",
       "    </tr>\n",
       "    <tr>\n",
       "      <th>dist_species_culex_pipiens/restuans</th>\n",
       "      <td>0.04</td>\n",
       "    </tr>\n",
       "    <tr>\n",
       "      <th>distance</th>\n",
       "      <td>0.04</td>\n",
       "    </tr>\n",
       "    <tr>\n",
       "      <th>street</th>\n",
       "      <td>0.04</td>\n",
       "    </tr>\n",
       "    <tr>\n",
       "      <th>distance_5</th>\n",
       "      <td>0.04</td>\n",
       "    </tr>\n",
       "    <tr>\n",
       "      <th>latitude</th>\n",
       "      <td>0.04</td>\n",
       "    </tr>\n",
       "    <tr>\n",
       "      <th>trap</th>\n",
       "      <td>0.02</td>\n",
       "    </tr>\n",
       "    <tr>\n",
       "      <th>species_culex_territans</th>\n",
       "      <td>0.02</td>\n",
       "    </tr>\n",
       "    <tr>\n",
       "      <th>month_dist_temp_x</th>\n",
       "      <td>0.02</td>\n",
       "    </tr>\n",
       "  </tbody>\n",
       "</table>\n",
       "</div>"
      ],
      "text/plain": [
       "                                     ADA Imp\n",
       "sunrise_x                               0.16\n",
       "tmin_x                                  0.08\n",
       "depart_x                                0.08\n",
       "trap_and_temp_x                         0.08\n",
       "dist_species_culex_pipiens              0.06\n",
       "distance_3                              0.06\n",
       "resultspeed_y                           0.06\n",
       "block_and_precip_x                      0.06\n",
       "longitude                               0.06\n",
       "sealevel_x                              0.04\n",
       "dist_species_culex_pipiens/restuans     0.04\n",
       "distance                                0.04\n",
       "street                                  0.04\n",
       "distance_5                              0.04\n",
       "latitude                                0.04\n",
       "trap                                    0.02\n",
       "species_culex_territans                 0.02\n",
       "month_dist_temp_x                       0.02"
      ]
     },
     "execution_count": 979,
     "metadata": {},
     "output_type": "execute_result"
    }
   ],
   "source": [
    "ada2_df=ada2_df.loc[ada2_df['ADA Imp'] != 0]\n",
    "ada2_df.loc[ada2_df['ADA Imp'] != 0]"
   ]
  },
  {
   "cell_type": "code",
   "execution_count": null,
   "metadata": {},
   "outputs": [],
   "source": []
  },
  {
   "cell_type": "code",
   "execution_count": 980,
   "metadata": {},
   "outputs": [
    {
     "name": "stdout",
     "output_type": "stream",
     "text": [
      "             precision    recall  f1-score   support\n",
      "\n",
      "        0.0       0.94      0.87      0.91      6079\n",
      "        1.0       0.84      0.92      0.88      4277\n",
      "\n",
      "avg / total       0.90      0.90      0.90     10356\n",
      "\n"
     ]
    }
   ],
   "source": [
    "print(classification_report( y_train, y_hat_train))"
   ]
  },
  {
   "cell_type": "code",
   "execution_count": 981,
   "metadata": {},
   "outputs": [
    {
     "name": "stdout",
     "output_type": "stream",
     "text": [
      "             precision    recall  f1-score   support\n",
      "\n",
      "        0.0       0.98      0.87      0.92      2026\n",
      "        1.0       0.20      0.69      0.30        93\n",
      "\n",
      "avg / total       0.95      0.86      0.90      2119\n",
      "\n"
     ]
    }
   ],
   "source": [
    "print(classification_report(y_test, y_hat))"
   ]
  },
  {
   "cell_type": "code",
   "execution_count": 982,
   "metadata": {
    "scrolled": true
   },
   "outputs": [
    {
     "data": {
      "text/plain": [
       "array([[5315,  764],\n",
       "       [ 322, 3955]])"
      ]
     },
     "execution_count": 982,
     "metadata": {},
     "output_type": "execute_result"
    }
   ],
   "source": [
    "confusion_matrix(y_train, y_hat_train)"
   ]
  },
  {
   "cell_type": "code",
   "execution_count": 983,
   "metadata": {},
   "outputs": [
    {
     "data": {
      "text/plain": [
       "array([[1763,  263],\n",
       "       [  29,   64]])"
      ]
     },
     "execution_count": 983,
     "metadata": {},
     "output_type": "execute_result"
    }
   ],
   "source": [
    "confusion_matrix(y_test, y_hat)"
   ]
  },
  {
   "cell_type": "code",
   "execution_count": 984,
   "metadata": {},
   "outputs": [
    {
     "data": {
      "text/plain": [
       "0.0    2026\n",
       "1.0      93\n",
       "Name: wnvpresent, dtype: int64"
      ]
     },
     "execution_count": 984,
     "metadata": {},
     "output_type": "execute_result"
    }
   ],
   "source": [
    "y_test.value_counts()"
   ]
  },
  {
   "cell_type": "code",
   "execution_count": 985,
   "metadata": {},
   "outputs": [],
   "source": [
    "X = test[features]\n",
    "predict = (gs.predict(X))\n",
    "predprob = gs.predict_proba(X)"
   ]
  },
  {
   "cell_type": "code",
   "execution_count": 986,
   "metadata": {},
   "outputs": [
    {
     "data": {
      "text/plain": [
       "array([[0.51564276, 0.48435724],\n",
       "       [0.51609051, 0.48390949],\n",
       "       [0.51555913, 0.48444087],\n",
       "       ...,\n",
       "       [0.50073041, 0.49926959],\n",
       "       [0.50073041, 0.49926959],\n",
       "       [0.50073041, 0.49926959]])"
      ]
     },
     "execution_count": 986,
     "metadata": {},
     "output_type": "execute_result"
    }
   ],
   "source": [
    "predprob"
   ]
  },
  {
   "cell_type": "code",
   "execution_count": 987,
   "metadata": {},
   "outputs": [],
   "source": [
    "y_train_pred_proba = gs.predict_proba(X_train)\n",
    "y_train_pred = gs.predict(X_train)\n",
    "y_test_pred_proba = gs.predict_proba(X_test)\n",
    "y_test_pred = gs.predict(X_test)"
   ]
  },
  {
   "cell_type": "code",
   "execution_count": 988,
   "metadata": {},
   "outputs": [],
   "source": [
    "#modifying train and testing data to allow for changing prob thresholds and printing the \n",
    "#roc curves\n",
    "X_train.loc[:, 'actual_y'] = y_train\n",
    "X_train.loc[:, 'predicted_label'] = y_train_pred\n",
    "X_train.loc[:, 'predicted_proba'] = y_train_pred_proba[:, 1]\n"
   ]
  },
  {
   "cell_type": "code",
   "execution_count": 989,
   "metadata": {},
   "outputs": [],
   "source": [
    "X_test.loc[:, 'actual_y'] = y_test\n",
    "X_test.loc[:, 'predicted_label'] = y_test_pred\n",
    "X_test.loc[:, 'predicted_proba'] = y_test_pred_proba[:, 1]\n"
   ]
  },
  {
   "cell_type": "code",
   "execution_count": 990,
   "metadata": {},
   "outputs": [
    {
     "name": "stdout",
     "output_type": "stream",
     "text": [
      "Test  0.1\n",
      "[[   0 2026]\n",
      " [   0   93]]\n",
      " Train  0.1\n",
      "[[   0 6079]\n",
      " [   0 4277]]\n",
      "Test  0.12\n",
      "[[   0 2026]\n",
      " [   0   93]]\n",
      " Train  0.12\n",
      "[[   0 6079]\n",
      " [   0 4277]]\n",
      "Test  0.14\n",
      "[[   0 2026]\n",
      " [   0   93]]\n",
      " Train  0.14\n",
      "[[   0 6079]\n",
      " [   0 4277]]\n",
      "Test  0.16\n",
      "[[   0 2026]\n",
      " [   0   93]]\n",
      " Train  0.16\n",
      "[[   0 6079]\n",
      " [   0 4277]]\n",
      "Test  0.18\n",
      "[[   0 2026]\n",
      " [   0   93]]\n",
      " Train  0.18\n",
      "[[   0 6079]\n",
      " [   0 4277]]\n",
      "Test  0.2\n",
      "[[   0 2026]\n",
      " [   0   93]]\n",
      " Train  0.2\n",
      "[[   0 6079]\n",
      " [   0 4277]]\n",
      "Test  0.22\n",
      "[[   0 2026]\n",
      " [   0   93]]\n",
      " Train  0.22\n",
      "[[   0 6079]\n",
      " [   0 4277]]\n",
      "Test  0.24\n",
      "[[   0 2026]\n",
      " [   0   93]]\n",
      " Train  0.24\n",
      "[[   0 6079]\n",
      " [   0 4277]]\n",
      "Test  0.26\n",
      "[[   0 2026]\n",
      " [   0   93]]\n",
      " Train  0.26\n",
      "[[   0 6079]\n",
      " [   0 4277]]\n",
      "Test  0.28\n",
      "[[   0 2026]\n",
      " [   0   93]]\n",
      " Train  0.28\n",
      "[[   0 6079]\n",
      " [   0 4277]]\n",
      "Test  0.3\n",
      "[[   0 2026]\n",
      " [   0   93]]\n",
      " Train  0.3\n",
      "[[   0 6079]\n",
      " [   0 4277]]\n",
      "Test  0.32\n",
      "[[   0 2026]\n",
      " [   0   93]]\n",
      " Train  0.32\n",
      "[[   0 6079]\n",
      " [   0 4277]]\n",
      "Test  0.34\n",
      "[[   0 2026]\n",
      " [   0   93]]\n",
      " Train  0.34\n",
      "[[   0 6079]\n",
      " [   0 4277]]\n",
      "Test  0.36\n",
      "[[   0 2026]\n",
      " [   0   93]]\n",
      " Train  0.36\n",
      "[[   0 6079]\n",
      " [   0 4277]]\n",
      "Test  0.38\n",
      "[[   0 2026]\n",
      " [   0   93]]\n",
      " Train  0.38\n",
      "[[   0 6079]\n",
      " [   0 4277]]\n",
      "Test  0.4\n",
      "[[   0 2026]\n",
      " [   0   93]]\n",
      " Train  0.4\n",
      "[[   0 6079]\n",
      " [   0 4277]]\n",
      "Test  0.42\n",
      "[[   0 2026]\n",
      " [   0   93]]\n",
      " Train  0.42\n",
      "[[   0 6079]\n",
      " [   0 4277]]\n",
      "Test  0.44\n",
      "[[   0 2026]\n",
      " [   0   93]]\n",
      " Train  0.44\n",
      "[[   0 6079]\n",
      " [   0 4277]]\n",
      "Test  0.46\n",
      "[[   6 2020]\n",
      " [   0   93]]\n",
      " Train  0.46\n",
      "[[  12 6067]\n",
      " [   0 4277]]\n",
      "Test  0.48\n",
      "[[  65 1961]\n",
      " [   1   92]]\n",
      " Train  0.48\n",
      "[[ 187 5892]\n",
      " [   0 4277]]\n"
     ]
    }
   ],
   "source": [
    "#print out confusion matrices from .1 .5 by .02 for Xtest and Xtrain\n",
    "for prob in range(10, 50, 2):\n",
    "    proba = prob/100\n",
    "    \n",
    "    X_test.loc[:, 'predicted_label']= X_test['predicted_proba'].map(\n",
    "    lambda p: 1 if p > proba else 0)\n",
    "    \n",
    "    X_train.loc[:, 'predicted_label']= X_train['predicted_proba'].map(\n",
    "    lambda p: 1 if p > proba else 0)\n",
    "    \n",
    "    X_test['predicted_label']\n",
    "    print('Test  ' + str(proba))\n",
    "    print(confusion_matrix(y_test, X_test['predicted_label']))\n",
    "    print(' Train  ' + str(proba))\n",
    "    print(confusion_matrix(y_train, X_train['predicted_label']))\n"
   ]
  },
  {
   "cell_type": "code",
   "execution_count": 991,
   "metadata": {},
   "outputs": [],
   "source": [
    "fpr, tpr, _ = roc_curve(y_train, X_train['predicted_proba'])\n",
    "roc_auc = auc(fpr, tpr)\n"
   ]
  },
  {
   "cell_type": "code",
   "execution_count": 992,
   "metadata": {},
   "outputs": [
    {
     "data": {
      "image/png": "[encoded data removed]",
      "text/plain": [
       "<Figure size 864x504 with 1 Axes>"
      ]
     },
     "metadata": {},
     "output_type": "display_data"
    }
   ],
   "source": [
    "# Plot \n",
    "plt.figure(figsize = (12,7))\n",
    "line_width = 3\n",
    "\n",
    "plt.plot(fpr, tpr, lw = line_width, color=\"darkorange\", label = \"ROC Curve %.2f\" % roc_auc)\n",
    "plt.plot([0,1], [0, 1], lw = line_width, linestyle=\"--\", color=\"navy\")\n",
    "\n",
    "plt.xlim([0.0, 1.0])\n",
    "plt.ylim([0.0, 1.05])\n",
    "plt.xlabel('False Positive Rate')\n",
    "plt.ylabel('True Positive Rate')\n",
    "plt.title('ROC')\n",
    "plt.legend(loc=\"lower right\")\n",
    "plt.show()"
   ]
  },
  {
   "cell_type": "code",
   "execution_count": 993,
   "metadata": {},
   "outputs": [],
   "source": [
    "fpr, tpr, _ = roc_curve(y_test, X_test['predicted_proba'])\n",
    "roc_auc = auc(fpr, tpr)"
   ]
  },
  {
   "cell_type": "code",
   "execution_count": 994,
   "metadata": {
    "scrolled": false
   },
   "outputs": [
    {
     "data": {
      "image/png": "[encoded data removed]",
      "text/plain": [
       "<Figure size 864x504 with 1 Axes>"
      ]
     },
     "metadata": {},
     "output_type": "display_data"
    }
   ],
   "source": [
    "# Plot \n",
    "plt.figure(figsize = (12,7))\n",
    "line_width = 3\n",
    "\n",
    "plt.plot(fpr, tpr, lw = line_width, color=\"darkorange\", label = \"ROC Curve %.2f\" % roc_auc)\n",
    "plt.plot([0,1], [0, 1], lw = line_width, linestyle=\"--\", color=\"navy\")\n",
    "\n",
    "plt.xlim([0.0, 1.0])\n",
    "plt.ylim([0.0, 1.05])\n",
    "plt.xlabel('False Positive Rate')\n",
    "plt.ylabel('True Positive Rate')\n",
    "plt.title('ROC')\n",
    "plt.legend(loc=\"lower right\")\n",
    "plt.show()"
   ]
  },
  {
   "cell_type": "code",
   "execution_count": 995,
   "metadata": {},
   "outputs": [],
   "source": [
    "rf_predict = gs.predict(X)\n",
    "rf_proba = gs.predict_proba(X)[:,1]"
   ]
  },
  {
   "cell_type": "code",
   "execution_count": 996,
   "metadata": {},
   "outputs": [
    {
     "data": {
      "text/plain": [
       "array([0.48435724, 0.48390949, 0.48444087, ..., 0.49926959, 0.49926959,\n",
       "       0.49926959])"
      ]
     },
     "execution_count": 996,
     "metadata": {},
     "output_type": "execute_result"
    }
   ],
   "source": [
    "rf_proba"
   ]
  },
  {
   "cell_type": "code",
   "execution_count": 997,
   "metadata": {
    "scrolled": true
   },
   "outputs": [],
   "source": [
    "submissions = pd.DataFrame(rf_predict, columns = ['wnvpresent'])\n",
    "submissions['predproba'] = rf_proba\n",
    "submissions.loc[:, 'wnvpresent']= submissions['predproba'].map(\n",
    "    lambda p: 1 if p > .5 else 0)"
   ]
  },
  {
   "cell_type": "code",
   "execution_count": 998,
   "metadata": {},
   "outputs": [
    {
     "data": {
      "text/plain": [
       "0    103696\n",
       "1     12597\n",
       "Name: wnvpresent, dtype: int64"
      ]
     },
     "execution_count": 998,
     "metadata": {},
     "output_type": "execute_result"
    }
   ],
   "source": [
    "submissions.wnvpresent.value_counts()"
   ]
  },
  {
   "cell_type": "code",
   "execution_count": 999,
   "metadata": {},
   "outputs": [
    {
     "data": {
      "text/plain": [
       "(116293, 18)"
      ]
     },
     "execution_count": 999,
     "metadata": {},
     "output_type": "execute_result"
    }
   ],
   "source": [
    "X.shape"
   ]
  },
  {
   "cell_type": "code",
   "execution_count": 1000,
   "metadata": {},
   "outputs": [],
   "source": [
    "submissions['id'] = [id +1 for id in range(len(submissions))]"
   ]
  },
  {
   "cell_type": "code",
   "execution_count": 1001,
   "metadata": {},
   "outputs": [],
   "source": [
    "submissions = submissions[['id','wnvpresent' ]]\n"
   ]
  },
  {
   "cell_type": "code",
   "execution_count": 1002,
   "metadata": {},
   "outputs": [],
   "source": [
    "submissions.to_csv('../data/submission.csv', index = False)"
   ]
  },
  {
   "cell_type": "code",
   "execution_count": null,
   "metadata": {},
   "outputs": [],
   "source": []
  }
 ],
 "metadata": {
  "kernelspec": {
   "display_name": "Python [default]",
   "language": "python",
   "name": "python3"
  },
  "language_info": {
   "codemirror_mode": {
    "name": "ipython",
    "version": 3
   },
   "file_extension": ".py",
   "mimetype": "text/x-python",
   "name": "python",
   "nbconvert_exporter": "python",
   "pygments_lexer": "ipython3",
   "version": "3.6.5"
  }
 },
 "nbformat": 4,
 "nbformat_minor": 2
}
