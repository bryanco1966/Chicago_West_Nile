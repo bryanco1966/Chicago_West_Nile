{
 "cells": [
  {
   "cell_type": "markdown",
   "metadata": {},
   "source": [
    "# West Nile Analysis"
   ]
  },
  {
   "cell_type": "code",
   "execution_count": 5,
   "metadata": {},
   "outputs": [],
   "source": [
    "import pandas as pd\n",
    "import numpy as np\n",
    "from sklearn.ensemble import RandomForestClassifier, ExtraTreesClassifier\n",
    "from sklearn.cross_validation import train_test_split, KFold, cross_val_score\n",
    "from sklearn.grid_search import GridSearchCV\n",
    "from sklearn.metrics import classification_report, confusion_matrix\n",
    "import matplotlib.pyplot as plt\n",
    "import seaborn as sns"
   ]
  },
  {
   "cell_type": "code",
   "execution_count": 6,
   "metadata": {},
   "outputs": [],
   "source": [
    "train = pd.read_csv('../data/trainclean.csv')\n",
    "test  = pd.read_csv('../data/testclean.csv')\n",
    "train.columns = [col.lower().replace(' ', '_') for col in train.columns]\n",
    "test.columns = [col.lower().replace(' ', '_') for col in test.columns]\n",
    "\n",
    "                    "
   ]
  },
  {
   "cell_type": "code",
   "execution_count": 7,
   "metadata": {},
   "outputs": [],
   "source": [
    "#included features\n",
    "features = [ 'trap', 'latitude', 'longitude', 'block',\n",
    "            'species_culex_pipiens', 'species_culex_pipiens/restuans',\n",
    "            'species_culex_restuans', 'species_culex_salinarius',\n",
    "            'species_culex_tarsalis', 'species_culex_territans', 'distance']\n",
    "\n",
    "X = train[features]\n",
    "y = train['wnvpresent']"
   ]
  },
  {
   "cell_type": "code",
   "execution_count": 8,
   "metadata": {},
   "outputs": [],
   "source": [
    "X_train, X_test, y_train, y_test = train_test_split(X, y, random_state= 6, stratify = y)"
   ]
  },
  {
   "cell_type": "code",
   "execution_count": 9,
   "metadata": {
    "scrolled": false
   },
   "outputs": [
    {
     "data": {
      "text/html": [
       "<div>\n",
       "<style scoped>\n",
       "    .dataframe tbody tr th:only-of-type {\n",
       "        vertical-align: middle;\n",
       "    }\n",
       "\n",
       "    .dataframe tbody tr th {\n",
       "        vertical-align: top;\n",
       "    }\n",
       "\n",
       "    .dataframe thead th {\n",
       "        text-align: right;\n",
       "    }\n",
       "</style>\n",
       "<table border=\"1\" class=\"dataframe\">\n",
       "  <thead>\n",
       "    <tr style=\"text-align: right;\">\n",
       "      <th></th>\n",
       "      <th>trap</th>\n",
       "      <th>latitude</th>\n",
       "      <th>longitude</th>\n",
       "      <th>block</th>\n",
       "      <th>species_culex_pipiens</th>\n",
       "      <th>species_culex_pipiens/restuans</th>\n",
       "      <th>species_culex_restuans</th>\n",
       "      <th>species_culex_salinarius</th>\n",
       "      <th>species_culex_tarsalis</th>\n",
       "      <th>species_culex_territans</th>\n",
       "      <th>distance</th>\n",
       "      <th>wnvpresent</th>\n",
       "    </tr>\n",
       "  </thead>\n",
       "  <tbody>\n",
       "    <tr>\n",
       "      <th>10477</th>\n",
       "      <td>102</td>\n",
       "      <td>41.750498</td>\n",
       "      <td>-87.605294</td>\n",
       "      <td>10</td>\n",
       "      <td>0</td>\n",
       "      <td>0</td>\n",
       "      <td>1</td>\n",
       "      <td>0</td>\n",
       "      <td>0</td>\n",
       "      <td>0</td>\n",
       "      <td>0.488413</td>\n",
       "      <td>0</td>\n",
       "    </tr>\n",
       "    <tr>\n",
       "      <th>1929</th>\n",
       "      <td>13</td>\n",
       "      <td>41.923738</td>\n",
       "      <td>-87.785288</td>\n",
       "      <td>61</td>\n",
       "      <td>1</td>\n",
       "      <td>0</td>\n",
       "      <td>0</td>\n",
       "      <td>0</td>\n",
       "      <td>0</td>\n",
       "      <td>0</td>\n",
       "      <td>0.539636</td>\n",
       "      <td>0</td>\n",
       "    </tr>\n",
       "    <tr>\n",
       "      <th>6</th>\n",
       "      <td>46</td>\n",
       "      <td>41.891118</td>\n",
       "      <td>-87.654491</td>\n",
       "      <td>25</td>\n",
       "      <td>0</td>\n",
       "      <td>0</td>\n",
       "      <td>1</td>\n",
       "      <td>0</td>\n",
       "      <td>0</td>\n",
       "      <td>0</td>\n",
       "      <td>0.358443</td>\n",
       "      <td>0</td>\n",
       "    </tr>\n",
       "    <tr>\n",
       "      <th>3078</th>\n",
       "      <td>11</td>\n",
       "      <td>41.944869</td>\n",
       "      <td>-87.832763</td>\n",
       "      <td>36</td>\n",
       "      <td>0</td>\n",
       "      <td>1</td>\n",
       "      <td>0</td>\n",
       "      <td>0</td>\n",
       "      <td>0</td>\n",
       "      <td>0</td>\n",
       "      <td>1.771727</td>\n",
       "      <td>1</td>\n",
       "    </tr>\n",
       "    <tr>\n",
       "      <th>3279</th>\n",
       "      <td>60</td>\n",
       "      <td>41.823065</td>\n",
       "      <td>-87.678378</td>\n",
       "      <td>22</td>\n",
       "      <td>0</td>\n",
       "      <td>1</td>\n",
       "      <td>0</td>\n",
       "      <td>0</td>\n",
       "      <td>0</td>\n",
       "      <td>0</td>\n",
       "      <td>0.622362</td>\n",
       "      <td>0</td>\n",
       "    </tr>\n",
       "  </tbody>\n",
       "</table>\n",
       "</div>"
      ],
      "text/plain": [
       "       trap   latitude  longitude  block  species_culex_pipiens  \\\n",
       "10477   102  41.750498 -87.605294     10                      0   \n",
       "1929     13  41.923738 -87.785288     61                      1   \n",
       "6        46  41.891118 -87.654491     25                      0   \n",
       "3078     11  41.944869 -87.832763     36                      0   \n",
       "3279     60  41.823065 -87.678378     22                      0   \n",
       "\n",
       "       species_culex_pipiens/restuans  species_culex_restuans  \\\n",
       "10477                               0                       1   \n",
       "1929                                0                       0   \n",
       "6                                   0                       1   \n",
       "3078                                1                       0   \n",
       "3279                                1                       0   \n",
       "\n",
       "       species_culex_salinarius  species_culex_tarsalis  \\\n",
       "10477                         0                       0   \n",
       "1929                          0                       0   \n",
       "6                             0                       0   \n",
       "3078                          0                       0   \n",
       "3279                          0                       0   \n",
       "\n",
       "       species_culex_territans  distance  wnvpresent  \n",
       "10477                        0  0.488413           0  \n",
       "1929                         0  0.539636           0  \n",
       "6                            0  0.358443           0  \n",
       "3078                         0  1.771727           1  \n",
       "3279                         0  0.622362           0  "
      ]
     },
     "execution_count": 9,
     "metadata": {},
     "output_type": "execute_result"
    }
   ],
   "source": [
    "datasets = (X_train, y_train)\n",
    "traincombined = pd.concat(datasets, axis = 1)\n",
    "traincombined.head()"
   ]
  },
  {
   "cell_type": "code",
   "execution_count": null,
   "metadata": {},
   "outputs": [],
   "source": []
  },
  {
   "cell_type": "code",
   "execution_count": 10,
   "metadata": {},
   "outputs": [],
   "source": [
    "west_nile = traincombined[traincombined.wnvpresent == 1]"
   ]
  },
  {
   "cell_type": "code",
   "execution_count": 11,
   "metadata": {},
   "outputs": [],
   "source": [
    "extra_west_nile = west_nile.sample(n = 5000, replace = True, random_state = 63, axis = 0)"
   ]
  },
  {
   "cell_type": "code",
   "execution_count": null,
   "metadata": {},
   "outputs": [],
   "source": []
  },
  {
   "cell_type": "code",
   "execution_count": 12,
   "metadata": {},
   "outputs": [],
   "source": [
    "merge = [traincombined, extra_west_nile]\n",
    "traincombined = pd.concat(merge, axis = 0)"
   ]
  },
  {
   "cell_type": "code",
   "execution_count": 13,
   "metadata": {},
   "outputs": [
    {
     "data": {
      "text/plain": [
       "(12879, 12)"
      ]
     },
     "execution_count": 13,
     "metadata": {},
     "output_type": "execute_result"
    }
   ],
   "source": [
    "traincombined.shape"
   ]
  },
  {
   "cell_type": "code",
   "execution_count": 22,
   "metadata": {},
   "outputs": [
    {
     "data": {
      "text/html": [
       "<div>\n",
       "<style scoped>\n",
       "    .dataframe tbody tr th:only-of-type {\n",
       "        vertical-align: middle;\n",
       "    }\n",
       "\n",
       "    .dataframe tbody tr th {\n",
       "        vertical-align: top;\n",
       "    }\n",
       "\n",
       "    .dataframe thead th {\n",
       "        text-align: right;\n",
       "    }\n",
       "</style>\n",
       "<table border=\"1\" class=\"dataframe\">\n",
       "  <thead>\n",
       "    <tr style=\"text-align: right;\">\n",
       "      <th></th>\n",
       "      <th>trap</th>\n",
       "      <th>latitude</th>\n",
       "      <th>longitude</th>\n",
       "      <th>block</th>\n",
       "      <th>species_culex_pipiens</th>\n",
       "      <th>species_culex_pipiens/restuans</th>\n",
       "      <th>species_culex_restuans</th>\n",
       "      <th>species_culex_salinarius</th>\n",
       "      <th>species_culex_tarsalis</th>\n",
       "      <th>species_culex_territans</th>\n",
       "      <th>distance</th>\n",
       "      <th>wnvpresent</th>\n",
       "    </tr>\n",
       "  </thead>\n",
       "  <tbody>\n",
       "    <tr>\n",
       "      <th>trap</th>\n",
       "      <td>1.000000</td>\n",
       "      <td>0.286085</td>\n",
       "      <td>-0.559703</td>\n",
       "      <td>-0.366928</td>\n",
       "      <td>-0.092077</td>\n",
       "      <td>0.066231</td>\n",
       "      <td>0.032452</td>\n",
       "      <td>0.001477</td>\n",
       "      <td>-0.004490</td>\n",
       "      <td>-0.026831</td>\n",
       "      <td>0.539732</td>\n",
       "      <td>0.097109</td>\n",
       "    </tr>\n",
       "    <tr>\n",
       "      <th>latitude</th>\n",
       "      <td>0.286085</td>\n",
       "      <td>1.000000</td>\n",
       "      <td>-0.730875</td>\n",
       "      <td>0.108827</td>\n",
       "      <td>-0.130715</td>\n",
       "      <td>0.085107</td>\n",
       "      <td>0.062081</td>\n",
       "      <td>-0.022407</td>\n",
       "      <td>-0.010488</td>\n",
       "      <td>-0.037882</td>\n",
       "      <td>0.077584</td>\n",
       "      <td>0.077678</td>\n",
       "    </tr>\n",
       "    <tr>\n",
       "      <th>longitude</th>\n",
       "      <td>-0.559703</td>\n",
       "      <td>-0.730875</td>\n",
       "      <td>1.000000</td>\n",
       "      <td>-0.070963</td>\n",
       "      <td>0.129929</td>\n",
       "      <td>-0.104066</td>\n",
       "      <td>-0.040424</td>\n",
       "      <td>0.019580</td>\n",
       "      <td>0.010407</td>\n",
       "      <td>0.051567</td>\n",
       "      <td>-0.371444</td>\n",
       "      <td>-0.148194</td>\n",
       "    </tr>\n",
       "    <tr>\n",
       "      <th>block</th>\n",
       "      <td>-0.366928</td>\n",
       "      <td>0.108827</td>\n",
       "      <td>-0.070963</td>\n",
       "      <td>1.000000</td>\n",
       "      <td>-0.041489</td>\n",
       "      <td>0.038784</td>\n",
       "      <td>-0.001014</td>\n",
       "      <td>-0.006264</td>\n",
       "      <td>-0.001506</td>\n",
       "      <td>0.008825</td>\n",
       "      <td>-0.213594</td>\n",
       "      <td>0.014945</td>\n",
       "    </tr>\n",
       "    <tr>\n",
       "      <th>species_culex_pipiens</th>\n",
       "      <td>-0.092077</td>\n",
       "      <td>-0.130715</td>\n",
       "      <td>0.129929</td>\n",
       "      <td>-0.041489</td>\n",
       "      <td>1.000000</td>\n",
       "      <td>-0.646863</td>\n",
       "      <td>-0.338064</td>\n",
       "      <td>-0.045736</td>\n",
       "      <td>-0.010564</td>\n",
       "      <td>-0.078113</td>\n",
       "      <td>-0.034155</td>\n",
       "      <td>0.196968</td>\n",
       "    </tr>\n",
       "    <tr>\n",
       "      <th>species_culex_pipiens/restuans</th>\n",
       "      <td>0.066231</td>\n",
       "      <td>0.085107</td>\n",
       "      <td>-0.104066</td>\n",
       "      <td>0.038784</td>\n",
       "      <td>-0.646863</td>\n",
       "      <td>1.000000</td>\n",
       "      <td>-0.456552</td>\n",
       "      <td>-0.061766</td>\n",
       "      <td>-0.014267</td>\n",
       "      <td>-0.105491</td>\n",
       "      <td>0.029558</td>\n",
       "      <td>0.026525</td>\n",
       "    </tr>\n",
       "    <tr>\n",
       "      <th>species_culex_restuans</th>\n",
       "      <td>0.032452</td>\n",
       "      <td>0.062081</td>\n",
       "      <td>-0.040424</td>\n",
       "      <td>-0.001014</td>\n",
       "      <td>-0.338064</td>\n",
       "      <td>-0.456552</td>\n",
       "      <td>1.000000</td>\n",
       "      <td>-0.032280</td>\n",
       "      <td>-0.007456</td>\n",
       "      <td>-0.055132</td>\n",
       "      <td>0.008907</td>\n",
       "      <td>-0.230050</td>\n",
       "    </tr>\n",
       "    <tr>\n",
       "      <th>species_culex_salinarius</th>\n",
       "      <td>0.001477</td>\n",
       "      <td>-0.022407</td>\n",
       "      <td>0.019580</td>\n",
       "      <td>-0.006264</td>\n",
       "      <td>-0.045736</td>\n",
       "      <td>-0.061766</td>\n",
       "      <td>-0.032280</td>\n",
       "      <td>1.000000</td>\n",
       "      <td>-0.001009</td>\n",
       "      <td>-0.007459</td>\n",
       "      <td>-0.006054</td>\n",
       "      <td>-0.056270</td>\n",
       "    </tr>\n",
       "    <tr>\n",
       "      <th>species_culex_tarsalis</th>\n",
       "      <td>-0.004490</td>\n",
       "      <td>-0.010488</td>\n",
       "      <td>0.010407</td>\n",
       "      <td>-0.001506</td>\n",
       "      <td>-0.010564</td>\n",
       "      <td>-0.014267</td>\n",
       "      <td>-0.007456</td>\n",
       "      <td>-0.001009</td>\n",
       "      <td>1.000000</td>\n",
       "      <td>-0.001723</td>\n",
       "      <td>-0.003846</td>\n",
       "      <td>-0.012997</td>\n",
       "    </tr>\n",
       "    <tr>\n",
       "      <th>species_culex_territans</th>\n",
       "      <td>-0.026831</td>\n",
       "      <td>-0.037882</td>\n",
       "      <td>0.051567</td>\n",
       "      <td>0.008825</td>\n",
       "      <td>-0.078113</td>\n",
       "      <td>-0.105491</td>\n",
       "      <td>-0.055132</td>\n",
       "      <td>-0.007459</td>\n",
       "      <td>-0.001723</td>\n",
       "      <td>1.000000</td>\n",
       "      <td>-0.017311</td>\n",
       "      <td>-0.096104</td>\n",
       "    </tr>\n",
       "    <tr>\n",
       "      <th>distance</th>\n",
       "      <td>0.539732</td>\n",
       "      <td>0.077584</td>\n",
       "      <td>-0.371444</td>\n",
       "      <td>-0.213594</td>\n",
       "      <td>-0.034155</td>\n",
       "      <td>0.029558</td>\n",
       "      <td>0.008907</td>\n",
       "      <td>-0.006054</td>\n",
       "      <td>-0.003846</td>\n",
       "      <td>-0.017311</td>\n",
       "      <td>1.000000</td>\n",
       "      <td>0.093738</td>\n",
       "    </tr>\n",
       "    <tr>\n",
       "      <th>wnvpresent</th>\n",
       "      <td>0.097109</td>\n",
       "      <td>0.077678</td>\n",
       "      <td>-0.148194</td>\n",
       "      <td>0.014945</td>\n",
       "      <td>0.196968</td>\n",
       "      <td>0.026525</td>\n",
       "      <td>-0.230050</td>\n",
       "      <td>-0.056270</td>\n",
       "      <td>-0.012997</td>\n",
       "      <td>-0.096104</td>\n",
       "      <td>0.093738</td>\n",
       "      <td>1.000000</td>\n",
       "    </tr>\n",
       "  </tbody>\n",
       "</table>\n",
       "</div>"
      ],
      "text/plain": [
       "                                    trap  latitude  longitude     block  \\\n",
       "trap                            1.000000  0.286085  -0.559703 -0.366928   \n",
       "latitude                        0.286085  1.000000  -0.730875  0.108827   \n",
       "longitude                      -0.559703 -0.730875   1.000000 -0.070963   \n",
       "block                          -0.366928  0.108827  -0.070963  1.000000   \n",
       "species_culex_pipiens          -0.092077 -0.130715   0.129929 -0.041489   \n",
       "species_culex_pipiens/restuans  0.066231  0.085107  -0.104066  0.038784   \n",
       "species_culex_restuans          0.032452  0.062081  -0.040424 -0.001014   \n",
       "species_culex_salinarius        0.001477 -0.022407   0.019580 -0.006264   \n",
       "species_culex_tarsalis         -0.004490 -0.010488   0.010407 -0.001506   \n",
       "species_culex_territans        -0.026831 -0.037882   0.051567  0.008825   \n",
       "distance                        0.539732  0.077584  -0.371444 -0.213594   \n",
       "wnvpresent                      0.097109  0.077678  -0.148194  0.014945   \n",
       "\n",
       "                                species_culex_pipiens  \\\n",
       "trap                                        -0.092077   \n",
       "latitude                                    -0.130715   \n",
       "longitude                                    0.129929   \n",
       "block                                       -0.041489   \n",
       "species_culex_pipiens                        1.000000   \n",
       "species_culex_pipiens/restuans              -0.646863   \n",
       "species_culex_restuans                      -0.338064   \n",
       "species_culex_salinarius                    -0.045736   \n",
       "species_culex_tarsalis                      -0.010564   \n",
       "species_culex_territans                     -0.078113   \n",
       "distance                                    -0.034155   \n",
       "wnvpresent                                   0.196968   \n",
       "\n",
       "                                species_culex_pipiens/restuans  \\\n",
       "trap                                                  0.066231   \n",
       "latitude                                              0.085107   \n",
       "longitude                                            -0.104066   \n",
       "block                                                 0.038784   \n",
       "species_culex_pipiens                                -0.646863   \n",
       "species_culex_pipiens/restuans                        1.000000   \n",
       "species_culex_restuans                               -0.456552   \n",
       "species_culex_salinarius                             -0.061766   \n",
       "species_culex_tarsalis                               -0.014267   \n",
       "species_culex_territans                              -0.105491   \n",
       "distance                                              0.029558   \n",
       "wnvpresent                                            0.026525   \n",
       "\n",
       "                                species_culex_restuans  \\\n",
       "trap                                          0.032452   \n",
       "latitude                                      0.062081   \n",
       "longitude                                    -0.040424   \n",
       "block                                        -0.001014   \n",
       "species_culex_pipiens                        -0.338064   \n",
       "species_culex_pipiens/restuans               -0.456552   \n",
       "species_culex_restuans                        1.000000   \n",
       "species_culex_salinarius                     -0.032280   \n",
       "species_culex_tarsalis                       -0.007456   \n",
       "species_culex_territans                      -0.055132   \n",
       "distance                                      0.008907   \n",
       "wnvpresent                                   -0.230050   \n",
       "\n",
       "                                species_culex_salinarius  \\\n",
       "trap                                            0.001477   \n",
       "latitude                                       -0.022407   \n",
       "longitude                                       0.019580   \n",
       "block                                          -0.006264   \n",
       "species_culex_pipiens                          -0.045736   \n",
       "species_culex_pipiens/restuans                 -0.061766   \n",
       "species_culex_restuans                         -0.032280   \n",
       "species_culex_salinarius                        1.000000   \n",
       "species_culex_tarsalis                         -0.001009   \n",
       "species_culex_territans                        -0.007459   \n",
       "distance                                       -0.006054   \n",
       "wnvpresent                                     -0.056270   \n",
       "\n",
       "                                species_culex_tarsalis  \\\n",
       "trap                                         -0.004490   \n",
       "latitude                                     -0.010488   \n",
       "longitude                                     0.010407   \n",
       "block                                        -0.001506   \n",
       "species_culex_pipiens                        -0.010564   \n",
       "species_culex_pipiens/restuans               -0.014267   \n",
       "species_culex_restuans                       -0.007456   \n",
       "species_culex_salinarius                     -0.001009   \n",
       "species_culex_tarsalis                        1.000000   \n",
       "species_culex_territans                      -0.001723   \n",
       "distance                                     -0.003846   \n",
       "wnvpresent                                   -0.012997   \n",
       "\n",
       "                                species_culex_territans  distance  wnvpresent  \n",
       "trap                                          -0.026831  0.539732    0.097109  \n",
       "latitude                                      -0.037882  0.077584    0.077678  \n",
       "longitude                                      0.051567 -0.371444   -0.148194  \n",
       "block                                          0.008825 -0.213594    0.014945  \n",
       "species_culex_pipiens                         -0.078113 -0.034155    0.196968  \n",
       "species_culex_pipiens/restuans                -0.105491  0.029558    0.026525  \n",
       "species_culex_restuans                        -0.055132  0.008907   -0.230050  \n",
       "species_culex_salinarius                      -0.007459 -0.006054   -0.056270  \n",
       "species_culex_tarsalis                        -0.001723 -0.003846   -0.012997  \n",
       "species_culex_territans                        1.000000 -0.017311   -0.096104  \n",
       "distance                                      -0.017311  1.000000    0.093738  \n",
       "wnvpresent                                    -0.096104  0.093738    1.000000  "
      ]
     },
     "execution_count": 22,
     "metadata": {},
     "output_type": "execute_result"
    }
   ],
   "source": [
    "traincombined.corr()"
   ]
  },
  {
   "cell_type": "code",
   "execution_count": 14,
   "metadata": {},
   "outputs": [],
   "source": [
    "X_train = traincombined[features]\n",
    "y_train = traincombined['wnvpresent']"
   ]
  },
  {
   "cell_type": "code",
   "execution_count": 15,
   "metadata": {
    "scrolled": false
   },
   "outputs": [],
   "source": [
    "rf = RandomForestClassifier()\n",
    "rf_params = {\n",
    "    'n_estimators'       : [10, 20, 30],\n",
    "    'max_depth'          : [ 100, 110, 150],\n",
    "    'min_samples_leaf'   : [7, 10, 20]\n",
    "}\n",
    "\n"
   ]
  },
  {
   "cell_type": "code",
   "execution_count": 16,
   "metadata": {},
   "outputs": [
    {
     "name": "stdout",
     "output_type": "stream",
     "text": [
      "0.7153505706964827\n",
      "{'max_depth': 110, 'min_samples_leaf': 7, 'n_estimators': 30}\n"
     ]
    },
    {
     "data": {
      "text/plain": [
       "0.7236391320898363"
      ]
     },
     "execution_count": 16,
     "metadata": {},
     "output_type": "execute_result"
    }
   ],
   "source": [
    "gs = GridSearchCV(rf, param_grid=rf_params)\n",
    "gs.fit(X_train, y_train)\n",
    "print(gs.best_score_)\n",
    "print(gs.best_params_)\n",
    "gs.score(X_test, y_test)\n"
   ]
  },
  {
   "cell_type": "code",
   "execution_count": null,
   "metadata": {},
   "outputs": [],
   "source": []
  },
  {
   "cell_type": "code",
   "execution_count": 17,
   "metadata": {},
   "outputs": [],
   "source": [
    "y_hat = gs.predict(X_test)\n",
    "y_hat_train = gs.predict(X_train)"
   ]
  },
  {
   "cell_type": "code",
   "execution_count": 18,
   "metadata": {},
   "outputs": [
    {
     "name": "stdout",
     "output_type": "stream",
     "text": [
      "             precision    recall  f1-score   support\n",
      "\n",
      "          0       0.78      0.74      0.76      7466\n",
      "          1       0.67      0.71      0.69      5413\n",
      "\n",
      "avg / total       0.73      0.73      0.73     12879\n",
      "\n"
     ]
    }
   ],
   "source": [
    "print(classification_report( y_train, y_hat_train))"
   ]
  },
  {
   "cell_type": "code",
   "execution_count": 19,
   "metadata": {},
   "outputs": [
    {
     "name": "stdout",
     "output_type": "stream",
     "text": [
      "             precision    recall  f1-score   support\n",
      "\n",
      "          0       0.96      0.74      0.84      2489\n",
      "          1       0.08      0.43      0.14       138\n",
      "\n",
      "avg / total       0.91      0.72      0.80      2627\n",
      "\n"
     ]
    }
   ],
   "source": [
    "print(classification_report(y_test, y_hat))"
   ]
  },
  {
   "cell_type": "code",
   "execution_count": 20,
   "metadata": {},
   "outputs": [
    {
     "data": {
      "text/plain": [
       "array([[1842,  647],\n",
       "       [  79,   59]])"
      ]
     },
     "execution_count": 20,
     "metadata": {},
     "output_type": "execute_result"
    }
   ],
   "source": [
    "confusion_matrix(y_test, y_hat)"
   ]
  },
  {
   "cell_type": "code",
   "execution_count": 21,
   "metadata": {},
   "outputs": [
    {
     "ename": "KeyError",
     "evalue": "\"['distance'] not in index\"",
     "output_type": "error",
     "traceback": [
      "\u001b[0;31m---------------------------------------------------------------------------\u001b[0m",
      "\u001b[0;31mKeyError\u001b[0m                                  Traceback (most recent call last)",
      "\u001b[0;32m<ipython-input-21-5901d96880d6>\u001b[0m in \u001b[0;36m<module>\u001b[0;34m()\u001b[0m\n\u001b[0;32m----> 1\u001b[0;31m \u001b[0mX\u001b[0m \u001b[0;34m=\u001b[0m \u001b[0mtest\u001b[0m\u001b[0;34m[\u001b[0m\u001b[0mfeatures\u001b[0m\u001b[0;34m]\u001b[0m\u001b[0;34m\u001b[0m\u001b[0m\n\u001b[0m\u001b[1;32m      2\u001b[0m \u001b[0mpredict\u001b[0m \u001b[0;34m=\u001b[0m \u001b[0;34m(\u001b[0m\u001b[0mgs\u001b[0m\u001b[0;34m.\u001b[0m\u001b[0mpredict\u001b[0m\u001b[0;34m(\u001b[0m\u001b[0mX\u001b[0m\u001b[0;34m)\u001b[0m\u001b[0;34m)\u001b[0m\u001b[0;34m\u001b[0m\u001b[0m\n",
      "\u001b[0;32m~/anaconda3/lib/python3.6/site-packages/pandas/core/frame.py\u001b[0m in \u001b[0;36m__getitem__\u001b[0;34m(self, key)\u001b[0m\n\u001b[1;32m   2677\u001b[0m         \u001b[0;32mif\u001b[0m \u001b[0misinstance\u001b[0m\u001b[0;34m(\u001b[0m\u001b[0mkey\u001b[0m\u001b[0;34m,\u001b[0m \u001b[0;34m(\u001b[0m\u001b[0mSeries\u001b[0m\u001b[0;34m,\u001b[0m \u001b[0mnp\u001b[0m\u001b[0;34m.\u001b[0m\u001b[0mndarray\u001b[0m\u001b[0;34m,\u001b[0m \u001b[0mIndex\u001b[0m\u001b[0;34m,\u001b[0m \u001b[0mlist\u001b[0m\u001b[0;34m)\u001b[0m\u001b[0;34m)\u001b[0m\u001b[0;34m:\u001b[0m\u001b[0;34m\u001b[0m\u001b[0m\n\u001b[1;32m   2678\u001b[0m             \u001b[0;31m# either boolean or fancy integer index\u001b[0m\u001b[0;34m\u001b[0m\u001b[0;34m\u001b[0m\u001b[0m\n\u001b[0;32m-> 2679\u001b[0;31m             \u001b[0;32mreturn\u001b[0m \u001b[0mself\u001b[0m\u001b[0;34m.\u001b[0m\u001b[0m_getitem_array\u001b[0m\u001b[0;34m(\u001b[0m\u001b[0mkey\u001b[0m\u001b[0;34m)\u001b[0m\u001b[0;34m\u001b[0m\u001b[0m\n\u001b[0m\u001b[1;32m   2680\u001b[0m         \u001b[0;32melif\u001b[0m \u001b[0misinstance\u001b[0m\u001b[0;34m(\u001b[0m\u001b[0mkey\u001b[0m\u001b[0;34m,\u001b[0m \u001b[0mDataFrame\u001b[0m\u001b[0;34m)\u001b[0m\u001b[0;34m:\u001b[0m\u001b[0;34m\u001b[0m\u001b[0m\n\u001b[1;32m   2681\u001b[0m             \u001b[0;32mreturn\u001b[0m \u001b[0mself\u001b[0m\u001b[0;34m.\u001b[0m\u001b[0m_getitem_frame\u001b[0m\u001b[0;34m(\u001b[0m\u001b[0mkey\u001b[0m\u001b[0;34m)\u001b[0m\u001b[0;34m\u001b[0m\u001b[0m\n",
      "\u001b[0;32m~/anaconda3/lib/python3.6/site-packages/pandas/core/frame.py\u001b[0m in \u001b[0;36m_getitem_array\u001b[0;34m(self, key)\u001b[0m\n\u001b[1;32m   2721\u001b[0m             \u001b[0;32mreturn\u001b[0m \u001b[0mself\u001b[0m\u001b[0;34m.\u001b[0m\u001b[0m_take\u001b[0m\u001b[0;34m(\u001b[0m\u001b[0mindexer\u001b[0m\u001b[0;34m,\u001b[0m \u001b[0maxis\u001b[0m\u001b[0;34m=\u001b[0m\u001b[0;36m0\u001b[0m\u001b[0;34m)\u001b[0m\u001b[0;34m\u001b[0m\u001b[0m\n\u001b[1;32m   2722\u001b[0m         \u001b[0;32melse\u001b[0m\u001b[0;34m:\u001b[0m\u001b[0;34m\u001b[0m\u001b[0m\n\u001b[0;32m-> 2723\u001b[0;31m             \u001b[0mindexer\u001b[0m \u001b[0;34m=\u001b[0m \u001b[0mself\u001b[0m\u001b[0;34m.\u001b[0m\u001b[0mloc\u001b[0m\u001b[0;34m.\u001b[0m\u001b[0m_convert_to_indexer\u001b[0m\u001b[0;34m(\u001b[0m\u001b[0mkey\u001b[0m\u001b[0;34m,\u001b[0m \u001b[0maxis\u001b[0m\u001b[0;34m=\u001b[0m\u001b[0;36m1\u001b[0m\u001b[0;34m)\u001b[0m\u001b[0;34m\u001b[0m\u001b[0m\n\u001b[0m\u001b[1;32m   2724\u001b[0m             \u001b[0;32mreturn\u001b[0m \u001b[0mself\u001b[0m\u001b[0;34m.\u001b[0m\u001b[0m_take\u001b[0m\u001b[0;34m(\u001b[0m\u001b[0mindexer\u001b[0m\u001b[0;34m,\u001b[0m \u001b[0maxis\u001b[0m\u001b[0;34m=\u001b[0m\u001b[0;36m1\u001b[0m\u001b[0;34m)\u001b[0m\u001b[0;34m\u001b[0m\u001b[0m\n\u001b[1;32m   2725\u001b[0m \u001b[0;34m\u001b[0m\u001b[0m\n",
      "\u001b[0;32m~/anaconda3/lib/python3.6/site-packages/pandas/core/indexing.py\u001b[0m in \u001b[0;36m_convert_to_indexer\u001b[0;34m(self, obj, axis, is_setter)\u001b[0m\n\u001b[1;32m   1325\u001b[0m                 \u001b[0;32mif\u001b[0m \u001b[0mmask\u001b[0m\u001b[0;34m.\u001b[0m\u001b[0many\u001b[0m\u001b[0;34m(\u001b[0m\u001b[0;34m)\u001b[0m\u001b[0;34m:\u001b[0m\u001b[0;34m\u001b[0m\u001b[0m\n\u001b[1;32m   1326\u001b[0m                     raise KeyError('{mask} not in index'\n\u001b[0;32m-> 1327\u001b[0;31m                                    .format(mask=objarr[mask]))\n\u001b[0m\u001b[1;32m   1328\u001b[0m \u001b[0;34m\u001b[0m\u001b[0m\n\u001b[1;32m   1329\u001b[0m                 \u001b[0;32mreturn\u001b[0m \u001b[0mcom\u001b[0m\u001b[0;34m.\u001b[0m\u001b[0m_values_from_object\u001b[0m\u001b[0;34m(\u001b[0m\u001b[0mindexer\u001b[0m\u001b[0;34m)\u001b[0m\u001b[0;34m\u001b[0m\u001b[0m\n",
      "\u001b[0;31mKeyError\u001b[0m: \"['distance'] not in index\""
     ]
    }
   ],
   "source": [
    "X = test[features]\n",
    "predict = (gs.predict(X))"
   ]
  },
  {
   "cell_type": "code",
   "execution_count": null,
   "metadata": {},
   "outputs": [],
   "source": [
    "submissions = pd.DataFrame(predict, columns = ['wnvpresent'])"
   ]
  },
  {
   "cell_type": "code",
   "execution_count": null,
   "metadata": {},
   "outputs": [],
   "source": [
    "submissions['id'] = [id +1 for id in range(len(submissions))]"
   ]
  },
  {
   "cell_type": "code",
   "execution_count": null,
   "metadata": {},
   "outputs": [],
   "source": [
    "submissions = submissions[['id','wnvpresent' ]]\n"
   ]
  },
  {
   "cell_type": "code",
   "execution_count": null,
   "metadata": {},
   "outputs": [],
   "source": [
    "submissions.to_csv('../data/submission.csv', index = False)"
   ]
  },
  {
   "cell_type": "code",
   "execution_count": null,
   "metadata": {},
   "outputs": [],
   "source": []
  }
 ],
 "metadata": {
  "kernelspec": {
   "display_name": "Python [default]",
   "language": "python",
   "name": "python3"
  },
  "language_info": {
   "codemirror_mode": {
    "name": "ipython",
    "version": 3
   },
   "file_extension": ".py",
   "mimetype": "text/x-python",
   "name": "python",
   "nbconvert_exporter": "python",
   "pygments_lexer": "ipython3",
   "version": "3.6.5"
  }
 },
 "nbformat": 4,
 "nbformat_minor": 2
}
