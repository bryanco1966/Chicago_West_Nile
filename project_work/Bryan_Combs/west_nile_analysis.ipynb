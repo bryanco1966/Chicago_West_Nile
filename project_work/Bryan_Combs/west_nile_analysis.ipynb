{
 "cells": [
  {
   "cell_type": "markdown",
   "metadata": {},
   "source": [
    "# West Nile Analysis"
   ]
  },
  {
   "cell_type": "code",
   "execution_count": 72,
   "metadata": {},
   "outputs": [],
   "source": [
    "import pandas as pd\n",
    "import numpy as np\n",
    "from sklearn.metrics import roc_curve, auc\n",
    "from sklearn.ensemble import RandomForestClassifier, ExtraTreesClassifier,  AdaBoostClassifier\n",
    "from sklearn.cross_validation import train_test_split, KFold, cross_val_score\n",
    "from sklearn.grid_search import GridSearchCV\n",
    "from sklearn.metrics import classification_report, confusion_matrix\n",
    "import matplotlib.pyplot as plt\n",
    "import seaborn as sns\n",
    "\n"
   ]
  },
  {
   "cell_type": "code",
   "execution_count": 43,
   "metadata": {
    "scrolled": true
   },
   "outputs": [],
   "source": [
    "train = pd.read_csv('../data/trainw.csv')\n",
    "test  = pd.read_csv('../data/testw.csv')\n",
    "train.columns = [col.lower().replace(' ', '_') for col in train.columns]\n",
    "test.columns = [col.lower().replace(' ', '_') for col in test.columns]\n",
    "\n",
    "\n",
    "#read cleaned data and bring and trainform all variables to lower_camel_case\n",
    "                    "
   ]
  },
  {
   "cell_type": "code",
   "execution_count": 46,
   "metadata": {},
   "outputs": [],
   "source": [
    "#included features to set up X and Y from training set\n",
    "features = [ 'trap', 'block', 'month', \"street\", \n",
    "            'species_culex_pipiens', 'species_culex_pipiens/restuans',\n",
    "            'species_culex_restuans', 'species_culex_salinarius',\n",
    "            'species_culex_tarsalis', 'species_culex_territans', 'tmax_y', 'tmin_y', \n",
    "            'tavg_y', 'dewpoint_y',\n",
    "            'wetbulb_y', 'heat_y', 'cool_y', 'sunrise_y', 'sunset_y',\n",
    "            'depth_y', 'water1_y', 'snowfall_y', 'preciptotal_y', 'stnpressure_y',\n",
    "            'sealevel_y', 'resultspeed_y', 'resultdir_y', 'avgspeed_y', 'distance', 'dist_species_culex_pipiens',\n",
    "            'dist_species_culex_pipiens/restuans', 'dist_species_culex_restuans',\n",
    "            'dist_species_culex_salinarius', 'dist_species_culex_tarsalis',\n",
    "            'dist_species_culex_territans']\n",
    "\n",
    "X = train[features]\n",
    "y = train['wnvpresent']"
   ]
  },
  {
   "cell_type": "code",
   "execution_count": 47,
   "metadata": {},
   "outputs": [],
   "source": [
    "#do a train test split with stratified data due to unbalanced classes\n",
    "\n",
    "X_train, X_test, y_train, y_test = train_test_split(X, y, random_state= 6, stratify = y)"
   ]
  },
  {
   "cell_type": "markdown",
   "metadata": {},
   "source": [
    "#### Dealing with unbalanced classes\n",
    "\n",
    "We have unbalanced classes in our data set with only about 5.24% of our observations containing the West Nile Virus.  In order to better predict the minority class which is the class of interest we are oversampling the data where West Nile is present in our training data.  We leave the testing data untouched."
   ]
  },
  {
   "cell_type": "code",
   "execution_count": 49,
   "metadata": {
    "scrolled": false
   },
   "outputs": [
    {
     "data": {
      "text/html": [
       "<div>\n",
       "<style scoped>\n",
       "    .dataframe tbody tr th:only-of-type {\n",
       "        vertical-align: middle;\n",
       "    }\n",
       "\n",
       "    .dataframe tbody tr th {\n",
       "        vertical-align: top;\n",
       "    }\n",
       "\n",
       "    .dataframe thead th {\n",
       "        text-align: right;\n",
       "    }\n",
       "</style>\n",
       "<table border=\"1\" class=\"dataframe\">\n",
       "  <thead>\n",
       "    <tr style=\"text-align: right;\">\n",
       "      <th></th>\n",
       "      <th>trap</th>\n",
       "      <th>block</th>\n",
       "      <th>month</th>\n",
       "      <th>street</th>\n",
       "      <th>species_culex_pipiens</th>\n",
       "      <th>species_culex_pipiens/restuans</th>\n",
       "      <th>species_culex_restuans</th>\n",
       "      <th>species_culex_salinarius</th>\n",
       "      <th>species_culex_tarsalis</th>\n",
       "      <th>species_culex_territans</th>\n",
       "      <th>...</th>\n",
       "      <th>resultdir_y</th>\n",
       "      <th>avgspeed_y</th>\n",
       "      <th>distance</th>\n",
       "      <th>dist_species_culex_pipiens</th>\n",
       "      <th>dist_species_culex_pipiens/restuans</th>\n",
       "      <th>dist_species_culex_restuans</th>\n",
       "      <th>dist_species_culex_salinarius</th>\n",
       "      <th>dist_species_culex_tarsalis</th>\n",
       "      <th>dist_species_culex_territans</th>\n",
       "      <th>wnvpresent</th>\n",
       "    </tr>\n",
       "  </thead>\n",
       "  <tbody>\n",
       "    <tr>\n",
       "      <th>10477</th>\n",
       "      <td>76</td>\n",
       "      <td>0</td>\n",
       "      <td>9.0</td>\n",
       "      <td>62</td>\n",
       "      <td>0</td>\n",
       "      <td>0</td>\n",
       "      <td>1</td>\n",
       "      <td>0</td>\n",
       "      <td>0</td>\n",
       "      <td>0</td>\n",
       "      <td>...</td>\n",
       "      <td>9</td>\n",
       "      <td>4.6</td>\n",
       "      <td>0.488413</td>\n",
       "      <td>0.000000</td>\n",
       "      <td>0.000000</td>\n",
       "      <td>0.488413</td>\n",
       "      <td>0.0</td>\n",
       "      <td>0.0</td>\n",
       "      <td>0.0</td>\n",
       "      <td>0.0</td>\n",
       "    </tr>\n",
       "    <tr>\n",
       "      <th>1929</th>\n",
       "      <td>11</td>\n",
       "      <td>41</td>\n",
       "      <td>8.0</td>\n",
       "      <td>121</td>\n",
       "      <td>1</td>\n",
       "      <td>0</td>\n",
       "      <td>0</td>\n",
       "      <td>0</td>\n",
       "      <td>0</td>\n",
       "      <td>0</td>\n",
       "      <td>...</td>\n",
       "      <td>6</td>\n",
       "      <td>7.1</td>\n",
       "      <td>0.539636</td>\n",
       "      <td>0.539636</td>\n",
       "      <td>0.000000</td>\n",
       "      <td>0.000000</td>\n",
       "      <td>0.0</td>\n",
       "      <td>0.0</td>\n",
       "      <td>0.0</td>\n",
       "      <td>0.0</td>\n",
       "    </tr>\n",
       "    <tr>\n",
       "      <th>6</th>\n",
       "      <td>33</td>\n",
       "      <td>12</td>\n",
       "      <td>5.0</td>\n",
       "      <td>123</td>\n",
       "      <td>0</td>\n",
       "      <td>0</td>\n",
       "      <td>1</td>\n",
       "      <td>0</td>\n",
       "      <td>0</td>\n",
       "      <td>0</td>\n",
       "      <td>...</td>\n",
       "      <td>16</td>\n",
       "      <td>7.4</td>\n",
       "      <td>0.358443</td>\n",
       "      <td>0.000000</td>\n",
       "      <td>0.000000</td>\n",
       "      <td>0.358443</td>\n",
       "      <td>0.0</td>\n",
       "      <td>0.0</td>\n",
       "      <td>0.0</td>\n",
       "      <td>0.0</td>\n",
       "    </tr>\n",
       "    <tr>\n",
       "      <th>3078</th>\n",
       "      <td>9</td>\n",
       "      <td>21</td>\n",
       "      <td>9.0</td>\n",
       "      <td>39</td>\n",
       "      <td>0</td>\n",
       "      <td>1</td>\n",
       "      <td>0</td>\n",
       "      <td>0</td>\n",
       "      <td>0</td>\n",
       "      <td>0</td>\n",
       "      <td>...</td>\n",
       "      <td>5</td>\n",
       "      <td>6.0</td>\n",
       "      <td>1.771727</td>\n",
       "      <td>0.000000</td>\n",
       "      <td>1.771727</td>\n",
       "      <td>0.000000</td>\n",
       "      <td>0.0</td>\n",
       "      <td>0.0</td>\n",
       "      <td>0.0</td>\n",
       "      <td>1.0</td>\n",
       "    </tr>\n",
       "    <tr>\n",
       "      <th>3279</th>\n",
       "      <td>40</td>\n",
       "      <td>10</td>\n",
       "      <td>9.0</td>\n",
       "      <td>133</td>\n",
       "      <td>0</td>\n",
       "      <td>1</td>\n",
       "      <td>0</td>\n",
       "      <td>0</td>\n",
       "      <td>0</td>\n",
       "      <td>0</td>\n",
       "      <td>...</td>\n",
       "      <td>19</td>\n",
       "      <td>12.8</td>\n",
       "      <td>0.622362</td>\n",
       "      <td>0.000000</td>\n",
       "      <td>0.622362</td>\n",
       "      <td>0.000000</td>\n",
       "      <td>0.0</td>\n",
       "      <td>0.0</td>\n",
       "      <td>0.0</td>\n",
       "      <td>0.0</td>\n",
       "    </tr>\n",
       "  </tbody>\n",
       "</table>\n",
       "<p>5 rows × 36 columns</p>\n",
       "</div>"
      ],
      "text/plain": [
       "       trap  block  month  street  species_culex_pipiens  \\\n",
       "10477    76      0    9.0      62                      0   \n",
       "1929     11     41    8.0     121                      1   \n",
       "6        33     12    5.0     123                      0   \n",
       "3078      9     21    9.0      39                      0   \n",
       "3279     40     10    9.0     133                      0   \n",
       "\n",
       "       species_culex_pipiens/restuans  species_culex_restuans  \\\n",
       "10477                               0                       1   \n",
       "1929                                0                       0   \n",
       "6                                   0                       1   \n",
       "3078                                1                       0   \n",
       "3279                                1                       0   \n",
       "\n",
       "       species_culex_salinarius  species_culex_tarsalis  \\\n",
       "10477                         0                       0   \n",
       "1929                          0                       0   \n",
       "6                             0                       0   \n",
       "3078                          0                       0   \n",
       "3279                          0                       0   \n",
       "\n",
       "       species_culex_territans     ...      resultdir_y  avgspeed_y  distance  \\\n",
       "10477                        0     ...                9         4.6  0.488413   \n",
       "1929                         0     ...                6         7.1  0.539636   \n",
       "6                            0     ...               16         7.4  0.358443   \n",
       "3078                         0     ...                5         6.0  1.771727   \n",
       "3279                         0     ...               19        12.8  0.622362   \n",
       "\n",
       "       dist_species_culex_pipiens  dist_species_culex_pipiens/restuans  \\\n",
       "10477                    0.000000                             0.000000   \n",
       "1929                     0.539636                             0.000000   \n",
       "6                        0.000000                             0.000000   \n",
       "3078                     0.000000                             1.771727   \n",
       "3279                     0.000000                             0.622362   \n",
       "\n",
       "       dist_species_culex_restuans  dist_species_culex_salinarius  \\\n",
       "10477                     0.488413                            0.0   \n",
       "1929                      0.000000                            0.0   \n",
       "6                         0.358443                            0.0   \n",
       "3078                      0.000000                            0.0   \n",
       "3279                      0.000000                            0.0   \n",
       "\n",
       "       dist_species_culex_tarsalis  dist_species_culex_territans  wnvpresent  \n",
       "10477                          0.0                           0.0         0.0  \n",
       "1929                           0.0                           0.0         0.0  \n",
       "6                              0.0                           0.0         0.0  \n",
       "3078                           0.0                           0.0         1.0  \n",
       "3279                           0.0                           0.0         0.0  \n",
       "\n",
       "[5 rows x 36 columns]"
      ]
     },
     "execution_count": 49,
     "metadata": {},
     "output_type": "execute_result"
    }
   ],
   "source": [
    "#merging the target variable back onto the training data in order to sample off its value\n",
    "\n",
    "datasets = (X_train, y_train)\n",
    "traincombined = pd.concat(datasets, axis = 1)\n",
    "traincombined.head()"
   ]
  },
  {
   "cell_type": "code",
   "execution_count": 51,
   "metadata": {},
   "outputs": [],
   "source": [
    "#Select West nile cases and generate 5000 samples\n",
    "west_nile = traincombined[traincombined.wnvpresent == 1]\n",
    "extra_west_nile = west_nile.sample(n = 5000, replace = True, random_state = 63, axis = 0)"
   ]
  },
  {
   "cell_type": "code",
   "execution_count": 52,
   "metadata": {},
   "outputs": [],
   "source": [
    "#merge samples onto original data\n",
    "merge = [traincombined, extra_west_nile]\n",
    "traincombined = pd.concat(merge, axis = 0)"
   ]
  },
  {
   "cell_type": "code",
   "execution_count": 55,
   "metadata": {
    "scrolled": true
   },
   "outputs": [],
   "source": [
    "#Break our training data back into a X and a y\n",
    "X_train = traincombined[features]\n",
    "y_train = traincombined['wnvpresent']"
   ]
  },
  {
   "cell_type": "markdown",
   "metadata": {},
   "source": [
    "### Set up our model for grid search evaluation"
   ]
  },
  {
   "cell_type": "code",
   "execution_count": 79,
   "metadata": {
    "scrolled": false
   },
   "outputs": [],
   "source": [
    "ad = AdaBoostClassifier()\n",
    "rf_params = {\n",
    "    'n_estimators'       : [ 200, 300, 400],\n",
    "    'learning_rate'          : [.1, .5, .7, .9 ]\n",
    "   }\n",
    "\n"
   ]
  },
  {
   "cell_type": "code",
   "execution_count": 80,
   "metadata": {},
   "outputs": [],
   "source": [
    "gs = GridSearchCV(ad, \n",
    "                  param_grid=rf_params,\n",
    "                 scoring = 'recall', \n",
    "                  cv = 4)\n"
   ]
  },
  {
   "cell_type": "code",
   "execution_count": 81,
   "metadata": {},
   "outputs": [
    {
     "name": "stdout",
     "output_type": "stream",
     "text": [
      "0.7929059835810613\n",
      "{'learning_rate': 0.9, 'n_estimators': 400}\n",
      "0.7246376811594203\n"
     ]
    }
   ],
   "source": [
    "gs.fit(X_train, y_train)\n",
    "print(gs.best_score_)\n",
    "print(gs.best_params_)\n",
    "print(gs.score(X_test, y_test))\n"
   ]
  },
  {
   "cell_type": "code",
   "execution_count": 82,
   "metadata": {},
   "outputs": [],
   "source": [
    "y_hat = gs.predict(X_test)\n",
    "y_hat_train = gs.predict(X_train)\n",
    "y_hat_prob = gs.predict_proba(X_test)\n"
   ]
  },
  {
   "cell_type": "code",
   "execution_count": 83,
   "metadata": {},
   "outputs": [
    {
     "name": "stdout",
     "output_type": "stream",
     "text": [
      "             precision    recall  f1-score   support\n",
      "\n",
      "        0.0       0.86      0.81      0.83      7466\n",
      "        1.0       0.76      0.81      0.78      5413\n",
      "\n",
      "avg / total       0.81      0.81      0.81     12879\n",
      "\n"
     ]
    }
   ],
   "source": [
    "print(classification_report( y_train, y_hat_train))"
   ]
  },
  {
   "cell_type": "code",
   "execution_count": 84,
   "metadata": {},
   "outputs": [
    {
     "name": "stdout",
     "output_type": "stream",
     "text": [
      "             precision    recall  f1-score   support\n",
      "\n",
      "        0.0       0.98      0.79      0.88      2489\n",
      "        1.0       0.16      0.72      0.27       138\n",
      "\n",
      "avg / total       0.94      0.79      0.85      2627\n",
      "\n"
     ]
    }
   ],
   "source": [
    "print(classification_report(y_test, y_hat))"
   ]
  },
  {
   "cell_type": "code",
   "execution_count": 85,
   "metadata": {
    "scrolled": true
   },
   "outputs": [
    {
     "data": {
      "text/plain": [
       "array([[6058, 1408],\n",
       "       [1025, 4388]])"
      ]
     },
     "execution_count": 85,
     "metadata": {},
     "output_type": "execute_result"
    }
   ],
   "source": [
    "confusion_matrix(y_train, y_hat_train)"
   ]
  },
  {
   "cell_type": "code",
   "execution_count": 86,
   "metadata": {},
   "outputs": [
    {
     "data": {
      "text/plain": [
       "array([[1978,  511],\n",
       "       [  38,  100]])"
      ]
     },
     "execution_count": 86,
     "metadata": {},
     "output_type": "execute_result"
    }
   ],
   "source": [
    "confusion_matrix(y_test, y_hat)"
   ]
  },
  {
   "cell_type": "code",
   "execution_count": 87,
   "metadata": {},
   "outputs": [
    {
     "data": {
      "text/plain": [
       "0.0    2489\n",
       "1.0     138\n",
       "Name: wnvpresent, dtype: int64"
      ]
     },
     "execution_count": 87,
     "metadata": {},
     "output_type": "execute_result"
    }
   ],
   "source": [
    "y_test.value_counts()"
   ]
  },
  {
   "cell_type": "code",
   "execution_count": 88,
   "metadata": {},
   "outputs": [],
   "source": [
    "X = test[features]\n",
    "predict = (gs.predict(X))\n",
    "predprob = gs.predict_proba(X)"
   ]
  },
  {
   "cell_type": "code",
   "execution_count": 89,
   "metadata": {},
   "outputs": [
    {
     "data": {
      "text/plain": [
       "array([[0.52454105, 0.47545895],\n",
       "       [0.52537331, 0.47462669],\n",
       "       [0.52430243, 0.47569757],\n",
       "       ...,\n",
       "       [0.50344715, 0.49655285],\n",
       "       [0.50344715, 0.49655285],\n",
       "       [0.50344715, 0.49655285]])"
      ]
     },
     "execution_count": 89,
     "metadata": {},
     "output_type": "execute_result"
    }
   ],
   "source": [
    "predprob"
   ]
  },
  {
   "cell_type": "code",
   "execution_count": 90,
   "metadata": {},
   "outputs": [],
   "source": [
    "y_train_pred_proba = gs.predict_proba(X_train)\n",
    "y_train_pred = gs.predict(X_train)\n",
    "y_test_pred_proba = gs.predict_proba(X_test)\n",
    "y_test_pred = gs.predict(X_test)"
   ]
  },
  {
   "cell_type": "code",
   "execution_count": 91,
   "metadata": {},
   "outputs": [],
   "source": [
    "#modifying train and testing data to allow for changing prob thresholds and printing the \n",
    "#roc curves\n",
    "X_train.loc[:, 'actual_y'] = y_train\n",
    "X_train.loc[:, 'predicted_label'] = y_train_pred\n",
    "X_train.loc[:, 'predicted_proba'] = y_train_pred_proba[:, 1]\n"
   ]
  },
  {
   "cell_type": "code",
   "execution_count": 92,
   "metadata": {},
   "outputs": [],
   "source": [
    "X_test.loc[:, 'actual_y'] = y_test\n",
    "X_test.loc[:, 'predicted_label'] = y_test_pred\n",
    "X_test.loc[:, 'predicted_proba'] = y_test_pred_proba[:, 1]\n"
   ]
  },
  {
   "cell_type": "code",
   "execution_count": 30,
   "metadata": {},
   "outputs": [
    {
     "name": "stdout",
     "output_type": "stream",
     "text": [
      "Test  0.1\n",
      "[[1403 1086]\n",
      " [   9  129]]\n",
      " Train  0.1\n",
      "[[4423 3043]\n",
      " [   0 5413]]\n",
      "Test  0.12\n",
      "[[1474 1015]\n",
      " [  10  128]]\n",
      " Train  0.12\n",
      "[[4689 2777]\n",
      " [   0 5413]]\n",
      "Test  0.14\n",
      "[[1551  938]\n",
      " [  14  124]]\n",
      " Train  0.14\n",
      "[[4895 2571]\n",
      " [   0 5413]]\n",
      "Test  0.16\n",
      "[[1619  870]\n",
      " [  20  118]]\n",
      " Train  0.16\n",
      "[[5098 2368]\n",
      " [   0 5413]]\n",
      "Test  0.18\n",
      "[[1674  815]\n",
      " [  21  117]]\n",
      " Train  0.18\n",
      "[[5285 2181]\n",
      " [   0 5413]]\n",
      "Test  0.2\n",
      "[[1722  767]\n",
      " [  25  113]]\n",
      " Train  0.2\n",
      "[[5435 2031]\n",
      " [   0 5413]]\n",
      "Test  0.22\n",
      "[[1779  710]\n",
      " [  32  106]]\n",
      " Train  0.22\n",
      "[[5585 1881]\n",
      " [   0 5413]]\n",
      "Test  0.24\n",
      "[[1820  669]\n",
      " [  36  102]]\n",
      " Train  0.24\n",
      "[[5717 1749]\n",
      " [   0 5413]]\n",
      "Test  0.26\n",
      "[[1867  622]\n",
      " [  45   93]]\n",
      " Train  0.26\n",
      "[[5879 1587]\n",
      " [  17 5396]]\n",
      "Test  0.28\n",
      "[[1898  591]\n",
      " [  47   91]]\n",
      " Train  0.28\n",
      "[[5987 1479]\n",
      " [  17 5396]]\n",
      "Test  0.3\n",
      "[[1930  559]\n",
      " [  48   90]]\n",
      " Train  0.3\n",
      "[[6077 1389]\n",
      " [  17 5396]]\n",
      "Test  0.32\n",
      "[[1966  523]\n",
      " [  52   86]]\n",
      " Train  0.32\n",
      "[[6180 1286]\n",
      " [  17 5396]]\n",
      "Test  0.34\n",
      "[[2005  484]\n",
      " [  54   84]]\n",
      " Train  0.34\n",
      "[[6272 1194]\n",
      " [  25 5388]]\n",
      "Test  0.36\n",
      "[[2045  444]\n",
      " [  60   78]]\n",
      " Train  0.36\n",
      "[[6368 1098]\n",
      " [  35 5378]]\n",
      "Test  0.38\n",
      "[[2081  408]\n",
      " [  62   76]]\n",
      " Train  0.38\n",
      "[[6454 1012]\n",
      " [  48 5365]]\n",
      "Test  0.4\n",
      "[[2113  376]\n",
      " [  66   72]]\n",
      " Train  0.4\n",
      "[[6537  929]\n",
      " [  67 5346]]\n",
      "Test  0.42\n",
      "[[2144  345]\n",
      " [  68   70]]\n",
      " Train  0.42\n",
      "[[6666  800]\n",
      " [ 110 5303]]\n",
      "Test  0.44\n",
      "[[2168  321]\n",
      " [  71   67]]\n",
      " Train  0.44\n",
      "[[6737  729]\n",
      " [ 110 5303]]\n",
      "Test  0.46\n",
      "[[2189  300]\n",
      " [  74   64]]\n",
      " Train  0.46\n",
      "[[6801  665]\n",
      " [ 126 5287]]\n",
      "Test  0.48\n",
      "[[2214  275]\n",
      " [  77   61]]\n",
      " Train  0.48\n",
      "[[6841  625]\n",
      " [ 126 5287]]\n"
     ]
    }
   ],
   "source": [
    "#print out confusion matrices from .1 .5 by .02 for Xtest and Xtrain\n",
    "for prob in range(10, 50, 2):\n",
    "    proba = prob/100\n",
    "    \n",
    "    X_test.loc[:, 'predicted_label']= X_test['predicted_proba'].map(\n",
    "    lambda p: 1 if p > proba else 0)\n",
    "    \n",
    "    X_train.loc[:, 'predicted_label']= X_train['predicted_proba'].map(\n",
    "    lambda p: 1 if p > proba else 0)\n",
    "    \n",
    "    X_test['predicted_label']\n",
    "    print('Test  ' + str(proba))\n",
    "    print(confusion_matrix(y_test, X_test['predicted_label']))\n",
    "    print(' Train  ' + str(proba))\n",
    "    print(confusion_matrix(y_train, X_train['predicted_label']))\n"
   ]
  },
  {
   "cell_type": "code",
   "execution_count": 93,
   "metadata": {},
   "outputs": [],
   "source": [
    "fpr, tpr, _ = roc_curve(y_train, X_train['predicted_proba'])\n",
    "roc_auc = auc(fpr, tpr)\n"
   ]
  },
  {
   "cell_type": "code",
   "execution_count": 94,
   "metadata": {},
   "outputs": [
    {
     "data": {
      "image/png": "[encoded data removed]",
      "text/plain": [
       "<matplotlib.figure.Figure at 0x119d80e48>"
      ]
     },
     "metadata": {},
     "output_type": "display_data"
    }
   ],
   "source": [
    "# Plot \n",
    "plt.figure(figsize = (12,7))\n",
    "line_width = 3\n",
    "\n",
    "plt.plot(fpr, tpr, lw = line_width, color=\"darkorange\", label = \"ROC Curve %.2f\" % roc_auc)\n",
    "plt.plot([0,1], [0, 1], lw = line_width, linestyle=\"--\", color=\"navy\")\n",
    "\n",
    "plt.xlim([0.0, 1.0])\n",
    "plt.ylim([0.0, 1.05])\n",
    "plt.xlabel('False Positive Rate')\n",
    "plt.ylabel('True Positive Rate')\n",
    "plt.title('ROC')\n",
    "plt.legend(loc=\"lower right\")\n",
    "plt.show()"
   ]
  },
  {
   "cell_type": "code",
   "execution_count": 95,
   "metadata": {},
   "outputs": [],
   "source": [
    "fpr, tpr, _ = roc_curve(y_test, X_test['predicted_proba'])\n",
    "roc_auc = auc(fpr, tpr)"
   ]
  },
  {
   "cell_type": "code",
   "execution_count": 96,
   "metadata": {
    "scrolled": true
   },
   "outputs": [
    {
     "data": {
      "image/png": "[encoded data removed]",
      "text/plain": [
       "<matplotlib.figure.Figure at 0x119684518>"
      ]
     },
     "metadata": {},
     "output_type": "display_data"
    }
   ],
   "source": [
    "# Plot \n",
    "plt.figure(figsize = (12,7))\n",
    "line_width = 3\n",
    "\n",
    "plt.plot(fpr, tpr, lw = line_width, color=\"darkorange\", label = \"ROC Curve %.2f\" % roc_auc)\n",
    "plt.plot([0,1], [0, 1], lw = line_width, linestyle=\"--\", color=\"navy\")\n",
    "\n",
    "plt.xlim([0.0, 1.0])\n",
    "plt.ylim([0.0, 1.05])\n",
    "plt.xlabel('False Positive Rate')\n",
    "plt.ylabel('True Positive Rate')\n",
    "plt.title('ROC')\n",
    "plt.legend(loc=\"lower right\")\n",
    "plt.show()"
   ]
  },
  {
   "cell_type": "code",
   "execution_count": 98,
   "metadata": {},
   "outputs": [],
   "source": [
    "rf_predict = gs.predict(X)\n",
    "rf_proba = gs.predict_proba(X)[:,1]"
   ]
  },
  {
   "cell_type": "code",
   "execution_count": 36,
   "metadata": {},
   "outputs": [
    {
     "data": {
      "text/plain": [
       "array([0.12048988, 0.01924917, 0.11108963, ..., 0.04886662, 0.04886662,\n",
       "       0.04886662])"
      ]
     },
     "execution_count": 36,
     "metadata": {},
     "output_type": "execute_result"
    }
   ],
   "source": [
    "rf_proba"
   ]
  },
  {
   "cell_type": "code",
   "execution_count": 99,
   "metadata": {
    "scrolled": true
   },
   "outputs": [],
   "source": [
    "submissions = pd.DataFrame(rf_predict, columns = ['wnvpresent'])\n",
    "submissions['predproba'] = rf_proba\n",
    "submissions.loc[:, 'wnvpresent']= submissions['predproba'].map(\n",
    "    lambda p: 1 if p > .5 else 0)"
   ]
  },
  {
   "cell_type": "code",
   "execution_count": 100,
   "metadata": {},
   "outputs": [
    {
     "data": {
      "text/plain": [
       "0    109989\n",
       "1      6304\n",
       "Name: wnvpresent, dtype: int64"
      ]
     },
     "execution_count": 100,
     "metadata": {},
     "output_type": "execute_result"
    }
   ],
   "source": [
    "submissions.wnvpresent.value_counts()"
   ]
  },
  {
   "cell_type": "code",
   "execution_count": null,
   "metadata": {},
   "outputs": [],
   "source": []
  },
  {
   "cell_type": "code",
   "execution_count": 101,
   "metadata": {},
   "outputs": [],
   "source": [
    "submissions['id'] = [id +1 for id in range(len(submissions))]"
   ]
  },
  {
   "cell_type": "code",
   "execution_count": 102,
   "metadata": {},
   "outputs": [],
   "source": [
    "submissions = submissions[['id','wnvpresent' ]]\n"
   ]
  },
  {
   "cell_type": "code",
   "execution_count": 103,
   "metadata": {},
   "outputs": [],
   "source": [
    "submissions.to_csv('../data/submission.csv', index = False)"
   ]
  },
  {
   "cell_type": "code",
   "execution_count": null,
   "metadata": {},
   "outputs": [],
   "source": []
  }
 ],
 "metadata": {
  "kernelspec": {
   "display_name": "Python 3",
   "language": "python",
   "name": "python3"
  },
  "language_info": {
   "codemirror_mode": {
    "name": "ipython",
    "version": 3
   },
   "file_extension": ".py",
   "mimetype": "text/x-python",
   "name": "python",
   "nbconvert_exporter": "python",
   "pygments_lexer": "ipython3",
   "version": "3.6.4"
  }
 },
 "nbformat": 4,
 "nbformat_minor": 2
}
